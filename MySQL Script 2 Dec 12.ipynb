{
 "cells": [
  {
   "cell_type": "code",
   "execution_count": 4,
   "metadata": {
    "collapsed": true
   },
   "outputs": [],
   "source": [
    "import matplotlib.pyplot as plt\n",
    "\n",
    "import MySQLdb\n",
    "from datetime import datetime\n",
    "import numpy as np\n",
    "import pandas as pd\n",
    "import re\n",
    "import math as math\n",
    "import trilatWrapper as tw\n",
    "import trilatDistWrapper as tdw\n"
   ]
  },
  {
   "cell_type": "code",
   "execution_count": 2,
   "metadata": {},
   "outputs": [
    {
     "data": {
      "text/plain": [
       "(('GatewayLocation',), ('dtoa',), ('fport',))"
      ]
     },
     "execution_count": 2,
     "metadata": {},
     "output_type": "execute_result"
    }
   ],
   "source": [
    "db = MySQLdb.connect(host=\"hgltdb.ckapwzvj8jd5.us-west-1.rds.amazonaws.com\",  # your host, usually localhost\n",
    "                     user=\"logisticadmin\",  # your username\n",
    "                     passwd=\"ppnanaapr29\",  # your password\n",
    "                     db=\"lgdb\")  # name of the data base\n",
    "\n",
    "# you must create a Cursor object. It will let\n",
    "#  you execute all the queries you need\n",
    "cur = db.cursor()\n",
    "\n",
    "# Use all the SQL you like\n",
    "# cur.execute(\"SELECT t.name AS table_name, SCHEMA_NAME(schema_id) AS schema_name, c.name AS column_name FROM sys.tables AS t \tINNER JOIN sys.columns c ON t.OBJECT_ID = c.OBJECT_ID where t.name = 'ProductItem'  AND C.name like '%retail%' ORDER BY schema_name, table_name\")\n",
    "cur.execute(\"show tables\")\n",
    "cur.fetchall()"
   ]
  },
  {
   "cell_type": "code",
   "execution_count": 3,
   "metadata": {
    "collapsed": true
   },
   "outputs": [],
   "source": [
    "filename = 'ServerData' + str(datetime.now().date()).replace(\" \", \"\").replace(\":\", \"-\") + '.csv'\n",
    "\n",
    "f = open(filename, 'w')"
   ]
  },
  {
   "cell_type": "code",
   "execution_count": 4,
   "metadata": {},
   "outputs": [
    {
     "data": {
      "text/plain": [
       "704L"
      ]
     },
     "execution_count": 4,
     "metadata": {},
     "output_type": "execute_result"
    }
   ],
   "source": [
    "cur.execute(\"SELECT * FROM dtoa\")"
   ]
  },
  {
   "cell_type": "code",
   "execution_count": 5,
   "metadata": {},
   "outputs": [
    {
     "name": "stdout",
     "output_type": "stream",
     "text": [
      "(1L, 0L, 1L, 239757772L, '2017-12-10T00:21:48.377136Z', '172.56.39.153:42521', '0.00000000', '0.00000000', None, None, '37.40283', '-121.97539', 15.0, 'Z33P3yYyiqf4yVM13rx3Pw==', 188313836L, None, None, None, -80.0, 'rv\\xc3\\xbf\\x00.\\x05\\x05\\xc3\\x84')\n"
     ]
    }
   ],
   "source": [
    "row1 = cur.fetchone()\n",
    "print row1"
   ]
  },
  {
   "cell_type": "code",
   "execution_count": 6,
   "metadata": {
    "collapsed": true
   },
   "outputs": [],
   "source": [
    "prevLatLonDict = {}\n",
    "for row in cur.fetchall():\n",
    "    if (row[6] and row[7]):\n",
    "        if (row[11] and row[12]):\n",
    "            prevLat = row[11]\n",
    "            prevLon = row[12]\n",
    "            prevLatLonDict[row[5]] = [prevLat, prevLon]\n",
    "            f.write(str(row))\n",
    "            f.write('\\n')\n",
    "        else:\n",
    "            try:\n",
    "                extrapLat, extrapLon = prevLatLonDict.get(row[5])\n",
    "                newRow = str(row[0]) + \",\" + str(row[1]) + \",\" + str(row[2]) + \",\" + str(row[3]) + \",\" + str(\n",
    "                    row[4]) + \",\" + str(row[5]) + \",\" + str(row[6]) + \",\" + str(row[7]) + \",\" + str(row[8]) + \",\" + str(\n",
    "                    row[9]) + \",\" + str(row[10]) + \",\" + extrapLat + \",\" + extrapLon + \",\" + str(row[13]) + \",\" + str(\n",
    "                    row[14])\n",
    "                f.write(newRow)\n",
    "                f.write('\\n')\n",
    "            except:\n",
    "                pass\n",
    "\n",
    "f.close()"
   ]
  },
  {
   "cell_type": "code",
   "execution_count": 5,
   "metadata": {
    "collapsed": true
   },
   "outputs": [],
   "source": [
    "filename = 'ServerData2017-12-16.csv'\n",
    "serverdata = pd.read_csv(filename,\n",
    "                         names=[\"RID\", \"MsgNo\", \"TID\", \"tmst\", \"ts\", \"gwip\", \"gpslat\", \"gpslon\", \"temp\", \"pressure\",\n",
    "                                 \"gwlat\", \"gwlon\", \"lsnr\", \"etime\", \"ftime\",\"extraCol2\",\"extraCol3\",\n",
    "                               \"extraCol4\",\"rssic\",\"extraCol6\"])\n"
   ]
  },
  {
   "cell_type": "code",
   "execution_count": 6,
   "metadata": {},
   "outputs": [
    {
     "data": {
      "text/plain": [
       "'ServerData2017-12-16.csv'"
      ]
     },
     "execution_count": 6,
     "metadata": {},
     "output_type": "execute_result"
    }
   ],
   "source": [
    "filename"
   ]
  },
  {
   "cell_type": "code",
   "execution_count": 7,
   "metadata": {},
   "outputs": [
    {
     "data": {
      "text/plain": [
       "RID           object\n",
       "MsgNo         object\n",
       "TID           object\n",
       "tmst          object\n",
       "ts            object\n",
       "gwip          object\n",
       "gpslat        object\n",
       "gpslon        object\n",
       "temp          object\n",
       "pressure      object\n",
       "gwlat         object\n",
       "gwlon         object\n",
       "lsnr         float64\n",
       "etime         object\n",
       "ftime         object\n",
       "extraCol2     object\n",
       "extraCol3     object\n",
       "extraCol4     object\n",
       "rssic         object\n",
       "extraCol6     object\n",
       "dtype: object"
      ]
     },
     "execution_count": 7,
     "metadata": {},
     "output_type": "execute_result"
    }
   ],
   "source": [
    "serverdata.dtypes"
   ]
  },
  {
   "cell_type": "code",
   "execution_count": 9,
   "metadata": {},
   "outputs": [
    {
     "data": {
      "text/html": [
       "<div>\n",
       "<style>\n",
       "    .dataframe thead tr:only-child th {\n",
       "        text-align: right;\n",
       "    }\n",
       "\n",
       "    .dataframe thead th {\n",
       "        text-align: left;\n",
       "    }\n",
       "\n",
       "    .dataframe tbody tr th {\n",
       "        vertical-align: top;\n",
       "    }\n",
       "</style>\n",
       "<table border=\"1\" class=\"dataframe\">\n",
       "  <thead>\n",
       "    <tr style=\"text-align: right;\">\n",
       "      <th></th>\n",
       "      <th>RID</th>\n",
       "      <th>MsgNo</th>\n",
       "      <th>TID</th>\n",
       "      <th>tmst</th>\n",
       "      <th>ts</th>\n",
       "      <th>gwip</th>\n",
       "      <th>gpslat</th>\n",
       "      <th>gpslon</th>\n",
       "      <th>temp</th>\n",
       "      <th>pressure</th>\n",
       "      <th>gwlat</th>\n",
       "      <th>gwlon</th>\n",
       "      <th>lsnr</th>\n",
       "      <th>etime</th>\n",
       "      <th>ftime</th>\n",
       "      <th>extraCol2</th>\n",
       "      <th>extraCol3</th>\n",
       "      <th>extraCol4</th>\n",
       "      <th>rssic</th>\n",
       "      <th>extraCol6</th>\n",
       "    </tr>\n",
       "  </thead>\n",
       "  <tbody>\n",
       "    <tr>\n",
       "      <th>0</th>\n",
       "      <td>(2L</td>\n",
       "      <td>0L</td>\n",
       "      <td>1L</td>\n",
       "      <td>121142060L</td>\n",
       "      <td>'2017-12-10T00:21:48.377132Z'</td>\n",
       "      <td>'172.56.39.253:61960'</td>\n",
       "      <td>'0.00000000'</td>\n",
       "      <td>'0.00000000'</td>\n",
       "      <td>None</td>\n",
       "      <td>None</td>\n",
       "      <td>'37.40053'</td>\n",
       "      <td>'-121.97447'</td>\n",
       "      <td>15.0</td>\n",
       "      <td>'qH5shdgpc2UeDvnl2wRsNg=='</td>\n",
       "      <td>188313113L</td>\n",
       "      <td>None</td>\n",
       "      <td>None</td>\n",
       "      <td>None</td>\n",
       "      <td>-76.0</td>\n",
       "      <td>'rv\\xc3\\xbf\\x00.\\x05\\x05!')</td>\n",
       "    </tr>\n",
       "    <tr>\n",
       "      <th>1</th>\n",
       "      <td>(3L</td>\n",
       "      <td>0L</td>\n",
       "      <td>1L</td>\n",
       "      <td>289966380L</td>\n",
       "      <td>'2017-12-10T00:21:48.377133Z'</td>\n",
       "      <td>'172.56.38.52:23411'</td>\n",
       "      <td>'0.00000000'</td>\n",
       "      <td>'0.00000000'</td>\n",
       "      <td>None</td>\n",
       "      <td>None</td>\n",
       "      <td>'37.40026'</td>\n",
       "      <td>'-121.9774'</td>\n",
       "      <td>13.0</td>\n",
       "      <td>'vBgcPKK4LixS0vbPh9jfEA=='</td>\n",
       "      <td>188314884L</td>\n",
       "      <td>None</td>\n",
       "      <td>None</td>\n",
       "      <td>None</td>\n",
       "      <td>-98.0</td>\n",
       "      <td>'rv\\xc3\\xbf\\x00.\\x05\\t\\x16')</td>\n",
       "    </tr>\n",
       "    <tr>\n",
       "      <th>2</th>\n",
       "      <td>(4L</td>\n",
       "      <td>0L</td>\n",
       "      <td>1L</td>\n",
       "      <td>187274276L</td>\n",
       "      <td>'2017-12-10T00:21:48.377135Z'</td>\n",
       "      <td>'172.56.39.79:39374'</td>\n",
       "      <td>'0.00000000'</td>\n",
       "      <td>'0.00000000'</td>\n",
       "      <td>None</td>\n",
       "      <td>None</td>\n",
       "      <td>'37.4023'</td>\n",
       "      <td>'-121.97353'</td>\n",
       "      <td>15.0</td>\n",
       "      <td>'cfVH3xKsR7nwpjuhDWDPEw=='</td>\n",
       "      <td>188312432L</td>\n",
       "      <td>None</td>\n",
       "      <td>None</td>\n",
       "      <td>None</td>\n",
       "      <td>-61.0</td>\n",
       "      <td>'rv\\xc3\\xbf\\x00.\\x05\\x07\\xc2\\xac')</td>\n",
       "    </tr>\n",
       "    <tr>\n",
       "      <th>3</th>\n",
       "      <td>(5L</td>\n",
       "      <td>1L</td>\n",
       "      <td>1L</td>\n",
       "      <td>197484308L</td>\n",
       "      <td>'2017-12-10T00:21:58.587167Z'</td>\n",
       "      <td>'172.56.39.79:39374'</td>\n",
       "      <td>'0.00000000'</td>\n",
       "      <td>'0.00000000'</td>\n",
       "      <td>None</td>\n",
       "      <td>None</td>\n",
       "      <td>'37.4023'</td>\n",
       "      <td>'-121.97353'</td>\n",
       "      <td>15.0</td>\n",
       "      <td>'mwRiLvQlt3urHdDnwfwwpw=='</td>\n",
       "      <td>398346484L</td>\n",
       "      <td>None</td>\n",
       "      <td>None</td>\n",
       "      <td>None</td>\n",
       "      <td>-62.0</td>\n",
       "      <td>'rv\\xc3\\xbf\\x00.\\x05\\x07\\xc2\\xac')</td>\n",
       "    </tr>\n",
       "    <tr>\n",
       "      <th>4</th>\n",
       "      <td>(6L</td>\n",
       "      <td>1L</td>\n",
       "      <td>1L</td>\n",
       "      <td>300176420L</td>\n",
       "      <td>'2017-12-10T00:21:58.587171Z'</td>\n",
       "      <td>'172.56.38.52:23411'</td>\n",
       "      <td>'0.00000000'</td>\n",
       "      <td>'0.00000000'</td>\n",
       "      <td>None</td>\n",
       "      <td>None</td>\n",
       "      <td>'37.40026'</td>\n",
       "      <td>'-121.97741'</td>\n",
       "      <td>9.0</td>\n",
       "      <td>'/n+OBy5QwjUGu2K7Lk15fg=='</td>\n",
       "      <td>398348784L</td>\n",
       "      <td>None</td>\n",
       "      <td>None</td>\n",
       "      <td>None</td>\n",
       "      <td>-100.0</td>\n",
       "      <td>'rv\\xc3\\xbf\\x00.\\x05\\t\\x16')</td>\n",
       "    </tr>\n",
       "    <tr>\n",
       "      <th>5</th>\n",
       "      <td>(7L</td>\n",
       "      <td>1L</td>\n",
       "      <td>1L</td>\n",
       "      <td>249967804L</td>\n",
       "      <td>'2017-12-10T00:21:58.587165Z'</td>\n",
       "      <td>'172.56.39.153:42521'</td>\n",
       "      <td>'0.00000000'</td>\n",
       "      <td>'0.00000000'</td>\n",
       "      <td>None</td>\n",
       "      <td>None</td>\n",
       "      <td>'37.40282'</td>\n",
       "      <td>'-121.97539'</td>\n",
       "      <td>6.0</td>\n",
       "      <td>'MQHDh6u/dfmG31G+7YsteA=='</td>\n",
       "      <td>398347525L</td>\n",
       "      <td>None</td>\n",
       "      <td>None</td>\n",
       "      <td>None</td>\n",
       "      <td>-93.0</td>\n",
       "      <td>'rv\\xc3\\xbf\\x00.\\x05\\x05\\xc3\\x84')</td>\n",
       "    </tr>\n",
       "    <tr>\n",
       "      <th>6</th>\n",
       "      <td>(8L</td>\n",
       "      <td>1L</td>\n",
       "      <td>1L</td>\n",
       "      <td>131352100L</td>\n",
       "      <td>'2017-12-10T00:21:58.587169Z'</td>\n",
       "      <td>'172.56.39.253:61960'</td>\n",
       "      <td>'0.00000000'</td>\n",
       "      <td>'0.00000000'</td>\n",
       "      <td>None</td>\n",
       "      <td>None</td>\n",
       "      <td>'37.40053'</td>\n",
       "      <td>'-121.97447'</td>\n",
       "      <td>13.0</td>\n",
       "      <td>'u+pxs+zo+XO1XqhcHDUGkA=='</td>\n",
       "      <td>398347431L</td>\n",
       "      <td>None</td>\n",
       "      <td>None</td>\n",
       "      <td>None</td>\n",
       "      <td>-81.0</td>\n",
       "      <td>'rv\\xc3\\xbf\\x00.\\x05\\x05!')</td>\n",
       "    </tr>\n",
       "    <tr>\n",
       "      <th>7</th>\n",
       "      <td>(9L</td>\n",
       "      <td>2L</td>\n",
       "      <td>1L</td>\n",
       "      <td>310386860L</td>\n",
       "      <td>'2017-12-10T00:22:08.797609Z'</td>\n",
       "      <td>'172.56.38.52:23411'</td>\n",
       "      <td>'0.00000000'</td>\n",
       "      <td>'0.00000000'</td>\n",
       "      <td>None</td>\n",
       "      <td>None</td>\n",
       "      <td>'37.40026'</td>\n",
       "      <td>'-121.97741'</td>\n",
       "      <td>13.0</td>\n",
       "      <td>'EumNDstQ9GjmEdDKj4CoFA=='</td>\n",
       "      <td>608794560L</td>\n",
       "      <td>None</td>\n",
       "      <td>None</td>\n",
       "      <td>None</td>\n",
       "      <td>-97.0</td>\n",
       "      <td>'rv\\xc3\\xbf\\x00.\\x05\\t\\x16')</td>\n",
       "    </tr>\n",
       "    <tr>\n",
       "      <th>8</th>\n",
       "      <td>(10L</td>\n",
       "      <td>2L</td>\n",
       "      <td>1L</td>\n",
       "      <td>141562540L</td>\n",
       "      <td>'2017-12-10T00:22:08.797606Z'</td>\n",
       "      <td>'172.56.39.253:61960'</td>\n",
       "      <td>'0.00000000'</td>\n",
       "      <td>'0.00000000'</td>\n",
       "      <td>None</td>\n",
       "      <td>None</td>\n",
       "      <td>'37.40053'</td>\n",
       "      <td>'-121.97447'</td>\n",
       "      <td>15.0</td>\n",
       "      <td>'pL8eXOlOGJrxcBo9s/NoRA=='</td>\n",
       "      <td>608792826L</td>\n",
       "      <td>None</td>\n",
       "      <td>None</td>\n",
       "      <td>None</td>\n",
       "      <td>-79.0</td>\n",
       "      <td>'rv\\xc3\\xbf\\x00.\\x05\\x05!')</td>\n",
       "    </tr>\n",
       "    <tr>\n",
       "      <th>9</th>\n",
       "      <td>(11L</td>\n",
       "      <td>2L</td>\n",
       "      <td>1L</td>\n",
       "      <td>260178252L</td>\n",
       "      <td>'2017-12-10T00:22:08.797610Z'</td>\n",
       "      <td>'172.56.39.153:42521'</td>\n",
       "      <td>'0.00000000'</td>\n",
       "      <td>'0.00000000'</td>\n",
       "      <td>None</td>\n",
       "      <td>None</td>\n",
       "      <td>'37.40282'</td>\n",
       "      <td>'-121.97539'</td>\n",
       "      <td>14.0</td>\n",
       "      <td>'byyDNgYsnEc+s7tBrHBlyw=='</td>\n",
       "      <td>608793001L</td>\n",
       "      <td>None</td>\n",
       "      <td>None</td>\n",
       "      <td>None</td>\n",
       "      <td>-89.0</td>\n",
       "      <td>'rv\\xc3\\xbf\\x00.\\x05\\x05\\xc3\\x84')</td>\n",
       "    </tr>\n",
       "    <tr>\n",
       "      <th>10</th>\n",
       "      <td>(12L</td>\n",
       "      <td>2L</td>\n",
       "      <td>1L</td>\n",
       "      <td>207694748L</td>\n",
       "      <td>'2017-12-10T00:22:08.797608Z'</td>\n",
       "      <td>'172.56.39.79:39374'</td>\n",
       "      <td>'0.00000000'</td>\n",
       "      <td>'0.00000000'</td>\n",
       "      <td>None</td>\n",
       "      <td>None</td>\n",
       "      <td>'37.4023'</td>\n",
       "      <td>'-121.97353'</td>\n",
       "      <td>15.0</td>\n",
       "      <td>'FGIUgvK/YNX/yvu21fyc4w=='</td>\n",
       "      <td>608792055L</td>\n",
       "      <td>None</td>\n",
       "      <td>None</td>\n",
       "      <td>None</td>\n",
       "      <td>-58.0</td>\n",
       "      <td>'rv\\xc3\\xbf\\x00.\\x05\\x07\\xc2\\xac')</td>\n",
       "    </tr>\n",
       "    <tr>\n",
       "      <th>11</th>\n",
       "      <td>(13L</td>\n",
       "      <td>3L</td>\n",
       "      <td>1L</td>\n",
       "      <td>320597476L</td>\n",
       "      <td>'2017-12-10T00:22:19.008223Z'</td>\n",
       "      <td>'172.56.38.52:23411'</td>\n",
       "      <td>'0.00000000'</td>\n",
       "      <td>'0.00000000'</td>\n",
       "      <td>None</td>\n",
       "      <td>None</td>\n",
       "      <td>'37.40026'</td>\n",
       "      <td>'-121.97741'</td>\n",
       "      <td>15.0</td>\n",
       "      <td>'MZb/dpXa2GgGp2DsJEPK5w=='</td>\n",
       "      <td>819405271L</td>\n",
       "      <td>None</td>\n",
       "      <td>None</td>\n",
       "      <td>None</td>\n",
       "      <td>-92.0</td>\n",
       "      <td>'rv\\xc3\\xbf\\x00.\\x05\\t\\x16')</td>\n",
       "    </tr>\n",
       "    <tr>\n",
       "      <th>12</th>\n",
       "      <td>(14L</td>\n",
       "      <td>3L</td>\n",
       "      <td>1L</td>\n",
       "      <td>270388860L</td>\n",
       "      <td>'2017-12-10T00:22:19.008215Z'</td>\n",
       "      <td>'172.56.39.153:42521'</td>\n",
       "      <td>'0.00000000'</td>\n",
       "      <td>'0.00000000'</td>\n",
       "      <td>None</td>\n",
       "      <td>None</td>\n",
       "      <td>'37.40281'</td>\n",
       "      <td>'-121.97539'</td>\n",
       "      <td>15.0</td>\n",
       "      <td>'K2MA0auOOqZnS/ACDwhsMQ=='</td>\n",
       "      <td>819404244L</td>\n",
       "      <td>None</td>\n",
       "      <td>None</td>\n",
       "      <td>None</td>\n",
       "      <td>-82.0</td>\n",
       "      <td>'rv\\xc3\\xbf\\x00.\\x05\\x05\\xc3\\x84')</td>\n",
       "    </tr>\n",
       "    <tr>\n",
       "      <th>13</th>\n",
       "      <td>(15L</td>\n",
       "      <td>3L</td>\n",
       "      <td>1L</td>\n",
       "      <td>217905356L</td>\n",
       "      <td>'2017-12-10T00:22:19.008217Z'</td>\n",
       "      <td>'172.56.39.79:39374'</td>\n",
       "      <td>'0.00000000'</td>\n",
       "      <td>'0.00000000'</td>\n",
       "      <td>None</td>\n",
       "      <td>None</td>\n",
       "      <td>'37.4023'</td>\n",
       "      <td>'-121.97352'</td>\n",
       "      <td>15.0</td>\n",
       "      <td>'4l0MZ8DT3SSkxjgpF09Nqg=='</td>\n",
       "      <td>819402853L</td>\n",
       "      <td>None</td>\n",
       "      <td>None</td>\n",
       "      <td>None</td>\n",
       "      <td>-61.0</td>\n",
       "      <td>'rv\\xc3\\xbf\\x00.\\x05\\x07\\xc2\\xac')</td>\n",
       "    </tr>\n",
       "    <tr>\n",
       "      <th>14</th>\n",
       "      <td>(16L</td>\n",
       "      <td>3L</td>\n",
       "      <td>1L</td>\n",
       "      <td>151773156L</td>\n",
       "      <td>'2017-12-10T00:22:19.008219Z'</td>\n",
       "      <td>'172.56.39.253:61960'</td>\n",
       "      <td>'0.00000000'</td>\n",
       "      <td>'0.00000000'</td>\n",
       "      <td>None</td>\n",
       "      <td>None</td>\n",
       "      <td>'37.40053'</td>\n",
       "      <td>'-121.97447'</td>\n",
       "      <td>15.0</td>\n",
       "      <td>'1CkUzaRq35fgOJhohxMoDw=='</td>\n",
       "      <td>819403220L</td>\n",
       "      <td>None</td>\n",
       "      <td>None</td>\n",
       "      <td>None</td>\n",
       "      <td>-88.0</td>\n",
       "      <td>'rv\\xc3\\xbf\\x00.\\x05\\x05!')</td>\n",
       "    </tr>\n",
       "    <tr>\n",
       "      <th>15</th>\n",
       "      <td>(17L</td>\n",
       "      <td>4L</td>\n",
       "      <td>1L</td>\n",
       "      <td>330820220L</td>\n",
       "      <td>'2017-12-10T00:22:29.230965Z'</td>\n",
       "      <td>'172.56.38.52:23411'</td>\n",
       "      <td>'37.40224075'</td>\n",
       "      <td>'-121.97351074'</td>\n",
       "      <td>None</td>\n",
       "      <td>None</td>\n",
       "      <td>'37.40026'</td>\n",
       "      <td>'-121.9774'</td>\n",
       "      <td>13.0</td>\n",
       "      <td>'FQUhQpCv1LmEgAa/BHwLyg=='</td>\n",
       "      <td>31906312L</td>\n",
       "      <td>None</td>\n",
       "      <td>None</td>\n",
       "      <td>None</td>\n",
       "      <td>-94.0</td>\n",
       "      <td>'rv\\xc3\\xbf\\x00.\\x05\\t\\x16')</td>\n",
       "    </tr>\n",
       "    <tr>\n",
       "      <th>16</th>\n",
       "      <td>(18L</td>\n",
       "      <td>4L</td>\n",
       "      <td>1L</td>\n",
       "      <td>228128108L</td>\n",
       "      <td>'2017-12-10T00:22:29.230970Z'</td>\n",
       "      <td>'172.56.39.79:39374'</td>\n",
       "      <td>'37.40224075'</td>\n",
       "      <td>'-121.97351074'</td>\n",
       "      <td>None</td>\n",
       "      <td>None</td>\n",
       "      <td>'37.4023'</td>\n",
       "      <td>'-121.97352'</td>\n",
       "      <td>15.0</td>\n",
       "      <td>'zl3D0XfKBdbOgxQe4R3NrA=='</td>\n",
       "      <td>31904095L</td>\n",
       "      <td>None</td>\n",
       "      <td>None</td>\n",
       "      <td>None</td>\n",
       "      <td>-58.0</td>\n",
       "      <td>'rv\\xc3\\xbf\\x00.\\x05\\x07\\xc2\\xac')</td>\n",
       "    </tr>\n",
       "    <tr>\n",
       "      <th>17</th>\n",
       "      <td>(19L</td>\n",
       "      <td>4L</td>\n",
       "      <td>1L</td>\n",
       "      <td>161995908L</td>\n",
       "      <td>'2017-12-10T00:22:29.230968Z'</td>\n",
       "      <td>'172.56.39.253:61960'</td>\n",
       "      <td>'37.40224075'</td>\n",
       "      <td>'-121.97351074'</td>\n",
       "      <td>None</td>\n",
       "      <td>None</td>\n",
       "      <td>'37.40053'</td>\n",
       "      <td>'-121.97447'</td>\n",
       "      <td>15.0</td>\n",
       "      <td>'xobnvaJTUnd1JsiFFV4p2Q=='</td>\n",
       "      <td>31905062L</td>\n",
       "      <td>None</td>\n",
       "      <td>None</td>\n",
       "      <td>None</td>\n",
       "      <td>-85.0</td>\n",
       "      <td>'rv\\xc3\\xbf\\x00.\\x05\\x05!')</td>\n",
       "    </tr>\n",
       "    <tr>\n",
       "      <th>18</th>\n",
       "      <td>(20L</td>\n",
       "      <td>4L</td>\n",
       "      <td>1L</td>\n",
       "      <td>280611612L</td>\n",
       "      <td>'2017-12-10T00:22:29.230964Z'</td>\n",
       "      <td>'172.56.39.153:42521'</td>\n",
       "      <td>'37.40224075'</td>\n",
       "      <td>'-121.97351074'</td>\n",
       "      <td>None</td>\n",
       "      <td>None</td>\n",
       "      <td>'37.40281'</td>\n",
       "      <td>'-121.97539'</td>\n",
       "      <td>15.0</td>\n",
       "      <td>'19hIDW85N+N9BfSGWF2e/g=='</td>\n",
       "      <td>31904633L</td>\n",
       "      <td>None</td>\n",
       "      <td>None</td>\n",
       "      <td>None</td>\n",
       "      <td>-82.0</td>\n",
       "      <td>'rv\\xc3\\xbf\\x00.\\x05\\x05\\xc3\\x84')</td>\n",
       "    </tr>\n",
       "    <tr>\n",
       "      <th>19</th>\n",
       "      <td>(21L</td>\n",
       "      <td>5L</td>\n",
       "      <td>1L</td>\n",
       "      <td>238340948L</td>\n",
       "      <td>'2017-12-10T00:22:39.443811Z'</td>\n",
       "      <td>'172.56.39.79:39374'</td>\n",
       "      <td>'37.40224456'</td>\n",
       "      <td>'-121.97351074'</td>\n",
       "      <td>None</td>\n",
       "      <td>None</td>\n",
       "      <td>'37.4023'</td>\n",
       "      <td>'-121.97352'</td>\n",
       "      <td>15.0</td>\n",
       "      <td>'nO9ZrmidfIWkYSVpvWTjCA=='</td>\n",
       "      <td>244751624L</td>\n",
       "      <td>None</td>\n",
       "      <td>None</td>\n",
       "      <td>None</td>\n",
       "      <td>-56.0</td>\n",
       "      <td>'rv\\xc3\\xbf\\x00.\\x05\\x07\\xc2\\xac')</td>\n",
       "    </tr>\n",
       "  </tbody>\n",
       "</table>\n",
       "</div>"
      ],
      "text/plain": [
       "     RID MsgNo  TID         tmst                              ts  \\\n",
       "0    (2L    0L   1L   121142060L   '2017-12-10T00:21:48.377132Z'   \n",
       "1    (3L    0L   1L   289966380L   '2017-12-10T00:21:48.377133Z'   \n",
       "2    (4L    0L   1L   187274276L   '2017-12-10T00:21:48.377135Z'   \n",
       "3    (5L    1L   1L   197484308L   '2017-12-10T00:21:58.587167Z'   \n",
       "4    (6L    1L   1L   300176420L   '2017-12-10T00:21:58.587171Z'   \n",
       "5    (7L    1L   1L   249967804L   '2017-12-10T00:21:58.587165Z'   \n",
       "6    (8L    1L   1L   131352100L   '2017-12-10T00:21:58.587169Z'   \n",
       "7    (9L    2L   1L   310386860L   '2017-12-10T00:22:08.797609Z'   \n",
       "8   (10L    2L   1L   141562540L   '2017-12-10T00:22:08.797606Z'   \n",
       "9   (11L    2L   1L   260178252L   '2017-12-10T00:22:08.797610Z'   \n",
       "10  (12L    2L   1L   207694748L   '2017-12-10T00:22:08.797608Z'   \n",
       "11  (13L    3L   1L   320597476L   '2017-12-10T00:22:19.008223Z'   \n",
       "12  (14L    3L   1L   270388860L   '2017-12-10T00:22:19.008215Z'   \n",
       "13  (15L    3L   1L   217905356L   '2017-12-10T00:22:19.008217Z'   \n",
       "14  (16L    3L   1L   151773156L   '2017-12-10T00:22:19.008219Z'   \n",
       "15  (17L    4L   1L   330820220L   '2017-12-10T00:22:29.230965Z'   \n",
       "16  (18L    4L   1L   228128108L   '2017-12-10T00:22:29.230970Z'   \n",
       "17  (19L    4L   1L   161995908L   '2017-12-10T00:22:29.230968Z'   \n",
       "18  (20L    4L   1L   280611612L   '2017-12-10T00:22:29.230964Z'   \n",
       "19  (21L    5L   1L   238340948L   '2017-12-10T00:22:39.443811Z'   \n",
       "\n",
       "                      gwip          gpslat            gpslon   temp pressure  \\\n",
       "0    '172.56.39.253:61960'    '0.00000000'      '0.00000000'   None     None   \n",
       "1     '172.56.38.52:23411'    '0.00000000'      '0.00000000'   None     None   \n",
       "2     '172.56.39.79:39374'    '0.00000000'      '0.00000000'   None     None   \n",
       "3     '172.56.39.79:39374'    '0.00000000'      '0.00000000'   None     None   \n",
       "4     '172.56.38.52:23411'    '0.00000000'      '0.00000000'   None     None   \n",
       "5    '172.56.39.153:42521'    '0.00000000'      '0.00000000'   None     None   \n",
       "6    '172.56.39.253:61960'    '0.00000000'      '0.00000000'   None     None   \n",
       "7     '172.56.38.52:23411'    '0.00000000'      '0.00000000'   None     None   \n",
       "8    '172.56.39.253:61960'    '0.00000000'      '0.00000000'   None     None   \n",
       "9    '172.56.39.153:42521'    '0.00000000'      '0.00000000'   None     None   \n",
       "10    '172.56.39.79:39374'    '0.00000000'      '0.00000000'   None     None   \n",
       "11    '172.56.38.52:23411'    '0.00000000'      '0.00000000'   None     None   \n",
       "12   '172.56.39.153:42521'    '0.00000000'      '0.00000000'   None     None   \n",
       "13    '172.56.39.79:39374'    '0.00000000'      '0.00000000'   None     None   \n",
       "14   '172.56.39.253:61960'    '0.00000000'      '0.00000000'   None     None   \n",
       "15    '172.56.38.52:23411'   '37.40224075'   '-121.97351074'   None     None   \n",
       "16    '172.56.39.79:39374'   '37.40224075'   '-121.97351074'   None     None   \n",
       "17   '172.56.39.253:61960'   '37.40224075'   '-121.97351074'   None     None   \n",
       "18   '172.56.39.153:42521'   '37.40224075'   '-121.97351074'   None     None   \n",
       "19    '172.56.39.79:39374'   '37.40224456'   '-121.97351074'   None     None   \n",
       "\n",
       "          gwlat          gwlon  lsnr                        etime  \\\n",
       "0    '37.40053'   '-121.97447'  15.0   'qH5shdgpc2UeDvnl2wRsNg=='   \n",
       "1    '37.40026'    '-121.9774'  13.0   'vBgcPKK4LixS0vbPh9jfEA=='   \n",
       "2     '37.4023'   '-121.97353'  15.0   'cfVH3xKsR7nwpjuhDWDPEw=='   \n",
       "3     '37.4023'   '-121.97353'  15.0   'mwRiLvQlt3urHdDnwfwwpw=='   \n",
       "4    '37.40026'   '-121.97741'   9.0   '/n+OBy5QwjUGu2K7Lk15fg=='   \n",
       "5    '37.40282'   '-121.97539'   6.0   'MQHDh6u/dfmG31G+7YsteA=='   \n",
       "6    '37.40053'   '-121.97447'  13.0   'u+pxs+zo+XO1XqhcHDUGkA=='   \n",
       "7    '37.40026'   '-121.97741'  13.0   'EumNDstQ9GjmEdDKj4CoFA=='   \n",
       "8    '37.40053'   '-121.97447'  15.0   'pL8eXOlOGJrxcBo9s/NoRA=='   \n",
       "9    '37.40282'   '-121.97539'  14.0   'byyDNgYsnEc+s7tBrHBlyw=='   \n",
       "10    '37.4023'   '-121.97353'  15.0   'FGIUgvK/YNX/yvu21fyc4w=='   \n",
       "11   '37.40026'   '-121.97741'  15.0   'MZb/dpXa2GgGp2DsJEPK5w=='   \n",
       "12   '37.40281'   '-121.97539'  15.0   'K2MA0auOOqZnS/ACDwhsMQ=='   \n",
       "13    '37.4023'   '-121.97352'  15.0   '4l0MZ8DT3SSkxjgpF09Nqg=='   \n",
       "14   '37.40053'   '-121.97447'  15.0   '1CkUzaRq35fgOJhohxMoDw=='   \n",
       "15   '37.40026'    '-121.9774'  13.0   'FQUhQpCv1LmEgAa/BHwLyg=='   \n",
       "16    '37.4023'   '-121.97352'  15.0   'zl3D0XfKBdbOgxQe4R3NrA=='   \n",
       "17   '37.40053'   '-121.97447'  15.0   'xobnvaJTUnd1JsiFFV4p2Q=='   \n",
       "18   '37.40281'   '-121.97539'  15.0   '19hIDW85N+N9BfSGWF2e/g=='   \n",
       "19    '37.4023'   '-121.97352'  15.0   'nO9ZrmidfIWkYSVpvWTjCA=='   \n",
       "\n",
       "          ftime extraCol2 extraCol3 extraCol4    rssic  \\\n",
       "0    188313113L      None      None      None    -76.0   \n",
       "1    188314884L      None      None      None    -98.0   \n",
       "2    188312432L      None      None      None    -61.0   \n",
       "3    398346484L      None      None      None    -62.0   \n",
       "4    398348784L      None      None      None   -100.0   \n",
       "5    398347525L      None      None      None    -93.0   \n",
       "6    398347431L      None      None      None    -81.0   \n",
       "7    608794560L      None      None      None    -97.0   \n",
       "8    608792826L      None      None      None    -79.0   \n",
       "9    608793001L      None      None      None    -89.0   \n",
       "10   608792055L      None      None      None    -58.0   \n",
       "11   819405271L      None      None      None    -92.0   \n",
       "12   819404244L      None      None      None    -82.0   \n",
       "13   819402853L      None      None      None    -61.0   \n",
       "14   819403220L      None      None      None    -88.0   \n",
       "15    31906312L      None      None      None    -94.0   \n",
       "16    31904095L      None      None      None    -58.0   \n",
       "17    31905062L      None      None      None    -85.0   \n",
       "18    31904633L      None      None      None    -82.0   \n",
       "19   244751624L      None      None      None    -56.0   \n",
       "\n",
       "                              extraCol6  \n",
       "0           'rv\\xc3\\xbf\\x00.\\x05\\x05!')  \n",
       "1          'rv\\xc3\\xbf\\x00.\\x05\\t\\x16')  \n",
       "2    'rv\\xc3\\xbf\\x00.\\x05\\x07\\xc2\\xac')  \n",
       "3    'rv\\xc3\\xbf\\x00.\\x05\\x07\\xc2\\xac')  \n",
       "4          'rv\\xc3\\xbf\\x00.\\x05\\t\\x16')  \n",
       "5    'rv\\xc3\\xbf\\x00.\\x05\\x05\\xc3\\x84')  \n",
       "6           'rv\\xc3\\xbf\\x00.\\x05\\x05!')  \n",
       "7          'rv\\xc3\\xbf\\x00.\\x05\\t\\x16')  \n",
       "8           'rv\\xc3\\xbf\\x00.\\x05\\x05!')  \n",
       "9    'rv\\xc3\\xbf\\x00.\\x05\\x05\\xc3\\x84')  \n",
       "10   'rv\\xc3\\xbf\\x00.\\x05\\x07\\xc2\\xac')  \n",
       "11         'rv\\xc3\\xbf\\x00.\\x05\\t\\x16')  \n",
       "12   'rv\\xc3\\xbf\\x00.\\x05\\x05\\xc3\\x84')  \n",
       "13   'rv\\xc3\\xbf\\x00.\\x05\\x07\\xc2\\xac')  \n",
       "14          'rv\\xc3\\xbf\\x00.\\x05\\x05!')  \n",
       "15         'rv\\xc3\\xbf\\x00.\\x05\\t\\x16')  \n",
       "16   'rv\\xc3\\xbf\\x00.\\x05\\x07\\xc2\\xac')  \n",
       "17          'rv\\xc3\\xbf\\x00.\\x05\\x05!')  \n",
       "18   'rv\\xc3\\xbf\\x00.\\x05\\x05\\xc3\\x84')  \n",
       "19   'rv\\xc3\\xbf\\x00.\\x05\\x07\\xc2\\xac')  "
      ]
     },
     "execution_count": 9,
     "metadata": {},
     "output_type": "execute_result"
    }
   ],
   "source": [
    "serverdata.head(20)"
   ]
  },
  {
   "cell_type": "code",
   "execution_count": 10,
   "metadata": {
    "collapsed": true,
    "scrolled": false
   },
   "outputs": [],
   "source": [
    "np.sum(serverdata['etime'].str.contains('None'))\n",
    "badMsgNo = serverdata[serverdata['etime'].str.contains('None')]['MsgNo']"
   ]
  },
  {
   "cell_type": "code",
   "execution_count": 11,
   "metadata": {
    "collapsed": true
   },
   "outputs": [],
   "source": [
    "#string(badMsgNo)"
   ]
  },
  {
   "cell_type": "code",
   "execution_count": 12,
   "metadata": {},
   "outputs": [
    {
     "data": {
      "text/plain": [
       "(674, 20)"
      ]
     },
     "execution_count": 12,
     "metadata": {},
     "output_type": "execute_result"
    }
   ],
   "source": [
    "serverdata.shape"
   ]
  },
  {
   "cell_type": "code",
   "execution_count": 13,
   "metadata": {},
   "outputs": [
    {
     "data": {
      "text/plain": [
       "(668, 20)"
      ]
     },
     "execution_count": 13,
     "metadata": {},
     "output_type": "execute_result"
    }
   ],
   "source": [
    "serverdata = serverdata[np.invert(serverdata['MsgNo'].str.contains('83L'))]\n",
    "serverdata.shape"
   ]
  },
  {
   "cell_type": "code",
   "execution_count": null,
   "metadata": {
    "collapsed": true
   },
   "outputs": [],
   "source": []
  },
  {
   "cell_type": "code",
   "execution_count": 14,
   "metadata": {
    "collapsed": true
   },
   "outputs": [],
   "source": [
    "tsObjData = pd.DataFrame([])\n",
    "non_decimal = re.compile(r'[^\\d.]+')\n",
    "for index, row in serverdata.iterrows():\n",
    "    tsObjData.loc[row['RID'], 'rid'] = row['RID']\n",
    "    tsObjData.loc[row['RID'], 'gwip'] = row['gwip']\n",
    "    tsObjData.loc[row['RID'], 'msgno'] = non_decimal.sub('', row['MsgNo'])\n",
    "    if (len(row['ts']) == 27):\n",
    "        tsObjData.loc[row['RID'], 'ts'] = row['ts'][19:26]\n",
    "        tsObjData.loc[row['RID'], 'date'] = row['ts'][2:12]\n",
    "    else:\n",
    "        tsObjData.loc[row['RID'], 'ts'] = row['ts'][21:28]\n",
    "        tsObjData.loc[row['RID'], 'date'] = row['ts'][2:12]\n",
    "    tsObjData.loc[row['RID'], 'gpslat'] = non_decimal.sub('', str(row['gpslat']))\n",
    "    tsObjData.loc[row['RID'], 'netgpslon'] = non_decimal.sub('', str(row['gpslon']))\n",
    "    tsObjData.loc[row['RID'], 'gwlat'] = non_decimal.sub('', str(row['gwlat']))\n",
    "    tsObjData.loc[row['RID'], 'netgwlon'] = non_decimal.sub('', str(row['gwlon']))\n",
    "\n",
    "    tsObjData.loc[row['RID'], 'rssic'] = row['rssic']\n",
    "    tsObjData.loc[row['RID'], 'lsnr'] = float(row['lsnr'])\n",
    "    tsObjData.loc[row['RID'], 'ftime'] = long(row['ftime'])/1e9\n",
    "    "
   ]
  },
  {
   "cell_type": "code",
   "execution_count": 15,
   "metadata": {},
   "outputs": [
    {
     "data": {
      "text/html": [
       "<div>\n",
       "<style>\n",
       "    .dataframe thead tr:only-child th {\n",
       "        text-align: right;\n",
       "    }\n",
       "\n",
       "    .dataframe thead th {\n",
       "        text-align: left;\n",
       "    }\n",
       "\n",
       "    .dataframe tbody tr th {\n",
       "        vertical-align: top;\n",
       "    }\n",
       "</style>\n",
       "<table border=\"1\" class=\"dataframe\">\n",
       "  <thead>\n",
       "    <tr style=\"text-align: right;\">\n",
       "      <th></th>\n",
       "      <th>rid</th>\n",
       "      <th>gwip</th>\n",
       "      <th>msgno</th>\n",
       "      <th>ts</th>\n",
       "      <th>date</th>\n",
       "      <th>gpslat</th>\n",
       "      <th>netgpslon</th>\n",
       "      <th>gwlat</th>\n",
       "      <th>netgwlon</th>\n",
       "      <th>rssic</th>\n",
       "      <th>lsnr</th>\n",
       "      <th>ftime</th>\n",
       "    </tr>\n",
       "  </thead>\n",
       "  <tbody>\n",
       "    <tr>\n",
       "      <th>(2L</th>\n",
       "      <td>(2L</td>\n",
       "      <td>'172.56.39.253:61960'</td>\n",
       "      <td>0</td>\n",
       "      <td>.377132</td>\n",
       "      <td>2017-12-10</td>\n",
       "      <td>0.00000000</td>\n",
       "      <td>0.00000000</td>\n",
       "      <td>37.40053</td>\n",
       "      <td>121.97447</td>\n",
       "      <td>-76.0</td>\n",
       "      <td>15.0</td>\n",
       "      <td>0.188313</td>\n",
       "    </tr>\n",
       "    <tr>\n",
       "      <th>(3L</th>\n",
       "      <td>(3L</td>\n",
       "      <td>'172.56.38.52:23411'</td>\n",
       "      <td>0</td>\n",
       "      <td>.377133</td>\n",
       "      <td>2017-12-10</td>\n",
       "      <td>0.00000000</td>\n",
       "      <td>0.00000000</td>\n",
       "      <td>37.40026</td>\n",
       "      <td>121.9774</td>\n",
       "      <td>-98.0</td>\n",
       "      <td>13.0</td>\n",
       "      <td>0.188315</td>\n",
       "    </tr>\n",
       "    <tr>\n",
       "      <th>(4L</th>\n",
       "      <td>(4L</td>\n",
       "      <td>'172.56.39.79:39374'</td>\n",
       "      <td>0</td>\n",
       "      <td>.377135</td>\n",
       "      <td>2017-12-10</td>\n",
       "      <td>0.00000000</td>\n",
       "      <td>0.00000000</td>\n",
       "      <td>37.4023</td>\n",
       "      <td>121.97353</td>\n",
       "      <td>-61.0</td>\n",
       "      <td>15.0</td>\n",
       "      <td>0.188312</td>\n",
       "    </tr>\n",
       "    <tr>\n",
       "      <th>(5L</th>\n",
       "      <td>(5L</td>\n",
       "      <td>'172.56.39.79:39374'</td>\n",
       "      <td>1</td>\n",
       "      <td>.587167</td>\n",
       "      <td>2017-12-10</td>\n",
       "      <td>0.00000000</td>\n",
       "      <td>0.00000000</td>\n",
       "      <td>37.4023</td>\n",
       "      <td>121.97353</td>\n",
       "      <td>-62.0</td>\n",
       "      <td>15.0</td>\n",
       "      <td>0.398346</td>\n",
       "    </tr>\n",
       "    <tr>\n",
       "      <th>(6L</th>\n",
       "      <td>(6L</td>\n",
       "      <td>'172.56.38.52:23411'</td>\n",
       "      <td>1</td>\n",
       "      <td>.587171</td>\n",
       "      <td>2017-12-10</td>\n",
       "      <td>0.00000000</td>\n",
       "      <td>0.00000000</td>\n",
       "      <td>37.40026</td>\n",
       "      <td>121.97741</td>\n",
       "      <td>-100.0</td>\n",
       "      <td>9.0</td>\n",
       "      <td>0.398349</td>\n",
       "    </tr>\n",
       "    <tr>\n",
       "      <th>(7L</th>\n",
       "      <td>(7L</td>\n",
       "      <td>'172.56.39.153:42521'</td>\n",
       "      <td>1</td>\n",
       "      <td>.587165</td>\n",
       "      <td>2017-12-10</td>\n",
       "      <td>0.00000000</td>\n",
       "      <td>0.00000000</td>\n",
       "      <td>37.40282</td>\n",
       "      <td>121.97539</td>\n",
       "      <td>-93.0</td>\n",
       "      <td>6.0</td>\n",
       "      <td>0.398348</td>\n",
       "    </tr>\n",
       "    <tr>\n",
       "      <th>(8L</th>\n",
       "      <td>(8L</td>\n",
       "      <td>'172.56.39.253:61960'</td>\n",
       "      <td>1</td>\n",
       "      <td>.587169</td>\n",
       "      <td>2017-12-10</td>\n",
       "      <td>0.00000000</td>\n",
       "      <td>0.00000000</td>\n",
       "      <td>37.40053</td>\n",
       "      <td>121.97447</td>\n",
       "      <td>-81.0</td>\n",
       "      <td>13.0</td>\n",
       "      <td>0.398347</td>\n",
       "    </tr>\n",
       "    <tr>\n",
       "      <th>(9L</th>\n",
       "      <td>(9L</td>\n",
       "      <td>'172.56.38.52:23411'</td>\n",
       "      <td>2</td>\n",
       "      <td>.797609</td>\n",
       "      <td>2017-12-10</td>\n",
       "      <td>0.00000000</td>\n",
       "      <td>0.00000000</td>\n",
       "      <td>37.40026</td>\n",
       "      <td>121.97741</td>\n",
       "      <td>-97.0</td>\n",
       "      <td>13.0</td>\n",
       "      <td>0.608795</td>\n",
       "    </tr>\n",
       "    <tr>\n",
       "      <th>(10L</th>\n",
       "      <td>(10L</td>\n",
       "      <td>'172.56.39.253:61960'</td>\n",
       "      <td>2</td>\n",
       "      <td>.797606</td>\n",
       "      <td>2017-12-10</td>\n",
       "      <td>0.00000000</td>\n",
       "      <td>0.00000000</td>\n",
       "      <td>37.40053</td>\n",
       "      <td>121.97447</td>\n",
       "      <td>-79.0</td>\n",
       "      <td>15.0</td>\n",
       "      <td>0.608793</td>\n",
       "    </tr>\n",
       "    <tr>\n",
       "      <th>(11L</th>\n",
       "      <td>(11L</td>\n",
       "      <td>'172.56.39.153:42521'</td>\n",
       "      <td>2</td>\n",
       "      <td>.797610</td>\n",
       "      <td>2017-12-10</td>\n",
       "      <td>0.00000000</td>\n",
       "      <td>0.00000000</td>\n",
       "      <td>37.40282</td>\n",
       "      <td>121.97539</td>\n",
       "      <td>-89.0</td>\n",
       "      <td>14.0</td>\n",
       "      <td>0.608793</td>\n",
       "    </tr>\n",
       "    <tr>\n",
       "      <th>(12L</th>\n",
       "      <td>(12L</td>\n",
       "      <td>'172.56.39.79:39374'</td>\n",
       "      <td>2</td>\n",
       "      <td>.797608</td>\n",
       "      <td>2017-12-10</td>\n",
       "      <td>0.00000000</td>\n",
       "      <td>0.00000000</td>\n",
       "      <td>37.4023</td>\n",
       "      <td>121.97353</td>\n",
       "      <td>-58.0</td>\n",
       "      <td>15.0</td>\n",
       "      <td>0.608792</td>\n",
       "    </tr>\n",
       "    <tr>\n",
       "      <th>(13L</th>\n",
       "      <td>(13L</td>\n",
       "      <td>'172.56.38.52:23411'</td>\n",
       "      <td>3</td>\n",
       "      <td>.008223</td>\n",
       "      <td>2017-12-10</td>\n",
       "      <td>0.00000000</td>\n",
       "      <td>0.00000000</td>\n",
       "      <td>37.40026</td>\n",
       "      <td>121.97741</td>\n",
       "      <td>-92.0</td>\n",
       "      <td>15.0</td>\n",
       "      <td>0.819405</td>\n",
       "    </tr>\n",
       "    <tr>\n",
       "      <th>(14L</th>\n",
       "      <td>(14L</td>\n",
       "      <td>'172.56.39.153:42521'</td>\n",
       "      <td>3</td>\n",
       "      <td>.008215</td>\n",
       "      <td>2017-12-10</td>\n",
       "      <td>0.00000000</td>\n",
       "      <td>0.00000000</td>\n",
       "      <td>37.40281</td>\n",
       "      <td>121.97539</td>\n",
       "      <td>-82.0</td>\n",
       "      <td>15.0</td>\n",
       "      <td>0.819404</td>\n",
       "    </tr>\n",
       "    <tr>\n",
       "      <th>(15L</th>\n",
       "      <td>(15L</td>\n",
       "      <td>'172.56.39.79:39374'</td>\n",
       "      <td>3</td>\n",
       "      <td>.008217</td>\n",
       "      <td>2017-12-10</td>\n",
       "      <td>0.00000000</td>\n",
       "      <td>0.00000000</td>\n",
       "      <td>37.4023</td>\n",
       "      <td>121.97352</td>\n",
       "      <td>-61.0</td>\n",
       "      <td>15.0</td>\n",
       "      <td>0.819403</td>\n",
       "    </tr>\n",
       "    <tr>\n",
       "      <th>(16L</th>\n",
       "      <td>(16L</td>\n",
       "      <td>'172.56.39.253:61960'</td>\n",
       "      <td>3</td>\n",
       "      <td>.008219</td>\n",
       "      <td>2017-12-10</td>\n",
       "      <td>0.00000000</td>\n",
       "      <td>0.00000000</td>\n",
       "      <td>37.40053</td>\n",
       "      <td>121.97447</td>\n",
       "      <td>-88.0</td>\n",
       "      <td>15.0</td>\n",
       "      <td>0.819403</td>\n",
       "    </tr>\n",
       "    <tr>\n",
       "      <th>(17L</th>\n",
       "      <td>(17L</td>\n",
       "      <td>'172.56.38.52:23411'</td>\n",
       "      <td>4</td>\n",
       "      <td>.230965</td>\n",
       "      <td>2017-12-10</td>\n",
       "      <td>37.40224075</td>\n",
       "      <td>121.97351074</td>\n",
       "      <td>37.40026</td>\n",
       "      <td>121.9774</td>\n",
       "      <td>-94.0</td>\n",
       "      <td>13.0</td>\n",
       "      <td>0.031906</td>\n",
       "    </tr>\n",
       "    <tr>\n",
       "      <th>(18L</th>\n",
       "      <td>(18L</td>\n",
       "      <td>'172.56.39.79:39374'</td>\n",
       "      <td>4</td>\n",
       "      <td>.230970</td>\n",
       "      <td>2017-12-10</td>\n",
       "      <td>37.40224075</td>\n",
       "      <td>121.97351074</td>\n",
       "      <td>37.4023</td>\n",
       "      <td>121.97352</td>\n",
       "      <td>-58.0</td>\n",
       "      <td>15.0</td>\n",
       "      <td>0.031904</td>\n",
       "    </tr>\n",
       "    <tr>\n",
       "      <th>(19L</th>\n",
       "      <td>(19L</td>\n",
       "      <td>'172.56.39.253:61960'</td>\n",
       "      <td>4</td>\n",
       "      <td>.230968</td>\n",
       "      <td>2017-12-10</td>\n",
       "      <td>37.40224075</td>\n",
       "      <td>121.97351074</td>\n",
       "      <td>37.40053</td>\n",
       "      <td>121.97447</td>\n",
       "      <td>-85.0</td>\n",
       "      <td>15.0</td>\n",
       "      <td>0.031905</td>\n",
       "    </tr>\n",
       "    <tr>\n",
       "      <th>(20L</th>\n",
       "      <td>(20L</td>\n",
       "      <td>'172.56.39.153:42521'</td>\n",
       "      <td>4</td>\n",
       "      <td>.230964</td>\n",
       "      <td>2017-12-10</td>\n",
       "      <td>37.40224075</td>\n",
       "      <td>121.97351074</td>\n",
       "      <td>37.40281</td>\n",
       "      <td>121.97539</td>\n",
       "      <td>-82.0</td>\n",
       "      <td>15.0</td>\n",
       "      <td>0.031905</td>\n",
       "    </tr>\n",
       "    <tr>\n",
       "      <th>(21L</th>\n",
       "      <td>(21L</td>\n",
       "      <td>'172.56.39.79:39374'</td>\n",
       "      <td>5</td>\n",
       "      <td>.443811</td>\n",
       "      <td>2017-12-10</td>\n",
       "      <td>37.40224456</td>\n",
       "      <td>121.97351074</td>\n",
       "      <td>37.4023</td>\n",
       "      <td>121.97352</td>\n",
       "      <td>-56.0</td>\n",
       "      <td>15.0</td>\n",
       "      <td>0.244752</td>\n",
       "    </tr>\n",
       "  </tbody>\n",
       "</table>\n",
       "</div>"
      ],
      "text/plain": [
       "       rid                    gwip msgno       ts        date       gpslat  \\\n",
       "(2L    (2L   '172.56.39.253:61960'     0  .377132  2017-12-10   0.00000000   \n",
       "(3L    (3L    '172.56.38.52:23411'     0  .377133  2017-12-10   0.00000000   \n",
       "(4L    (4L    '172.56.39.79:39374'     0  .377135  2017-12-10   0.00000000   \n",
       "(5L    (5L    '172.56.39.79:39374'     1  .587167  2017-12-10   0.00000000   \n",
       "(6L    (6L    '172.56.38.52:23411'     1  .587171  2017-12-10   0.00000000   \n",
       "(7L    (7L   '172.56.39.153:42521'     1  .587165  2017-12-10   0.00000000   \n",
       "(8L    (8L   '172.56.39.253:61960'     1  .587169  2017-12-10   0.00000000   \n",
       "(9L    (9L    '172.56.38.52:23411'     2  .797609  2017-12-10   0.00000000   \n",
       "(10L  (10L   '172.56.39.253:61960'     2  .797606  2017-12-10   0.00000000   \n",
       "(11L  (11L   '172.56.39.153:42521'     2  .797610  2017-12-10   0.00000000   \n",
       "(12L  (12L    '172.56.39.79:39374'     2  .797608  2017-12-10   0.00000000   \n",
       "(13L  (13L    '172.56.38.52:23411'     3  .008223  2017-12-10   0.00000000   \n",
       "(14L  (14L   '172.56.39.153:42521'     3  .008215  2017-12-10   0.00000000   \n",
       "(15L  (15L    '172.56.39.79:39374'     3  .008217  2017-12-10   0.00000000   \n",
       "(16L  (16L   '172.56.39.253:61960'     3  .008219  2017-12-10   0.00000000   \n",
       "(17L  (17L    '172.56.38.52:23411'     4  .230965  2017-12-10  37.40224075   \n",
       "(18L  (18L    '172.56.39.79:39374'     4  .230970  2017-12-10  37.40224075   \n",
       "(19L  (19L   '172.56.39.253:61960'     4  .230968  2017-12-10  37.40224075   \n",
       "(20L  (20L   '172.56.39.153:42521'     4  .230964  2017-12-10  37.40224075   \n",
       "(21L  (21L    '172.56.39.79:39374'     5  .443811  2017-12-10  37.40224456   \n",
       "\n",
       "         netgpslon     gwlat   netgwlon    rssic  lsnr     ftime  \n",
       "(2L     0.00000000  37.40053  121.97447    -76.0  15.0  0.188313  \n",
       "(3L     0.00000000  37.40026   121.9774    -98.0  13.0  0.188315  \n",
       "(4L     0.00000000   37.4023  121.97353    -61.0  15.0  0.188312  \n",
       "(5L     0.00000000   37.4023  121.97353    -62.0  15.0  0.398346  \n",
       "(6L     0.00000000  37.40026  121.97741   -100.0   9.0  0.398349  \n",
       "(7L     0.00000000  37.40282  121.97539    -93.0   6.0  0.398348  \n",
       "(8L     0.00000000  37.40053  121.97447    -81.0  13.0  0.398347  \n",
       "(9L     0.00000000  37.40026  121.97741    -97.0  13.0  0.608795  \n",
       "(10L    0.00000000  37.40053  121.97447    -79.0  15.0  0.608793  \n",
       "(11L    0.00000000  37.40282  121.97539    -89.0  14.0  0.608793  \n",
       "(12L    0.00000000   37.4023  121.97353    -58.0  15.0  0.608792  \n",
       "(13L    0.00000000  37.40026  121.97741    -92.0  15.0  0.819405  \n",
       "(14L    0.00000000  37.40281  121.97539    -82.0  15.0  0.819404  \n",
       "(15L    0.00000000   37.4023  121.97352    -61.0  15.0  0.819403  \n",
       "(16L    0.00000000  37.40053  121.97447    -88.0  15.0  0.819403  \n",
       "(17L  121.97351074  37.40026   121.9774    -94.0  13.0  0.031906  \n",
       "(18L  121.97351074   37.4023  121.97352    -58.0  15.0  0.031904  \n",
       "(19L  121.97351074  37.40053  121.97447    -85.0  15.0  0.031905  \n",
       "(20L  121.97351074  37.40281  121.97539    -82.0  15.0  0.031905  \n",
       "(21L  121.97351074   37.4023  121.97352    -56.0  15.0  0.244752  "
      ]
     },
     "execution_count": 15,
     "metadata": {},
     "output_type": "execute_result"
    }
   ],
   "source": [
    "tsObjData.head(20)"
   ]
  },
  {
   "cell_type": "code",
   "execution_count": 16,
   "metadata": {},
   "outputs": [
    {
     "data": {
      "text/plain": [
       "1.7709999999837578e-06"
      ]
     },
     "execution_count": 16,
     "metadata": {},
     "output_type": "execute_result"
    }
   ],
   "source": [
    "#the difference TDOA using ftime is about 0.7 microseconds, which translate to 200 Meters\n",
    "tsObjData['ftime'][1] - tsObjData['ftime'][0]"
   ]
  },
  {
   "cell_type": "code",
   "execution_count": 17,
   "metadata": {},
   "outputs": [
    {
     "data": {
      "text/plain": [
       "9.999999999732445e-07"
      ]
     },
     "execution_count": 17,
     "metadata": {},
     "output_type": "execute_result"
    }
   ],
   "source": [
    "#the difference TDOA using ts is about 4 microseconds, which translate to 1200 Meters\n",
    "float(tsObjData['ts'][1]) - float(tsObjData['ts'][0])"
   ]
  },
  {
   "cell_type": "code",
   "execution_count": 18,
   "metadata": {},
   "outputs": [
    {
     "data": {
      "text/plain": [
       "(668, 12)"
      ]
     },
     "execution_count": 18,
     "metadata": {},
     "output_type": "execute_result"
    }
   ],
   "source": [
    "tsObjData.shape"
   ]
  },
  {
   "cell_type": "code",
   "execution_count": 19,
   "metadata": {},
   "outputs": [
    {
     "data": {
      "text/plain": [
       "492"
      ]
     },
     "execution_count": 19,
     "metadata": {},
     "output_type": "execute_result"
    }
   ],
   "source": [
    "np.sum(tsObjData['date'].str.contains('2017-12-10'))"
   ]
  },
  {
   "cell_type": "code",
   "execution_count": 20,
   "metadata": {},
   "outputs": [
    {
     "data": {
      "text/plain": [
       "(492, 12)"
      ]
     },
     "execution_count": 20,
     "metadata": {},
     "output_type": "execute_result"
    }
   ],
   "source": [
    "tsObjData = tsObjData[tsObjData['date'].str.contains('2017-12-10')]\n",
    "tsObjData.shape"
   ]
  },
  {
   "cell_type": "code",
   "execution_count": 21,
   "metadata": {},
   "outputs": [
    {
     "data": {
      "image/png": "[encoded data removed]",
      "text/plain": [
       "<matplotlib.figure.Figure at 0x10ea88190>"
      ]
     },
     "metadata": {},
     "output_type": "display_data"
    }
   ],
   "source": [
    "plt.scatter(tsObjData['gpslat'], tsObjData['netgpslon'])\n",
    "plt.locator_params(nbins=10)\n",
    "plt.xticks(rotation=45)\n",
    "plt.show() \n",
    "#Center 121.97354, 37.40040\n",
    "#corner1  121.97367858, 37.40029525"
   ]
  },
  {
   "cell_type": "code",
   "execution_count": 22,
   "metadata": {},
   "outputs": [
    {
     "data": {
      "image/png": "[encoded data removed]",
      "text/plain": [
       "<matplotlib.figure.Figure at 0x114c9c390>"
      ]
     },
     "metadata": {},
     "output_type": "display_data"
    }
   ],
   "source": [
    "plt.scatter(tsObjData['gwlat'], tsObjData['netgwlon'])\n",
    "plt.locator_params(nbins=10)\n",
    "plt.xticks(rotation=45)\n",
    "plt.axis([min(tsObjData['gwlat']), max(tsObjData['gwlat']), min(tsObjData['netgwlon']), max(tsObjData['netgwlon'])])\n",
    "plt.show()\n",
    "\n"
   ]
  },
  {
   "cell_type": "code",
   "execution_count": 23,
   "metadata": {
    "collapsed": true
   },
   "outputs": [],
   "source": [
    "def haversinedist1(p1, p2):\n",
    "    lat1 = p1[0]\n",
    "    lon1 = p1[1]\n",
    "    lat2 = p2[0]\n",
    "    lon2 = p2[1]\n",
    "    # distance in km\n",
    "    dlon = lon2 - lon1\n",
    "    dlat = lat2 - lat1\n",
    "    a = (np.sin(dlat / 2)) ** 2 + np.cos(lat1) * np.cos(lat2) * (np.sin(dlon / 2)) ** 2\n",
    "    c = 2 * np.arctan2(np.sqrt(a), np.sqrt(1 - a))\n",
    "    return 6371 * c * 1.46843 / 100\n"
   ]
  },
  {
   "cell_type": "code",
   "execution_count": 24,
   "metadata": {},
   "outputs": [
    {
     "data": {
      "text/plain": [
       "[83.169232390441621, 27.145294693970857, 12.292732446230916]"
      ]
     },
     "execution_count": 24,
     "metadata": {},
     "output_type": "execute_result"
    }
   ],
   "source": [
    "gw1 = [37.40024, 121.97447]\n",
    "gw2 = [37.40026, 121.97354]\n",
    "gw3 = [37.40039, 121.97352]\n",
    "gw4 = [37.40053, 121.97446]\n",
    "[haversinedist1(gw1, gw2)*1000, haversinedist1(gw1, gw4)*1000, haversinedist1(gw2, gw3)*1000]"
   ]
  },
  {
   "cell_type": "code",
   "execution_count": 25,
   "metadata": {
    "collapsed": true
   },
   "outputs": [],
   "source": [
    "def haversinedist(lat1, lon1, lat2, lon2):\n",
    "    # distance in km\n",
    "    dlon = lon2 - lon1\n",
    "    dlat = lat2 - lat1\n",
    "    a = (np.sin(dlat / 2)) ** 2 + np.cos(lat1) * np.cos(lat2) * (np.sin(dlon / 2)) ** 2\n",
    "    c = 2 * np.arctan2(np.sqrt(a), np.sqrt(1 - a))\n",
    "    return 6371 * c * 1.46843 / 100\n"
   ]
  },
  {
   "cell_type": "code",
   "execution_count": 26,
   "metadata": {
    "collapsed": true
   },
   "outputs": [],
   "source": [
    "clusterTsData = pd.DataFrame([])\n",
    "currMsgCount = 0\n",
    "currMsgNo = 2  # based on first value in the data\n",
    "countSuccess = 0\n",
    "prevRow = None\n",
    "prevPrevRow = None\n",
    "prev3Row = None\n",
    "for index, row in tsObjData.iterrows():\n",
    "    prevMsgNo = currMsgNo\n",
    "    currMsgNo = row[\"msgno\"]\n",
    "    if prevMsgNo == currMsgNo:\n",
    "        # print \"Found one more\"\n",
    "        currMsgCount += 1\n",
    "    else:\n",
    "        # print \"New Message\"\n",
    "        currMsgCount = 1\n",
    "    if currMsgCount == 4:  # adjust to number of gateways\n",
    "        # how to add previous row on as well?\n",
    "        addrows = [prev3Row, prevPrevRow, prevRow, row]\n",
    "        for ar in addrows:\n",
    "            clusterTsData.loc[ar['rid'], 'msgno'] = ar['msgno']\n",
    "            clusterTsData.loc[ar['rid'], 'gwip'] = ar['gwip']\n",
    "            clusterTsData.loc[ar['rid'], 'ts'] = ar['ts']\n",
    "            clusterTsData.loc[ar['rid'], 'ftime'] = ar['ftime']\n",
    "            clusterTsData.loc[ar['rid'], 'gpslat'] = ar['gpslat']\n",
    "            clusterTsData.loc[ar['rid'], 'netgpslon'] = ar['netgpslon']\n",
    "            clusterTsData.loc[ar['rid'], 'gwlat'] = ar['gwlat']\n",
    "            clusterTsData.loc[ar['rid'], 'netgwlon'] = ar['netgwlon']\n",
    "            clusterTsData.loc[ar['rid'], 'rssic'] = ar['rssic']\n",
    "            clusterTsData.loc[ar['rid'], 'lsnr'] = ar['lsnr']\n",
    "            clusterTsData.loc[ar['rid'], 'geodist'] = haversinedist(float(non_decimal.sub('', ar['gpslat'])),\n",
    "                                                                    float(non_decimal.sub('', ar['netgpslon'])),\n",
    "                                                                    float(non_decimal.sub('', ar['gwlat'])),\n",
    "                                                                    float(non_decimal.sub('', ar['netgwlon'])))\n",
    "        countSuccess += 1\n",
    "    prev3Row = prevPrevRow\n",
    "    prevPrevRow = prevRow\n",
    "    prevRow = row\n"
   ]
  },
  {
   "cell_type": "code",
   "execution_count": 27,
   "metadata": {},
   "outputs": [
    {
     "data": {
      "text/html": [
       "<div>\n",
       "<style>\n",
       "    .dataframe thead tr:only-child th {\n",
       "        text-align: right;\n",
       "    }\n",
       "\n",
       "    .dataframe thead th {\n",
       "        text-align: left;\n",
       "    }\n",
       "\n",
       "    .dataframe tbody tr th {\n",
       "        vertical-align: top;\n",
       "    }\n",
       "</style>\n",
       "<table border=\"1\" class=\"dataframe\">\n",
       "  <thead>\n",
       "    <tr style=\"text-align: right;\">\n",
       "      <th></th>\n",
       "      <th>msgno</th>\n",
       "      <th>gwip</th>\n",
       "      <th>ts</th>\n",
       "      <th>ftime</th>\n",
       "      <th>gpslat</th>\n",
       "      <th>netgpslon</th>\n",
       "      <th>gwlat</th>\n",
       "      <th>netgwlon</th>\n",
       "      <th>rssic</th>\n",
       "      <th>lsnr</th>\n",
       "      <th>geodist</th>\n",
       "    </tr>\n",
       "  </thead>\n",
       "  <tbody>\n",
       "    <tr>\n",
       "      <th>(5L</th>\n",
       "      <td>1</td>\n",
       "      <td>'172.56.39.79:39374'</td>\n",
       "      <td>.587167</td>\n",
       "      <td>0.398346</td>\n",
       "      <td>0.00000000</td>\n",
       "      <td>0.00000000</td>\n",
       "      <td>37.4023</td>\n",
       "      <td>121.97353</td>\n",
       "      <td>-62.0</td>\n",
       "      <td>15.0</td>\n",
       "      <td>236.239299</td>\n",
       "    </tr>\n",
       "    <tr>\n",
       "      <th>(6L</th>\n",
       "      <td>1</td>\n",
       "      <td>'172.56.38.52:23411'</td>\n",
       "      <td>.587171</td>\n",
       "      <td>0.398349</td>\n",
       "      <td>0.00000000</td>\n",
       "      <td>0.00000000</td>\n",
       "      <td>37.40026</td>\n",
       "      <td>121.97741</td>\n",
       "      <td>-100.0</td>\n",
       "      <td>9.0</td>\n",
       "      <td>236.468957</td>\n",
       "    </tr>\n",
       "    <tr>\n",
       "      <th>(7L</th>\n",
       "      <td>1</td>\n",
       "      <td>'172.56.39.153:42521'</td>\n",
       "      <td>.587165</td>\n",
       "      <td>0.398348</td>\n",
       "      <td>0.00000000</td>\n",
       "      <td>0.00000000</td>\n",
       "      <td>37.40282</td>\n",
       "      <td>121.97539</td>\n",
       "      <td>-93.0</td>\n",
       "      <td>6.0</td>\n",
       "      <td>236.410396</td>\n",
       "    </tr>\n",
       "    <tr>\n",
       "      <th>(8L</th>\n",
       "      <td>1</td>\n",
       "      <td>'172.56.39.253:61960'</td>\n",
       "      <td>.587169</td>\n",
       "      <td>0.398347</td>\n",
       "      <td>0.00000000</td>\n",
       "      <td>0.00000000</td>\n",
       "      <td>37.40053</td>\n",
       "      <td>121.97447</td>\n",
       "      <td>-81.0</td>\n",
       "      <td>13.0</td>\n",
       "      <td>236.243368</td>\n",
       "    </tr>\n",
       "    <tr>\n",
       "      <th>(9L</th>\n",
       "      <td>2</td>\n",
       "      <td>'172.56.38.52:23411'</td>\n",
       "      <td>.797609</td>\n",
       "      <td>0.608795</td>\n",
       "      <td>0.00000000</td>\n",
       "      <td>0.00000000</td>\n",
       "      <td>37.40026</td>\n",
       "      <td>121.97741</td>\n",
       "      <td>-97.0</td>\n",
       "      <td>13.0</td>\n",
       "      <td>236.468957</td>\n",
       "    </tr>\n",
       "    <tr>\n",
       "      <th>(10L</th>\n",
       "      <td>2</td>\n",
       "      <td>'172.56.39.253:61960'</td>\n",
       "      <td>.797606</td>\n",
       "      <td>0.608793</td>\n",
       "      <td>0.00000000</td>\n",
       "      <td>0.00000000</td>\n",
       "      <td>37.40053</td>\n",
       "      <td>121.97447</td>\n",
       "      <td>-79.0</td>\n",
       "      <td>15.0</td>\n",
       "      <td>236.243368</td>\n",
       "    </tr>\n",
       "    <tr>\n",
       "      <th>(11L</th>\n",
       "      <td>2</td>\n",
       "      <td>'172.56.39.153:42521'</td>\n",
       "      <td>.797610</td>\n",
       "      <td>0.608793</td>\n",
       "      <td>0.00000000</td>\n",
       "      <td>0.00000000</td>\n",
       "      <td>37.40282</td>\n",
       "      <td>121.97539</td>\n",
       "      <td>-89.0</td>\n",
       "      <td>14.0</td>\n",
       "      <td>236.410396</td>\n",
       "    </tr>\n",
       "    <tr>\n",
       "      <th>(12L</th>\n",
       "      <td>2</td>\n",
       "      <td>'172.56.39.79:39374'</td>\n",
       "      <td>.797608</td>\n",
       "      <td>0.608792</td>\n",
       "      <td>0.00000000</td>\n",
       "      <td>0.00000000</td>\n",
       "      <td>37.4023</td>\n",
       "      <td>121.97353</td>\n",
       "      <td>-58.0</td>\n",
       "      <td>15.0</td>\n",
       "      <td>236.239299</td>\n",
       "    </tr>\n",
       "    <tr>\n",
       "      <th>(13L</th>\n",
       "      <td>3</td>\n",
       "      <td>'172.56.38.52:23411'</td>\n",
       "      <td>.008223</td>\n",
       "      <td>0.819405</td>\n",
       "      <td>0.00000000</td>\n",
       "      <td>0.00000000</td>\n",
       "      <td>37.40026</td>\n",
       "      <td>121.97741</td>\n",
       "      <td>-92.0</td>\n",
       "      <td>15.0</td>\n",
       "      <td>236.468957</td>\n",
       "    </tr>\n",
       "    <tr>\n",
       "      <th>(14L</th>\n",
       "      <td>3</td>\n",
       "      <td>'172.56.39.153:42521'</td>\n",
       "      <td>.008215</td>\n",
       "      <td>0.819404</td>\n",
       "      <td>0.00000000</td>\n",
       "      <td>0.00000000</td>\n",
       "      <td>37.40281</td>\n",
       "      <td>121.97539</td>\n",
       "      <td>-82.0</td>\n",
       "      <td>15.0</td>\n",
       "      <td>236.409991</td>\n",
       "    </tr>\n",
       "    <tr>\n",
       "      <th>(15L</th>\n",
       "      <td>3</td>\n",
       "      <td>'172.56.39.79:39374'</td>\n",
       "      <td>.008217</td>\n",
       "      <td>0.819403</td>\n",
       "      <td>0.00000000</td>\n",
       "      <td>0.00000000</td>\n",
       "      <td>37.4023</td>\n",
       "      <td>121.97352</td>\n",
       "      <td>-61.0</td>\n",
       "      <td>15.0</td>\n",
       "      <td>236.238492</td>\n",
       "    </tr>\n",
       "    <tr>\n",
       "      <th>(16L</th>\n",
       "      <td>3</td>\n",
       "      <td>'172.56.39.253:61960'</td>\n",
       "      <td>.008219</td>\n",
       "      <td>0.819403</td>\n",
       "      <td>0.00000000</td>\n",
       "      <td>0.00000000</td>\n",
       "      <td>37.40053</td>\n",
       "      <td>121.97447</td>\n",
       "      <td>-88.0</td>\n",
       "      <td>15.0</td>\n",
       "      <td>236.243368</td>\n",
       "    </tr>\n",
       "    <tr>\n",
       "      <th>(17L</th>\n",
       "      <td>4</td>\n",
       "      <td>'172.56.38.52:23411'</td>\n",
       "      <td>.230965</td>\n",
       "      <td>0.031906</td>\n",
       "      <td>37.40224075</td>\n",
       "      <td>121.97351074</td>\n",
       "      <td>37.40026</td>\n",
       "      <td>121.9774</td>\n",
       "      <td>-94.0</td>\n",
       "      <td>13.0</td>\n",
       "      <td>0.394114</td>\n",
       "    </tr>\n",
       "    <tr>\n",
       "      <th>(18L</th>\n",
       "      <td>4</td>\n",
       "      <td>'172.56.39.79:39374'</td>\n",
       "      <td>.230970</td>\n",
       "      <td>0.031904</td>\n",
       "      <td>37.40224075</td>\n",
       "      <td>121.97351074</td>\n",
       "      <td>37.4023</td>\n",
       "      <td>121.97352</td>\n",
       "      <td>-58.0</td>\n",
       "      <td>15.0</td>\n",
       "      <td>0.005605</td>\n",
       "    </tr>\n",
       "    <tr>\n",
       "      <th>(19L</th>\n",
       "      <td>4</td>\n",
       "      <td>'172.56.39.253:61960'</td>\n",
       "      <td>.230968</td>\n",
       "      <td>0.031905</td>\n",
       "      <td>37.40224075</td>\n",
       "      <td>121.97351074</td>\n",
       "      <td>37.40053</td>\n",
       "      <td>121.97447</td>\n",
       "      <td>-85.0</td>\n",
       "      <td>15.0</td>\n",
       "      <td>0.181592</td>\n",
       "    </tr>\n",
       "    <tr>\n",
       "      <th>(20L</th>\n",
       "      <td>4</td>\n",
       "      <td>'172.56.39.153:42521'</td>\n",
       "      <td>.230964</td>\n",
       "      <td>0.031905</td>\n",
       "      <td>37.40224075</td>\n",
       "      <td>121.97351074</td>\n",
       "      <td>37.40281</td>\n",
       "      <td>121.97539</td>\n",
       "      <td>-82.0</td>\n",
       "      <td>15.0</td>\n",
       "      <td>0.176368</td>\n",
       "    </tr>\n",
       "    <tr>\n",
       "      <th>(24L</th>\n",
       "      <td>6</td>\n",
       "      <td>'172.56.39.79:39374'</td>\n",
       "      <td>.656555</td>\n",
       "      <td>0.457498</td>\n",
       "      <td>37.40224456</td>\n",
       "      <td>121.97351074</td>\n",
       "      <td>37.40229</td>\n",
       "      <td>121.97353</td>\n",
       "      <td>-58.0</td>\n",
       "      <td>15.0</td>\n",
       "      <td>0.004587</td>\n",
       "    </tr>\n",
       "    <tr>\n",
       "      <th>(25L</th>\n",
       "      <td>6</td>\n",
       "      <td>'172.56.38.52:23411'</td>\n",
       "      <td>.656554</td>\n",
       "      <td>0.457499</td>\n",
       "      <td>37.40224456</td>\n",
       "      <td>121.97351074</td>\n",
       "      <td>37.40026</td>\n",
       "      <td>121.9774</td>\n",
       "      <td>-99.0</td>\n",
       "      <td>9.0</td>\n",
       "      <td>0.394282</td>\n",
       "    </tr>\n",
       "    <tr>\n",
       "      <th>(26L</th>\n",
       "      <td>6</td>\n",
       "      <td>'172.56.39.153:42521'</td>\n",
       "      <td>.656558</td>\n",
       "      <td>0.457499</td>\n",
       "      <td>37.40224456</td>\n",
       "      <td>121.97351074</td>\n",
       "      <td>37.4028</td>\n",
       "      <td>121.97539</td>\n",
       "      <td>-84.0</td>\n",
       "      <td>14.0</td>\n",
       "      <td>0.175982</td>\n",
       "    </tr>\n",
       "    <tr>\n",
       "      <th>(27L</th>\n",
       "      <td>6</td>\n",
       "      <td>'172.56.39.253:61960'</td>\n",
       "      <td>.656553</td>\n",
       "      <td>0.457498</td>\n",
       "      <td>37.40224456</td>\n",
       "      <td>121.97351074</td>\n",
       "      <td>37.40053</td>\n",
       "      <td>121.97448</td>\n",
       "      <td>-87.0</td>\n",
       "      <td>14.0</td>\n",
       "      <td>0.182330</td>\n",
       "    </tr>\n",
       "  </tbody>\n",
       "</table>\n",
       "</div>"
      ],
      "text/plain": [
       "     msgno                    gwip       ts     ftime       gpslat  \\\n",
       "(5L      1    '172.56.39.79:39374'  .587167  0.398346   0.00000000   \n",
       "(6L      1    '172.56.38.52:23411'  .587171  0.398349   0.00000000   \n",
       "(7L      1   '172.56.39.153:42521'  .587165  0.398348   0.00000000   \n",
       "(8L      1   '172.56.39.253:61960'  .587169  0.398347   0.00000000   \n",
       "(9L      2    '172.56.38.52:23411'  .797609  0.608795   0.00000000   \n",
       "(10L     2   '172.56.39.253:61960'  .797606  0.608793   0.00000000   \n",
       "(11L     2   '172.56.39.153:42521'  .797610  0.608793   0.00000000   \n",
       "(12L     2    '172.56.39.79:39374'  .797608  0.608792   0.00000000   \n",
       "(13L     3    '172.56.38.52:23411'  .008223  0.819405   0.00000000   \n",
       "(14L     3   '172.56.39.153:42521'  .008215  0.819404   0.00000000   \n",
       "(15L     3    '172.56.39.79:39374'  .008217  0.819403   0.00000000   \n",
       "(16L     3   '172.56.39.253:61960'  .008219  0.819403   0.00000000   \n",
       "(17L     4    '172.56.38.52:23411'  .230965  0.031906  37.40224075   \n",
       "(18L     4    '172.56.39.79:39374'  .230970  0.031904  37.40224075   \n",
       "(19L     4   '172.56.39.253:61960'  .230968  0.031905  37.40224075   \n",
       "(20L     4   '172.56.39.153:42521'  .230964  0.031905  37.40224075   \n",
       "(24L     6    '172.56.39.79:39374'  .656555  0.457498  37.40224456   \n",
       "(25L     6    '172.56.38.52:23411'  .656554  0.457499  37.40224456   \n",
       "(26L     6   '172.56.39.153:42521'  .656558  0.457499  37.40224456   \n",
       "(27L     6   '172.56.39.253:61960'  .656553  0.457498  37.40224456   \n",
       "\n",
       "         netgpslon     gwlat   netgwlon    rssic  lsnr     geodist  \n",
       "(5L     0.00000000   37.4023  121.97353    -62.0  15.0  236.239299  \n",
       "(6L     0.00000000  37.40026  121.97741   -100.0   9.0  236.468957  \n",
       "(7L     0.00000000  37.40282  121.97539    -93.0   6.0  236.410396  \n",
       "(8L     0.00000000  37.40053  121.97447    -81.0  13.0  236.243368  \n",
       "(9L     0.00000000  37.40026  121.97741    -97.0  13.0  236.468957  \n",
       "(10L    0.00000000  37.40053  121.97447    -79.0  15.0  236.243368  \n",
       "(11L    0.00000000  37.40282  121.97539    -89.0  14.0  236.410396  \n",
       "(12L    0.00000000   37.4023  121.97353    -58.0  15.0  236.239299  \n",
       "(13L    0.00000000  37.40026  121.97741    -92.0  15.0  236.468957  \n",
       "(14L    0.00000000  37.40281  121.97539    -82.0  15.0  236.409991  \n",
       "(15L    0.00000000   37.4023  121.97352    -61.0  15.0  236.238492  \n",
       "(16L    0.00000000  37.40053  121.97447    -88.0  15.0  236.243368  \n",
       "(17L  121.97351074  37.40026   121.9774    -94.0  13.0    0.394114  \n",
       "(18L  121.97351074   37.4023  121.97352    -58.0  15.0    0.005605  \n",
       "(19L  121.97351074  37.40053  121.97447    -85.0  15.0    0.181592  \n",
       "(20L  121.97351074  37.40281  121.97539    -82.0  15.0    0.176368  \n",
       "(24L  121.97351074  37.40229  121.97353    -58.0  15.0    0.004587  \n",
       "(25L  121.97351074  37.40026   121.9774    -99.0   9.0    0.394282  \n",
       "(26L  121.97351074   37.4028  121.97539    -84.0  14.0    0.175982  \n",
       "(27L  121.97351074  37.40053  121.97448    -87.0  14.0    0.182330  "
      ]
     },
     "execution_count": 27,
     "metadata": {},
     "output_type": "execute_result"
    }
   ],
   "source": [
    "clusterTsData.head(20)"
   ]
  },
  {
   "cell_type": "code",
   "execution_count": 28,
   "metadata": {},
   "outputs": [
    {
     "data": {
      "text/plain": [
       "(324, 11)"
      ]
     },
     "execution_count": 28,
     "metadata": {},
     "output_type": "execute_result"
    }
   ],
   "source": [
    "clusterTsData.shape"
   ]
  },
  {
   "cell_type": "code",
   "execution_count": 29,
   "metadata": {},
   "outputs": [
    {
     "data": {
      "image/png": "[encoded data removed]",
      "text/plain": [
       "<matplotlib.figure.Figure at 0x114c60250>"
      ]
     },
     "metadata": {},
     "output_type": "display_data"
    }
   ],
   "source": [
    "plt.scatter(clusterTsData['gpslat'], clusterTsData['netgpslon'])\n",
    "plt.locator_params(nbins=10)\n",
    "plt.xticks(rotation=45)\n",
    "plt.show() "
   ]
  },
  {
   "cell_type": "code",
   "execution_count": 30,
   "metadata": {
    "collapsed": true
   },
   "outputs": [],
   "source": [
    "# remove data with huge geodist because their gps measurement are ZERO\n",
    "clusterTsDataClean = clusterTsData.loc[clusterTsData['geodist'] < 200]"
   ]
  },
  {
   "cell_type": "code",
   "execution_count": 31,
   "metadata": {},
   "outputs": [
    {
     "data": {
      "text/plain": [
       "(296, 11)"
      ]
     },
     "execution_count": 31,
     "metadata": {},
     "output_type": "execute_result"
    }
   ],
   "source": [
    "clusterTsDataClean.shape"
   ]
  },
  {
   "cell_type": "code",
   "execution_count": 32,
   "metadata": {},
   "outputs": [
    {
     "data": {
      "image/png": "[encoded data removed]",
      "text/plain": [
       "<matplotlib.figure.Figure at 0x11d1dd990>"
      ]
     },
     "metadata": {},
     "output_type": "display_data"
    }
   ],
   "source": [
    "plt.scatter(clusterTsDataClean['gpslat'], clusterTsDataClean['netgpslon'])\n",
    "plt.locator_params(nbins=10)\n",
    "plt.xticks(rotation=45)\n",
    "plt.show() "
   ]
  },
  {
   "cell_type": "code",
   "execution_count": 33,
   "metadata": {},
   "outputs": [
    {
     "data": {
      "text/html": [
       "<div>\n",
       "<style>\n",
       "    .dataframe thead tr:only-child th {\n",
       "        text-align: right;\n",
       "    }\n",
       "\n",
       "    .dataframe thead th {\n",
       "        text-align: left;\n",
       "    }\n",
       "\n",
       "    .dataframe tbody tr th {\n",
       "        vertical-align: top;\n",
       "    }\n",
       "</style>\n",
       "<table border=\"1\" class=\"dataframe\">\n",
       "  <thead>\n",
       "    <tr style=\"text-align: right;\">\n",
       "      <th></th>\n",
       "      <th>msgno</th>\n",
       "      <th>gwip</th>\n",
       "      <th>ts</th>\n",
       "      <th>ftime</th>\n",
       "      <th>gpslat</th>\n",
       "      <th>netgpslon</th>\n",
       "      <th>gwlat</th>\n",
       "      <th>netgwlon</th>\n",
       "      <th>rssic</th>\n",
       "      <th>lsnr</th>\n",
       "      <th>geodist</th>\n",
       "    </tr>\n",
       "  </thead>\n",
       "  <tbody>\n",
       "    <tr>\n",
       "      <th>(17L</th>\n",
       "      <td>4</td>\n",
       "      <td>'172.56.38.52:23411'</td>\n",
       "      <td>.230965</td>\n",
       "      <td>0.031906</td>\n",
       "      <td>37.40224075</td>\n",
       "      <td>121.97351074</td>\n",
       "      <td>37.40026</td>\n",
       "      <td>121.9774</td>\n",
       "      <td>-94.0</td>\n",
       "      <td>13.0</td>\n",
       "      <td>0.394114</td>\n",
       "    </tr>\n",
       "    <tr>\n",
       "      <th>(18L</th>\n",
       "      <td>4</td>\n",
       "      <td>'172.56.39.79:39374'</td>\n",
       "      <td>.230970</td>\n",
       "      <td>0.031904</td>\n",
       "      <td>37.40224075</td>\n",
       "      <td>121.97351074</td>\n",
       "      <td>37.4023</td>\n",
       "      <td>121.97352</td>\n",
       "      <td>-58.0</td>\n",
       "      <td>15.0</td>\n",
       "      <td>0.005605</td>\n",
       "    </tr>\n",
       "    <tr>\n",
       "      <th>(19L</th>\n",
       "      <td>4</td>\n",
       "      <td>'172.56.39.253:61960'</td>\n",
       "      <td>.230968</td>\n",
       "      <td>0.031905</td>\n",
       "      <td>37.40224075</td>\n",
       "      <td>121.97351074</td>\n",
       "      <td>37.40053</td>\n",
       "      <td>121.97447</td>\n",
       "      <td>-85.0</td>\n",
       "      <td>15.0</td>\n",
       "      <td>0.181592</td>\n",
       "    </tr>\n",
       "    <tr>\n",
       "      <th>(20L</th>\n",
       "      <td>4</td>\n",
       "      <td>'172.56.39.153:42521'</td>\n",
       "      <td>.230964</td>\n",
       "      <td>0.031905</td>\n",
       "      <td>37.40224075</td>\n",
       "      <td>121.97351074</td>\n",
       "      <td>37.40281</td>\n",
       "      <td>121.97539</td>\n",
       "      <td>-82.0</td>\n",
       "      <td>15.0</td>\n",
       "      <td>0.176368</td>\n",
       "    </tr>\n",
       "    <tr>\n",
       "      <th>(24L</th>\n",
       "      <td>6</td>\n",
       "      <td>'172.56.39.79:39374'</td>\n",
       "      <td>.656555</td>\n",
       "      <td>0.457498</td>\n",
       "      <td>37.40224456</td>\n",
       "      <td>121.97351074</td>\n",
       "      <td>37.40229</td>\n",
       "      <td>121.97353</td>\n",
       "      <td>-58.0</td>\n",
       "      <td>15.0</td>\n",
       "      <td>0.004587</td>\n",
       "    </tr>\n",
       "    <tr>\n",
       "      <th>(25L</th>\n",
       "      <td>6</td>\n",
       "      <td>'172.56.38.52:23411'</td>\n",
       "      <td>.656554</td>\n",
       "      <td>0.457499</td>\n",
       "      <td>37.40224456</td>\n",
       "      <td>121.97351074</td>\n",
       "      <td>37.40026</td>\n",
       "      <td>121.9774</td>\n",
       "      <td>-99.0</td>\n",
       "      <td>9.0</td>\n",
       "      <td>0.394282</td>\n",
       "    </tr>\n",
       "    <tr>\n",
       "      <th>(26L</th>\n",
       "      <td>6</td>\n",
       "      <td>'172.56.39.153:42521'</td>\n",
       "      <td>.656558</td>\n",
       "      <td>0.457499</td>\n",
       "      <td>37.40224456</td>\n",
       "      <td>121.97351074</td>\n",
       "      <td>37.4028</td>\n",
       "      <td>121.97539</td>\n",
       "      <td>-84.0</td>\n",
       "      <td>14.0</td>\n",
       "      <td>0.175982</td>\n",
       "    </tr>\n",
       "    <tr>\n",
       "      <th>(27L</th>\n",
       "      <td>6</td>\n",
       "      <td>'172.56.39.253:61960'</td>\n",
       "      <td>.656553</td>\n",
       "      <td>0.457498</td>\n",
       "      <td>37.40224456</td>\n",
       "      <td>121.97351074</td>\n",
       "      <td>37.40053</td>\n",
       "      <td>121.97448</td>\n",
       "      <td>-87.0</td>\n",
       "      <td>14.0</td>\n",
       "      <td>0.182330</td>\n",
       "    </tr>\n",
       "    <tr>\n",
       "      <th>(28L</th>\n",
       "      <td>7</td>\n",
       "      <td>'172.56.39.253:61960'</td>\n",
       "      <td>.869350</td>\n",
       "      <td>0.670297</td>\n",
       "      <td>37.40224456</td>\n",
       "      <td>121.97351074</td>\n",
       "      <td>37.40053</td>\n",
       "      <td>121.97448</td>\n",
       "      <td>-92.0</td>\n",
       "      <td>12.0</td>\n",
       "      <td>0.182330</td>\n",
       "    </tr>\n",
       "    <tr>\n",
       "      <th>(29L</th>\n",
       "      <td>7</td>\n",
       "      <td>'172.56.39.79:39374'</td>\n",
       "      <td>.869348</td>\n",
       "      <td>0.670296</td>\n",
       "      <td>37.40224456</td>\n",
       "      <td>121.97351074</td>\n",
       "      <td>37.40229</td>\n",
       "      <td>121.97353</td>\n",
       "      <td>-61.0</td>\n",
       "      <td>15.0</td>\n",
       "      <td>0.004587</td>\n",
       "    </tr>\n",
       "    <tr>\n",
       "      <th>(30L</th>\n",
       "      <td>7</td>\n",
       "      <td>'172.56.38.52:23411'</td>\n",
       "      <td>.869352</td>\n",
       "      <td>0.670298</td>\n",
       "      <td>37.40224456</td>\n",
       "      <td>121.97351074</td>\n",
       "      <td>37.40026</td>\n",
       "      <td>121.97741</td>\n",
       "      <td>-93.0</td>\n",
       "      <td>15.0</td>\n",
       "      <td>0.395071</td>\n",
       "    </tr>\n",
       "    <tr>\n",
       "      <th>(31L</th>\n",
       "      <td>7</td>\n",
       "      <td>'172.56.39.153:42521'</td>\n",
       "      <td>.869355</td>\n",
       "      <td>0.670297</td>\n",
       "      <td>37.40224456</td>\n",
       "      <td>121.97351074</td>\n",
       "      <td>37.4028</td>\n",
       "      <td>121.97539</td>\n",
       "      <td>-93.0</td>\n",
       "      <td>5.0</td>\n",
       "      <td>0.175982</td>\n",
       "    </tr>\n",
       "    <tr>\n",
       "      <th>(32L</th>\n",
       "      <td>8</td>\n",
       "      <td>'172.56.39.253:61960'</td>\n",
       "      <td>.082371</td>\n",
       "      <td>0.883314</td>\n",
       "      <td>37.40224838</td>\n",
       "      <td>121.97351074</td>\n",
       "      <td>37.40053</td>\n",
       "      <td>121.97448</td>\n",
       "      <td>-80.0</td>\n",
       "      <td>15.0</td>\n",
       "      <td>0.182644</td>\n",
       "    </tr>\n",
       "    <tr>\n",
       "      <th>(33L</th>\n",
       "      <td>8</td>\n",
       "      <td>'172.56.39.153:42521'</td>\n",
       "      <td>.082376</td>\n",
       "      <td>0.883315</td>\n",
       "      <td>37.40224838</td>\n",
       "      <td>121.97351074</td>\n",
       "      <td>37.4028</td>\n",
       "      <td>121.97539</td>\n",
       "      <td>-94.0</td>\n",
       "      <td>14.0</td>\n",
       "      <td>0.175877</td>\n",
       "    </tr>\n",
       "    <tr>\n",
       "      <th>(34L</th>\n",
       "      <td>8</td>\n",
       "      <td>'172.56.38.52:23411'</td>\n",
       "      <td>.082374</td>\n",
       "      <td>0.883314</td>\n",
       "      <td>37.40224838</td>\n",
       "      <td>121.97351074</td>\n",
       "      <td>37.40026</td>\n",
       "      <td>121.97741</td>\n",
       "      <td>-105.0</td>\n",
       "      <td>8.0</td>\n",
       "      <td>0.395240</td>\n",
       "    </tr>\n",
       "    <tr>\n",
       "      <th>(35L</th>\n",
       "      <td>8</td>\n",
       "      <td>'172.56.39.79:39374'</td>\n",
       "      <td>.082373</td>\n",
       "      <td>0.883313</td>\n",
       "      <td>37.40224838</td>\n",
       "      <td>121.97351074</td>\n",
       "      <td>37.40229</td>\n",
       "      <td>121.97353</td>\n",
       "      <td>-64.0</td>\n",
       "      <td>15.0</td>\n",
       "      <td>0.004258</td>\n",
       "    </tr>\n",
       "    <tr>\n",
       "      <th>(36L</th>\n",
       "      <td>9</td>\n",
       "      <td>'172.56.39.79:39374'</td>\n",
       "      <td>.295654</td>\n",
       "      <td>0.096595</td>\n",
       "      <td>37.40224838</td>\n",
       "      <td>121.97351837</td>\n",
       "      <td>37.40229</td>\n",
       "      <td>121.97353</td>\n",
       "      <td>-64.0</td>\n",
       "      <td>15.0</td>\n",
       "      <td>0.004030</td>\n",
       "    </tr>\n",
       "    <tr>\n",
       "      <th>(37L</th>\n",
       "      <td>9</td>\n",
       "      <td>'172.56.38.52:23411'</td>\n",
       "      <td>.295660</td>\n",
       "      <td>0.096597</td>\n",
       "      <td>37.40224838</td>\n",
       "      <td>121.97351837</td>\n",
       "      <td>37.40026</td>\n",
       "      <td>121.97741</td>\n",
       "      <td>-96.0</td>\n",
       "      <td>15.0</td>\n",
       "      <td>0.394638</td>\n",
       "    </tr>\n",
       "    <tr>\n",
       "      <th>(38L</th>\n",
       "      <td>9</td>\n",
       "      <td>'172.56.39.253:61960'</td>\n",
       "      <td>.295656</td>\n",
       "      <td>0.096596</td>\n",
       "      <td>37.40224838</td>\n",
       "      <td>121.97351837</td>\n",
       "      <td>37.40052</td>\n",
       "      <td>121.97448</td>\n",
       "      <td>-87.0</td>\n",
       "      <td>11.0</td>\n",
       "      <td>0.183147</td>\n",
       "    </tr>\n",
       "    <tr>\n",
       "      <th>(39L</th>\n",
       "      <td>9</td>\n",
       "      <td>'172.56.39.153:42521'</td>\n",
       "      <td>.295661</td>\n",
       "      <td>0.096599</td>\n",
       "      <td>37.40224838</td>\n",
       "      <td>121.97351837</td>\n",
       "      <td>37.40279</td>\n",
       "      <td>121.97541</td>\n",
       "      <td>-94.0</td>\n",
       "      <td>10.0</td>\n",
       "      <td>0.176665</td>\n",
       "    </tr>\n",
       "  </tbody>\n",
       "</table>\n",
       "</div>"
      ],
      "text/plain": [
       "     msgno                    gwip       ts     ftime       gpslat  \\\n",
       "(17L     4    '172.56.38.52:23411'  .230965  0.031906  37.40224075   \n",
       "(18L     4    '172.56.39.79:39374'  .230970  0.031904  37.40224075   \n",
       "(19L     4   '172.56.39.253:61960'  .230968  0.031905  37.40224075   \n",
       "(20L     4   '172.56.39.153:42521'  .230964  0.031905  37.40224075   \n",
       "(24L     6    '172.56.39.79:39374'  .656555  0.457498  37.40224456   \n",
       "(25L     6    '172.56.38.52:23411'  .656554  0.457499  37.40224456   \n",
       "(26L     6   '172.56.39.153:42521'  .656558  0.457499  37.40224456   \n",
       "(27L     6   '172.56.39.253:61960'  .656553  0.457498  37.40224456   \n",
       "(28L     7   '172.56.39.253:61960'  .869350  0.670297  37.40224456   \n",
       "(29L     7    '172.56.39.79:39374'  .869348  0.670296  37.40224456   \n",
       "(30L     7    '172.56.38.52:23411'  .869352  0.670298  37.40224456   \n",
       "(31L     7   '172.56.39.153:42521'  .869355  0.670297  37.40224456   \n",
       "(32L     8   '172.56.39.253:61960'  .082371  0.883314  37.40224838   \n",
       "(33L     8   '172.56.39.153:42521'  .082376  0.883315  37.40224838   \n",
       "(34L     8    '172.56.38.52:23411'  .082374  0.883314  37.40224838   \n",
       "(35L     8    '172.56.39.79:39374'  .082373  0.883313  37.40224838   \n",
       "(36L     9    '172.56.39.79:39374'  .295654  0.096595  37.40224838   \n",
       "(37L     9    '172.56.38.52:23411'  .295660  0.096597  37.40224838   \n",
       "(38L     9   '172.56.39.253:61960'  .295656  0.096596  37.40224838   \n",
       "(39L     9   '172.56.39.153:42521'  .295661  0.096599  37.40224838   \n",
       "\n",
       "         netgpslon     gwlat   netgwlon    rssic  lsnr   geodist  \n",
       "(17L  121.97351074  37.40026   121.9774    -94.0  13.0  0.394114  \n",
       "(18L  121.97351074   37.4023  121.97352    -58.0  15.0  0.005605  \n",
       "(19L  121.97351074  37.40053  121.97447    -85.0  15.0  0.181592  \n",
       "(20L  121.97351074  37.40281  121.97539    -82.0  15.0  0.176368  \n",
       "(24L  121.97351074  37.40229  121.97353    -58.0  15.0  0.004587  \n",
       "(25L  121.97351074  37.40026   121.9774    -99.0   9.0  0.394282  \n",
       "(26L  121.97351074   37.4028  121.97539    -84.0  14.0  0.175982  \n",
       "(27L  121.97351074  37.40053  121.97448    -87.0  14.0  0.182330  \n",
       "(28L  121.97351074  37.40053  121.97448    -92.0  12.0  0.182330  \n",
       "(29L  121.97351074  37.40229  121.97353    -61.0  15.0  0.004587  \n",
       "(30L  121.97351074  37.40026  121.97741    -93.0  15.0  0.395071  \n",
       "(31L  121.97351074   37.4028  121.97539    -93.0   5.0  0.175982  \n",
       "(32L  121.97351074  37.40053  121.97448    -80.0  15.0  0.182644  \n",
       "(33L  121.97351074   37.4028  121.97539    -94.0  14.0  0.175877  \n",
       "(34L  121.97351074  37.40026  121.97741   -105.0   8.0  0.395240  \n",
       "(35L  121.97351074  37.40229  121.97353    -64.0  15.0  0.004258  \n",
       "(36L  121.97351837  37.40229  121.97353    -64.0  15.0  0.004030  \n",
       "(37L  121.97351837  37.40026  121.97741    -96.0  15.0  0.394638  \n",
       "(38L  121.97351837  37.40052  121.97448    -87.0  11.0  0.183147  \n",
       "(39L  121.97351837  37.40279  121.97541    -94.0  10.0  0.176665  "
      ]
     },
     "execution_count": 33,
     "metadata": {},
     "output_type": "execute_result"
    }
   ],
   "source": [
    "clusterTsDataClean.head(20)"
   ]
  },
  {
   "cell_type": "code",
   "execution_count": 34,
   "metadata": {
    "collapsed": true
   },
   "outputs": [],
   "source": [
    "#sort so that four base stations are always in the same order for each measurement\n",
    "orderClTs = pd.DataFrame([])\n",
    "# for rc in range(0, clusterTsData.shape[0]):\n",
    "rc = 0\n",
    "length = clusterTsDataClean.shape[0]\n",
    "while (rc < length):\n",
    "    # tempfour = clusterTsData[rc:rc + 4].set_index('ts').sort_index()\n",
    "    tempfour = clusterTsDataClean[rc: rc + 4].sort_values('gwip')\n",
    "    frames = [orderClTs, tempfour]\n",
    "    orderClTs = pd.concat(frames)\n",
    "    rc += 4\n",
    "\n"
   ]
  },
  {
   "cell_type": "code",
   "execution_count": 35,
   "metadata": {},
   "outputs": [
    {
     "data": {
      "text/html": [
       "<div>\n",
       "<style>\n",
       "    .dataframe thead tr:only-child th {\n",
       "        text-align: right;\n",
       "    }\n",
       "\n",
       "    .dataframe thead th {\n",
       "        text-align: left;\n",
       "    }\n",
       "\n",
       "    .dataframe tbody tr th {\n",
       "        vertical-align: top;\n",
       "    }\n",
       "</style>\n",
       "<table border=\"1\" class=\"dataframe\">\n",
       "  <thead>\n",
       "    <tr style=\"text-align: right;\">\n",
       "      <th></th>\n",
       "      <th>msgno</th>\n",
       "      <th>gwip</th>\n",
       "      <th>ts</th>\n",
       "      <th>ftime</th>\n",
       "      <th>gpslat</th>\n",
       "      <th>netgpslon</th>\n",
       "      <th>gwlat</th>\n",
       "      <th>netgwlon</th>\n",
       "      <th>rssic</th>\n",
       "      <th>lsnr</th>\n",
       "      <th>geodist</th>\n",
       "    </tr>\n",
       "  </thead>\n",
       "  <tbody>\n",
       "    <tr>\n",
       "      <th>(17L</th>\n",
       "      <td>4</td>\n",
       "      <td>'172.56.38.52:23411'</td>\n",
       "      <td>.230965</td>\n",
       "      <td>0.031906</td>\n",
       "      <td>37.40224075</td>\n",
       "      <td>121.97351074</td>\n",
       "      <td>37.40026</td>\n",
       "      <td>121.9774</td>\n",
       "      <td>-94.0</td>\n",
       "      <td>13.0</td>\n",
       "      <td>0.394114</td>\n",
       "    </tr>\n",
       "    <tr>\n",
       "      <th>(20L</th>\n",
       "      <td>4</td>\n",
       "      <td>'172.56.39.153:42521'</td>\n",
       "      <td>.230964</td>\n",
       "      <td>0.031905</td>\n",
       "      <td>37.40224075</td>\n",
       "      <td>121.97351074</td>\n",
       "      <td>37.40281</td>\n",
       "      <td>121.97539</td>\n",
       "      <td>-82.0</td>\n",
       "      <td>15.0</td>\n",
       "      <td>0.176368</td>\n",
       "    </tr>\n",
       "    <tr>\n",
       "      <th>(19L</th>\n",
       "      <td>4</td>\n",
       "      <td>'172.56.39.253:61960'</td>\n",
       "      <td>.230968</td>\n",
       "      <td>0.031905</td>\n",
       "      <td>37.40224075</td>\n",
       "      <td>121.97351074</td>\n",
       "      <td>37.40053</td>\n",
       "      <td>121.97447</td>\n",
       "      <td>-85.0</td>\n",
       "      <td>15.0</td>\n",
       "      <td>0.181592</td>\n",
       "    </tr>\n",
       "    <tr>\n",
       "      <th>(18L</th>\n",
       "      <td>4</td>\n",
       "      <td>'172.56.39.79:39374'</td>\n",
       "      <td>.230970</td>\n",
       "      <td>0.031904</td>\n",
       "      <td>37.40224075</td>\n",
       "      <td>121.97351074</td>\n",
       "      <td>37.4023</td>\n",
       "      <td>121.97352</td>\n",
       "      <td>-58.0</td>\n",
       "      <td>15.0</td>\n",
       "      <td>0.005605</td>\n",
       "    </tr>\n",
       "    <tr>\n",
       "      <th>(25L</th>\n",
       "      <td>6</td>\n",
       "      <td>'172.56.38.52:23411'</td>\n",
       "      <td>.656554</td>\n",
       "      <td>0.457499</td>\n",
       "      <td>37.40224456</td>\n",
       "      <td>121.97351074</td>\n",
       "      <td>37.40026</td>\n",
       "      <td>121.9774</td>\n",
       "      <td>-99.0</td>\n",
       "      <td>9.0</td>\n",
       "      <td>0.394282</td>\n",
       "    </tr>\n",
       "    <tr>\n",
       "      <th>(26L</th>\n",
       "      <td>6</td>\n",
       "      <td>'172.56.39.153:42521'</td>\n",
       "      <td>.656558</td>\n",
       "      <td>0.457499</td>\n",
       "      <td>37.40224456</td>\n",
       "      <td>121.97351074</td>\n",
       "      <td>37.4028</td>\n",
       "      <td>121.97539</td>\n",
       "      <td>-84.0</td>\n",
       "      <td>14.0</td>\n",
       "      <td>0.175982</td>\n",
       "    </tr>\n",
       "    <tr>\n",
       "      <th>(27L</th>\n",
       "      <td>6</td>\n",
       "      <td>'172.56.39.253:61960'</td>\n",
       "      <td>.656553</td>\n",
       "      <td>0.457498</td>\n",
       "      <td>37.40224456</td>\n",
       "      <td>121.97351074</td>\n",
       "      <td>37.40053</td>\n",
       "      <td>121.97448</td>\n",
       "      <td>-87.0</td>\n",
       "      <td>14.0</td>\n",
       "      <td>0.182330</td>\n",
       "    </tr>\n",
       "    <tr>\n",
       "      <th>(24L</th>\n",
       "      <td>6</td>\n",
       "      <td>'172.56.39.79:39374'</td>\n",
       "      <td>.656555</td>\n",
       "      <td>0.457498</td>\n",
       "      <td>37.40224456</td>\n",
       "      <td>121.97351074</td>\n",
       "      <td>37.40229</td>\n",
       "      <td>121.97353</td>\n",
       "      <td>-58.0</td>\n",
       "      <td>15.0</td>\n",
       "      <td>0.004587</td>\n",
       "    </tr>\n",
       "    <tr>\n",
       "      <th>(30L</th>\n",
       "      <td>7</td>\n",
       "      <td>'172.56.38.52:23411'</td>\n",
       "      <td>.869352</td>\n",
       "      <td>0.670298</td>\n",
       "      <td>37.40224456</td>\n",
       "      <td>121.97351074</td>\n",
       "      <td>37.40026</td>\n",
       "      <td>121.97741</td>\n",
       "      <td>-93.0</td>\n",
       "      <td>15.0</td>\n",
       "      <td>0.395071</td>\n",
       "    </tr>\n",
       "    <tr>\n",
       "      <th>(31L</th>\n",
       "      <td>7</td>\n",
       "      <td>'172.56.39.153:42521'</td>\n",
       "      <td>.869355</td>\n",
       "      <td>0.670297</td>\n",
       "      <td>37.40224456</td>\n",
       "      <td>121.97351074</td>\n",
       "      <td>37.4028</td>\n",
       "      <td>121.97539</td>\n",
       "      <td>-93.0</td>\n",
       "      <td>5.0</td>\n",
       "      <td>0.175982</td>\n",
       "    </tr>\n",
       "  </tbody>\n",
       "</table>\n",
       "</div>"
      ],
      "text/plain": [
       "     msgno                    gwip       ts     ftime       gpslat  \\\n",
       "(17L     4    '172.56.38.52:23411'  .230965  0.031906  37.40224075   \n",
       "(20L     4   '172.56.39.153:42521'  .230964  0.031905  37.40224075   \n",
       "(19L     4   '172.56.39.253:61960'  .230968  0.031905  37.40224075   \n",
       "(18L     4    '172.56.39.79:39374'  .230970  0.031904  37.40224075   \n",
       "(25L     6    '172.56.38.52:23411'  .656554  0.457499  37.40224456   \n",
       "(26L     6   '172.56.39.153:42521'  .656558  0.457499  37.40224456   \n",
       "(27L     6   '172.56.39.253:61960'  .656553  0.457498  37.40224456   \n",
       "(24L     6    '172.56.39.79:39374'  .656555  0.457498  37.40224456   \n",
       "(30L     7    '172.56.38.52:23411'  .869352  0.670298  37.40224456   \n",
       "(31L     7   '172.56.39.153:42521'  .869355  0.670297  37.40224456   \n",
       "\n",
       "         netgpslon     gwlat   netgwlon   rssic  lsnr   geodist  \n",
       "(17L  121.97351074  37.40026   121.9774   -94.0  13.0  0.394114  \n",
       "(20L  121.97351074  37.40281  121.97539   -82.0  15.0  0.176368  \n",
       "(19L  121.97351074  37.40053  121.97447   -85.0  15.0  0.181592  \n",
       "(18L  121.97351074   37.4023  121.97352   -58.0  15.0  0.005605  \n",
       "(25L  121.97351074  37.40026   121.9774   -99.0   9.0  0.394282  \n",
       "(26L  121.97351074   37.4028  121.97539   -84.0  14.0  0.175982  \n",
       "(27L  121.97351074  37.40053  121.97448   -87.0  14.0  0.182330  \n",
       "(24L  121.97351074  37.40229  121.97353   -58.0  15.0  0.004587  \n",
       "(30L  121.97351074  37.40026  121.97741   -93.0  15.0  0.395071  \n",
       "(31L  121.97351074   37.4028  121.97539   -93.0   5.0  0.175982  "
      ]
     },
     "execution_count": 35,
     "metadata": {},
     "output_type": "execute_result"
    }
   ],
   "source": [
    "orderClTs.head(10)"
   ]
  },
  {
   "cell_type": "code",
   "execution_count": 36,
   "metadata": {},
   "outputs": [
    {
     "data": {
      "text/plain": [
       "-4.2899999999623795e-07"
      ]
     },
     "execution_count": 36,
     "metadata": {},
     "output_type": "execute_result"
    }
   ],
   "source": [
    "#sanity check\n",
    "#the difference TDOA using ftime is about 0.7 microseconds, which translate to 200 Meters\n",
    "orderClTs['ftime'][1] - orderClTs['ftime'][2]"
   ]
  },
  {
   "cell_type": "code",
   "execution_count": 37,
   "metadata": {},
   "outputs": [
    {
     "data": {
      "text/plain": [
       "[0.031904633000000002, 0.031905061999999998, 0.230964, 0.230968]"
      ]
     },
     "execution_count": 37,
     "metadata": {},
     "output_type": "execute_result"
    }
   ],
   "source": [
    "[orderClTs['ftime'][1], orderClTs['ftime'][2], float(orderClTs['ts'][1]), float(orderClTs['ts'][2]) ]"
   ]
  },
  {
   "cell_type": "code",
   "execution_count": 38,
   "metadata": {},
   "outputs": [
    {
     "data": {
      "text/plain": [
       "-4.000000000004e-06"
      ]
     },
     "execution_count": 38,
     "metadata": {},
     "output_type": "execute_result"
    }
   ],
   "source": [
    "float(orderClTs['ts'][1]) - float(orderClTs['ts'][2])"
   ]
  },
  {
   "cell_type": "code",
   "execution_count": 39,
   "metadata": {
    "collapsed": true
   },
   "outputs": [],
   "source": [
    "\n",
    "col = 'rssic'\n",
    "orderClTs[col] = pd.to_numeric(orderClTs[col], errors='coerce')"
   ]
  },
  {
   "cell_type": "code",
   "execution_count": 40,
   "metadata": {},
   "outputs": [
    {
     "data": {
      "text/plain": [
       "msgno         object\n",
       "gwip          object\n",
       "ts            object\n",
       "ftime        float64\n",
       "gpslat        object\n",
       "netgpslon     object\n",
       "gwlat         object\n",
       "netgwlon      object\n",
       "rssic        float64\n",
       "lsnr         float64\n",
       "geodist      float64\n",
       "dtype: object"
      ]
     },
     "execution_count": 40,
     "metadata": {},
     "output_type": "execute_result"
    }
   ],
   "source": [
    "orderClTs.dtypes"
   ]
  },
  {
   "cell_type": "code",
   "execution_count": 41,
   "metadata": {
    "collapsed": true
   },
   "outputs": [],
   "source": [
    "y = np.array(orderClTs['geodist'])\n",
    "x = np.array(orderClTs['rssic'])\n",
    "\n",
    "b = np.polyfit(x, y, 5)\n",
    "\n"
   ]
  },
  {
   "cell_type": "code",
   "execution_count": 42,
   "metadata": {},
   "outputs": [
    {
     "data": {
      "image/png": "[encoded data removed]",
      "text/plain": [
       "<matplotlib.figure.Figure at 0x114cb9590>"
      ]
     },
     "metadata": {},
     "output_type": "display_data"
    }
   ],
   "source": [
    "plt.scatter(x, y)\n",
    "plt.locator_params(nbins=10)\n",
    "plt.xticks(rotation=45)\n",
    "plt.show()"
   ]
  },
  {
   "cell_type": "code",
   "execution_count": 43,
   "metadata": {},
   "outputs": [
    {
     "data": {
      "text/plain": [
       "array([ -3.35186561e-09,  -1.27433908e-06,  -1.84070286e-04,\n",
       "        -1.25455970e-02,  -4.04748777e-01,  -4.95655562e+00])"
      ]
     },
     "execution_count": 43,
     "metadata": {},
     "output_type": "execute_result"
    }
   ],
   "source": [
    "b"
   ]
  },
  {
   "cell_type": "code",
   "execution_count": 44,
   "metadata": {
    "collapsed": true
   },
   "outputs": [],
   "source": [
    "guessDistOrdered = []\n",
    "# Switch up the variable so can rapidly test each column\n",
    "for r in np.array(orderClTs['rssic']):\n",
    "    guessDistOrdered.append(b[0] * pow(r, 5) + b[1] * pow(r, 4) + b[2] * pow(r, 3) + b[3] * pow(r, 2) + b[4] * r + b[5])\n",
    "# orderClTs['guessdist'] = np.array(guessDistOrdered).real\n",
    "orderClTs['guessdist'] = np.absolute(np.array(guessDistOrdered))\n"
   ]
  },
  {
   "cell_type": "code",
   "execution_count": 45,
   "metadata": {},
   "outputs": [
    {
     "data": {
      "image/png": "[encoded data removed]",
      "text/plain": [
       "<matplotlib.figure.Figure at 0x11d662b90>"
      ]
     },
     "metadata": {},
     "output_type": "display_data"
    }
   ],
   "source": [
    "plt.scatter(orderClTs['rssic'], orderClTs['geodist'])\n",
    "plt.locator_params(nbins=10)\n",
    "plt.xticks(rotation=45)\n",
    "plt.show()"
   ]
  },
  {
   "cell_type": "code",
   "execution_count": 46,
   "metadata": {},
   "outputs": [
    {
     "data": {
      "image/png": "[encoded data removed]",
      "text/plain": [
       "<matplotlib.figure.Figure at 0x11d7552d0>"
      ]
     },
     "metadata": {},
     "output_type": "display_data"
    }
   ],
   "source": [
    "#str.contains(\"ball\")\n",
    "orderClTs1 = orderClTs[orderClTs['gwip'].str.contains('172.56.39.153:42521')]\n",
    "plt.scatter(orderClTs1['rssic'], orderClTs1['geodist'])\n",
    "plt.locator_params(nbins=10)\n",
    "plt.xticks(rotation=45)\n",
    "plt.show()"
   ]
  },
  {
   "cell_type": "code",
   "execution_count": 47,
   "metadata": {},
   "outputs": [
    {
     "data": {
      "image/png": "[encoded data removed]",
      "text/plain": [
       "<matplotlib.figure.Figure at 0x11d83b750>"
      ]
     },
     "metadata": {},
     "output_type": "display_data"
    }
   ],
   "source": [
    "\n",
    "orderClTs1 = orderClTs[orderClTs['gwip'].str.contains('172.56.39.253:61960')]\n",
    "plt.scatter(orderClTs1['rssic'], orderClTs1['geodist'])\n",
    "plt.locator_params(nbins=10)\n",
    "plt.xticks(rotation=45)\n",
    "plt.show()"
   ]
  },
  {
   "cell_type": "code",
   "execution_count": 48,
   "metadata": {},
   "outputs": [
    {
     "data": {
      "image/png": "[encoded data removed]",
      "text/plain": [
       "<matplotlib.figure.Figure at 0x11d75e050>"
      ]
     },
     "metadata": {},
     "output_type": "display_data"
    }
   ],
   "source": [
    "orderClTs2 = orderClTs[orderClTs['gwip'].str.contains('172.56.38.52:23411')]\n",
    "plt.scatter(orderClTs2['rssic'], orderClTs2['geodist'])\n",
    "plt.locator_params(nbins=10)\n",
    "plt.xticks(rotation=45)\n",
    "plt.show()"
   ]
  },
  {
   "cell_type": "code",
   "execution_count": 49,
   "metadata": {
    "collapsed": true
   },
   "outputs": [],
   "source": [
    "earthR = 6371\n",
    "c = 299792\n",
    "\n",
    "\n",
    "def trilat_open(ts1, ts2, ts3):\n",
    "    x1 = earthR * (math.cos(math.radians(ts1.getLatitude())) * math.cos(math.radians(ts1.getLongitude())))\n",
    "    y1 = earthR * (math.cos(math.radians(ts1.getLatitude())) * math.sin(math.radians(ts1.getLongitude())))\n",
    "    z1 = earthR * (math.sin(math.radians(ts1.getLatitude())))\n",
    "\n",
    "    x2 = earthR * (math.cos(math.radians(ts2.getLatitude())) * math.cos(math.radians(ts2.getLongitude())))\n",
    "    y2 = earthR * (math.cos(math.radians(ts2.getLatitude())) * math.sin(math.radians(ts2.getLongitude())))\n",
    "    z2 = earthR * (math.sin(math.radians(ts2.getLatitude())))\n",
    "\n",
    "    x3 = earthR * (math.cos(math.radians(ts3.getLatitude())) * math.cos(math.radians(ts3.getLongitude())))\n",
    "    y3 = earthR * (math.cos(math.radians(ts3.getLatitude())) * math.sin(math.radians(ts3.getLongitude())))\n",
    "    z3 = earthR * (math.sin(math.radians(ts3.getLatitude())))\n",
    "\n",
    "    P1 = np.array([x1, y1, z1])\n",
    "    P2 = np.array([x2, y2, z2])\n",
    "    P3 = np.array([x3, y3, z3])\n",
    "\n",
    "    ex = (P2 - P1) / (np.linalg.norm(P2 - P1))\n",
    "    i = np.dot(ex, P3 - P1)\n",
    "    ey = (P3 - P1 - i * ex) / (np.linalg.norm(P3 - P1 - i * ex))\n",
    "    ez = np.cross(ex, ey)\n",
    "    d = np.linalg.norm(P2 - P1)\n",
    "    j = np.dot(ey, P3 - P1)\n",
    "\n",
    "    # from wikipedia\n",
    "    # plug and chug using above values\n",
    "    x = (pow(ts1.getDist(), 2) - pow(ts2.getDist(), 2) + pow(d, 2)) / (2 * d)\n",
    "    y = ((pow(ts1.getDist(), 2) - pow(ts3.getDist(), 2) + pow(i, 2) + pow(j, 2)) / (2 * j)) - ((i / j) * x)\n",
    "\n",
    "    # only one case shown here\n",
    "    z = np.sqrt(pow(ts1.getDist(), 2) - pow(x, 2) - pow(y, 2))\n",
    "\n",
    "    # triPt is an array with ECEF x,y,z of trilateration point\n",
    "    triPt = P1 + x * ex + y * ey + z * ez\n",
    "\n",
    "    # convert back to lat/long from ECEF\n",
    "    # convert to degrees\n",
    "    lat = math.degrees(math.asin(triPt[2] / earthR))\n",
    "    lon = math.degrees(math.atan2(triPt[1], triPt[0]))\n",
    "\n",
    "    # print str(lat) + \", -\" + str(lon)\n",
    "    # return str(lat) + \", -\" + str(lon)\n",
    "    return lat, -1 * lon\n",
    "\n",
    "def trilat4(tag, ts1, ts2, ts3, ts4):\n",
    "    finalx = None\n",
    "    finaly = None\n",
    "    finalz = None\n",
    "    finald = None\n",
    "\n",
    "    base_time = ts1.getTimeStamp()\n",
    "    td1 = math.fabs(ts2.getTimeStamp() - base_time)\n",
    "    td2 = math.fabs(ts3.getTimeStamp() - base_time)\n",
    "    td3 = math.fabs(ts4.getTimeStamp() - base_time)\n",
    "\n",
    "    dd21 = c * td1\n",
    "    dd31 = c * td2\n",
    "    dd41 = c * td3\n",
    "\n",
    "    # May have to adjust based on 2D or 3D possibilities w/ 4 gateways (as well as parameters below)\n",
    "    x1 = earthR * (math.cos(math.radians(ts1.getLatitude())) * math.cos(math.radians(ts1.getLongitude())))\n",
    "    y1 = earthR * (math.cos(math.radians(ts1.getLatitude())) * math.sin(math.radians(ts1.getLongitude())))\n",
    "    z1 = earthR * (math.sin(math.radians(ts1.getLatitude())))\n",
    "\n",
    "    x2 = earthR * (math.cos(math.radians(ts2.getLatitude())) * math.cos(math.radians(ts2.getLongitude())))\n",
    "    y2 = earthR * (math.cos(math.radians(ts2.getLatitude())) * math.sin(math.radians(ts2.getLongitude())))\n",
    "    z2 = earthR * (math.sin(math.radians(ts2.getLatitude())))\n",
    "\n",
    "    x3 = earthR * (math.cos(math.radians(ts3.getLatitude())) * math.cos(math.radians(ts3.getLongitude())))\n",
    "    y3 = earthR * (math.cos(math.radians(ts3.getLatitude())) * math.sin(math.radians(ts3.getLongitude())))\n",
    "    z3 = earthR * (math.sin(math.radians(ts3.getLatitude())))\n",
    "\n",
    "    x4 = earthR * (math.cos(math.radians(ts4.getLatitude())) * math.cos(math.radians(ts4.getLongitude())))\n",
    "    y4 = earthR * (math.cos(math.radians(ts4.getLatitude())) * math.sin(math.radians(ts4.getLongitude())))\n",
    "    z4 = earthR * (math.sin(math.radians(ts4.getLatitude())))\n",
    "\n",
    "    # Bugging out w/ data type issues even with a valid matrix\n",
    "    Hf = np.matrix([[x2, y2, z2, dd21], [x3, y3, z3, dd31], [x4, y4, z4, dd41]])\n",
    "\n",
    "    def km_squared4(x, y, z, d):\n",
    "        return (np.square(x) + np.square(y) + np.square(z) - np.square(d)) / 2.0\n",
    "\n",
    "    km1 = km_squared4(x2, y2, z2, dd21)\n",
    "    km2 = km_squared4(x3, y3, z3, dd31)\n",
    "    km3 = km_squared4(x4, y4, z4, dd41)\n",
    "\n",
    "    #     print km1\n",
    "    #     print km2\n",
    "    #     print km3\n",
    "\n",
    "    m = np.array([km1, km2, km3])\n",
    "\n",
    "    xf = np.linalg.lstsq(Hf, m)[0]\n",
    "\n",
    "    finalx = xf[0]\n",
    "    finaly = xf[1]\n",
    "    finalz = xf[2]\n",
    "    finald = xf[3]\n",
    "\n",
    "    # Maybe test some assertion that all numbers are reasonable, as well as visualization for debugging\n",
    "    # Cartesian back to Lat/Lon\n",
    "    lat = math.degrees(math.asin(finalz / earthR))\n",
    "    lon = math.degrees(math.atan2(finaly, finalx))\n",
    "\n",
    "    #     lat = lat + 19.713\n",
    "    #     lon = lon\n",
    "    # Unique to these points\n",
    "    # Blue points\n",
    "    #     lat = lat + 19.713 + 0.0866155396 + 0.02734440888\n",
    "    #     lon = lon - 0.00614129 - 0.02932030494\n",
    "    # Yellow points (manual adjustment, latitude and longitude need to drop)\n",
    "    #     lat = lat + 19.713 + 0.0866155396\n",
    "    #     lon = lon - 0.00614129 - 0.02932030494 - 0.01\n",
    "    # Red points (no more manual adjustment, but offsets dropped from 4 to 3)\n",
    "    lat = lat + 19.713 + 0.0866155396\n",
    "    lon = lon - 0.00614129 - 0.02932030494 - 0.01\n",
    "\n",
    "    #     print str(lat)+\",-\" + str(lon) + \" <green>\"\n",
    "    return lat, -1 * lon\n"
   ]
  },
  {
   "cell_type": "code",
   "execution_count": 50,
   "metadata": {
    "collapsed": true
   },
   "outputs": [],
   "source": [
    "def tdoa_lora_4(tag, ts1, ts2, ts3, ts4):\n",
    "    #takes four time stamp measurements and four base positions. \n",
    "    #return the position of the tag\n",
    "    \n",
    "    finalx = None\n",
    "    finaly = None\n",
    "    finalz = None\n",
    "    finald = None\n",
    "\n",
    "    base_time = ts1.getTimeStamp()\n",
    "    td21 = math.fabs(ts2.getTimeStamp() - base_time)\n",
    "    td31 = math.fabs(ts3.getTimeStamp() - base_time)\n",
    "    td41 = math.fabs(ts4.getTimeStamp() - base_time)\n",
    "\n",
    "    dd21 = c * td21\n",
    "    dd31 = c * td31\n",
    "    dd41 = c * td41\n",
    "\n",
    "    # May have to adjust based on 2D or 3D possibilities w/ 4 gateways (as well as parameters below)\n",
    "    x1 = earthR * (math.cos(math.radians(ts1.getLatitude())) * math.cos(math.radians(ts1.getLongitude())))\n",
    "    y1 = earthR * (math.cos(math.radians(ts1.getLatitude())) * math.sin(math.radians(ts1.getLongitude())))\n",
    "    z1 = earthR * (math.sin(math.radians(ts1.getLatitude())))\n",
    "\n",
    "    x2 = earthR * (math.cos(math.radians(ts2.getLatitude())) * math.cos(math.radians(ts2.getLongitude())))\n",
    "    y2 = earthR * (math.cos(math.radians(ts2.getLatitude())) * math.sin(math.radians(ts2.getLongitude())))\n",
    "    z2 = earthR * (math.sin(math.radians(ts2.getLatitude())))\n",
    "\n",
    "    x3 = earthR * (math.cos(math.radians(ts3.getLatitude())) * math.cos(math.radians(ts3.getLongitude())))\n",
    "    y3 = earthR * (math.cos(math.radians(ts3.getLatitude())) * math.sin(math.radians(ts3.getLongitude())))\n",
    "    z3 = earthR * (math.sin(math.radians(ts3.getLatitude())))\n",
    "\n",
    "    x4 = earthR * (math.cos(math.radians(ts4.getLatitude())) * math.cos(math.radians(ts4.getLongitude())))\n",
    "    y4 = earthR * (math.cos(math.radians(ts4.getLatitude())) * math.sin(math.radians(ts4.getLongitude())))\n",
    "    z4 = earthR * (math.sin(math.radians(ts4.getLatitude())))\n",
    "\n",
    "    rSide1 = np.square(x2) + np.square(y2) - np.square(x1) - np.square(y1) - np.square(dd21)\n",
    "    rSide2 = np.square(x3) + np.square(y3) - np.square(x1) - np.square(y1) - np.square(dd31)\n",
    "    rSide3 = np.square(x4) + np.square(y4) - np.square(x1) - np.square(y1) - np.square(dd41)\n",
    "    rSide = np.array([rSide1, rSide2, rSide3])\n",
    "    \n",
    "    lSide1 = [2*(x2-x1), 2*(y2-y1), 2*dd21]\n",
    "    lSide2 = [2*(x3-x1), 2*(y3-y1), 2*dd31]\n",
    "    lSide3 = [2*(x4-x1), 2*(y4-y1), 2*dd41]\n",
    "    lSide = np.array([lSide1, lSide2, lSide3])\n",
    "    \n",
    "    result = np.linalg.solve(lSide, rSide)\n",
    "    finalx = result[0]\n",
    "    finaly = result[1]\n",
    "    finald1 = result[2]\n",
    "    #for z, we use the average of the four base station z\n",
    "    finalz = (z1+z2+z3+z4)/4.0\n",
    "    \n",
    "    #######\n",
    "    # here is the old method of using Least Square\n",
    "    #####\n",
    "    # Bugging out w/ data type issues even with a valid matrix\n",
    "    #Hf = np.matrix([[x2, y2, z2, dd21], [x3, y3, z3, dd31], [x4, y4, z4, dd41]])\n",
    "\n",
    "    #def km_squared4(x, y, z, d):\n",
    "    #    return (np.square(x) + np.square(y) + np.square(z) - np.square(d)) / 2.0\n",
    "\n",
    "    #km1 = km_squared4(x2, y2, z2, dd21)\n",
    "    #km2 = km_squared4(x3, y3, z3, dd31)\n",
    "    #km3 = km_squared4(x4, y4, z4, dd41)\n",
    "\n",
    "    #     print km1\n",
    "    #     print km2\n",
    "    #     print km3\n",
    "\n",
    "    #m = np.array([km1, km2, km3])\n",
    "\n",
    "    #xf = np.linalg.lstsq(Hf, m)[0]\n",
    "\n",
    "    #finalx = xf[0]\n",
    "    #finaly = xf[1]\n",
    "    #finalz = xf[2]\n",
    "    #finald = xf[3]\n",
    "    ######\n",
    "    # the end of the old Least Square code\n",
    "    ######\n",
    "    \n",
    "    # Maybe test some assertion that all numbers are reasonable, as well as visualization for debugging\n",
    "    # Cartesian back to Lat/Lon\n",
    "    lat = math.degrees(math.asin(finalz / earthR))\n",
    "    lon = math.degrees(math.atan2(finaly, finalx))\n",
    "\n",
    "    #     lat = lat + 19.713\n",
    "    #     lon = lon\n",
    "    # Unique to these points\n",
    "    # Blue points\n",
    "    #     lat = lat + 19.713 + 0.0866155396 + 0.02734440888\n",
    "    #     lon = lon - 0.00614129 - 0.02932030494\n",
    "    # Yellow points (manual adjustment, latitude and longitude need to drop)\n",
    "    #     lat = lat + 19.713 + 0.0866155396\n",
    "    #     lon = lon - 0.00614129 - 0.02932030494 - 0.01\n",
    "    # Red points (no more manual adjustment, but offsets dropped from 4 to 3)\n",
    "    #lat = lat + 19.713 + 0.0866155396\n",
    "    #lon = lon - 0.00614129 - 0.02932030494 - 0.01\n",
    "\n",
    "    #     print str(lat)+\",-\" + str(lon) + \" <green>\"\n",
    "    return lat, -1 * lon\n"
   ]
  },
  {
   "cell_type": "code",
   "execution_count": 51,
   "metadata": {
    "collapsed": true
   },
   "outputs": [],
   "source": [
    "def lat_lon_2_xy(lat, lon, phi0 = 37.4012, lambda0 = 121.9750):\n",
    "    earthR = 6371\n",
    "    y1 = earthR*math.radians(lat - phi0)\n",
    "    x1 = earthR*math.radians(lon - lambda0)*math.cos(math.radians(phi0))\n",
    "    return x1, y1"
   ]
  },
  {
   "cell_type": "code",
   "execution_count": 52,
   "metadata": {
    "collapsed": true
   },
   "outputs": [],
   "source": [
    "def tdoa_lora_4_use_xy(tag, ts1, ts2, ts3, ts4):\n",
    "    earthR = 6371\n",
    "    c = 299792\n",
    "    phi0 = 37.4012\n",
    "    lambda0 = 121.9750\n",
    "    #phi0 and lambda0 is the latitude and the longitude of the center point of the AOI (area of interest)\n",
    "    \n",
    "    #takes four time stamp measurements and four base positions. \n",
    "    #return the position of the tag\n",
    "    \n",
    "    finalx = None\n",
    "    finaly = None\n",
    "    finalz = None\n",
    "    finald = None\n",
    "\n",
    "    base_time = ts1.getTimeStamp()\n",
    "    td21 = math.fabs(ts2.getTimeStamp() - base_time)\n",
    "    td31 = math.fabs(ts3.getTimeStamp() - base_time)\n",
    "    td41 = math.fabs(ts4.getTimeStamp() - base_time)\n",
    "\n",
    "    dd21 = c * td21\n",
    "    dd31 = c * td31\n",
    "    dd41 = c * td41\n",
    "\n",
    "    # convert Lat and Long to cartisian x,y in the AOI\n",
    "    \n",
    "    y1 = earthR*math.radians(ts1.getLatitude() - phi0)\n",
    "    x1 = earthR*math.radians(ts1.getLongitude() - lambda0)*math.cos(math.radians(phi0))\n",
    "    y2 = earthR*math.radians(ts2.getLatitude() - phi0)\n",
    "    x2 = earthR*math.radians(ts2.getLongitude() - lambda0)*math.cos(math.radians(phi0))\n",
    "    y3 = earthR*math.radians(ts3.getLatitude() - phi0)\n",
    "    x3 = earthR*math.radians(ts3.getLongitude() - lambda0)*math.cos(math.radians(phi0))\n",
    "    y4 = earthR*math.radians(ts4.getLatitude() - phi0)\n",
    "    x4 = earthR*math.radians(ts4.getLongitude() - lambda0)*math.cos(math.radians(phi0))\n",
    "       \n",
    "\n",
    "    rSide1 = np.square(x2) + np.square(y2) - np.square(x1) - np.square(y1) - np.square(dd21)\n",
    "    rSide2 = np.square(x3) + np.square(y3) - np.square(x1) - np.square(y1) - np.square(dd31)\n",
    "    rSide3 = np.square(x4) + np.square(y4) - np.square(x1) - np.square(y1) - np.square(dd41)\n",
    "    rSide = np.array([rSide1, rSide2, rSide3])\n",
    "    \n",
    "    lSide1 = [2*(x2-x1), 2*(y2-y1), 2*dd21]\n",
    "    lSide2 = [2*(x3-x1), 2*(y3-y1), 2*dd31]\n",
    "    lSide3 = [2*(x4-x1), 2*(y4-y1), 2*dd41]\n",
    "    lSide = np.array([lSide1, lSide2, lSide3])\n",
    "    \n",
    "    result = np.linalg.solve(lSide, rSide)\n",
    "    finalx = result[0]\n",
    "    finaly = result[1]\n",
    "    finald1 = result[2]\n",
    "    \n",
    "    #lat = \n",
    "    #lon = \n",
    "\n",
    "    return finalx, finaly\n"
   ]
  },
  {
   "cell_type": "code",
   "execution_count": 53,
   "metadata": {},
   "outputs": [
    {
     "data": {
      "text/plain": [
       "[0.015797332783349161,\n",
       " 35.985936129129307,\n",
       " 48.332706789046142,\n",
       " 0.18436086361978593]"
      ]
     },
     "execution_count": 53,
     "metadata": {},
     "output_type": "execute_result"
    }
   ],
   "source": [
    "center = [ 37.40040, -121.97354]\n",
    "corner1 = [ 37.40029525, -121.97367858]\n",
    "predicted1 = [37.528, -121.6]\n",
    "predicted2 = [37.534, -121.46]\n",
    "\n",
    "broadmoor1 = [37.314376, -121.985203]\n",
    "broadmoor2 = [37.312464, -121.985718]\n",
    "[haversinedist1(corner1, center), haversinedist1(predicted1, center), \n",
    " haversinedist1(predicted2, center), haversinedist1(broadmoor1, broadmoor2)]"
   ]
  },
  {
   "cell_type": "code",
   "execution_count": 54,
   "metadata": {},
   "outputs": [
    {
     "name": "stderr",
     "output_type": "stream",
     "text": [
      "/Users/jonathan/anaconda2/lib/python2.7/site-packages/ipykernel_launcher.py:35: RuntimeWarning: invalid value encountered in sqrt\n"
     ]
    }
   ],
   "source": [
    "latlist = []\n",
    "lonlist = []\n",
    "\n",
    "# Adjust based on center of GPS points\n",
    "CENTLAT = 37.414753\n",
    "CENTLON = -122.000893\n",
    "\n",
    "terminate = 0\n",
    "prevRow = None\n",
    "prevPrevRow = None\n",
    "prev3Row = None\n",
    "validpoint = 0\n",
    "avglat = 0\n",
    "avglon = 0\n",
    "# reportLoc = None\n",
    "for index, row in orderClTs.iterrows():\n",
    "    terminate += 1\n",
    "    if terminate == 4:\n",
    "        ts1 = tdw.DistStamp(float(row[\"guessdist\"]), float(row[\"gwlat\"]), float(row[\"netgwlon\"]))\n",
    "        ts2 = tdw.DistStamp(float(prevRow[\"guessdist\"]), float(prevRow[\"gwlat\"]), float(prevPrevRow[\"netgwlon\"]))\n",
    "        ts3 = tdw.DistStamp(float(prevPrevRow[\"guessdist\"]), float(prevPrevRow[\"gwlat\"]),\n",
    "                            float(prevPrevRow[\"netgwlon\"]))\n",
    "        ts4 = tdw.DistStamp(float(prev3Row[\"guessdist\"]), float(prev3Row[\"gwlat\"]), float(prev3Row[\"netgwlon\"]))\n",
    "        ping1 = trilat_open(ts1, ts2, ts3)\n",
    "        ping2 = trilat_open(ts1, ts2, ts4)\n",
    "        ping3 = trilat_open(ts2, ts3, ts4)\n",
    "        ping4 = trilat_open(ts1, ts3, ts4)\n",
    "        ping1lat, ping1lon = trilat_open(ts1, ts2, ts3)\n",
    "        ping2lat, ping2lon = trilat_open(ts1, ts2, ts4)\n",
    "        ping3lat, ping3lon = trilat_open(ts2, ts3, ts4)\n",
    "        ping4lat, ping4lon = trilat_open(ts1, ts3, ts4)\n",
    "        pinglist = [str(ping1).strip().strip(\"()\"), str(ping2).strip().strip(\"()\"), str(ping3).strip().strip(\"()\"),\n",
    "                    str(ping4).strip().strip(\"()\")]\n",
    "        pinglatlon = [(ping1lat, ping1lon), (ping2lat, ping2lon), (ping3lat, ping3lon), (ping4lat, ping4lon)]\n",
    "        for lat, lon in pinglatlon:\n",
    "            # Widened up thresholds to get valid points\n",
    "            if lat != \"nan\" and haversinedist(lat, lon, CENTLAT, CENTLON) < 100:\n",
    "                # print str(lat) + \", \" + str(lon) + \" <orange>\"\n",
    "                # reportLoc = str(lat) + \", \" + str(lon)\n",
    "\n",
    "                latlist.append(lat)\n",
    "                lonlist.append(lon)\n",
    "                validpoint += 1\n",
    "\n",
    "        terminate = 0\n",
    "    prev3Row = prevPrevRow\n",
    "    prevPrevRow = prevRow\n",
    "    prevRow = row\n",
    "\n"
   ]
  },
  {
   "cell_type": "code",
   "execution_count": 55,
   "metadata": {},
   "outputs": [
    {
     "data": {
      "text/plain": [
       "(296, 12)"
      ]
     },
     "execution_count": 55,
     "metadata": {},
     "output_type": "execute_result"
    }
   ],
   "source": [
    "orderClTs.shape"
   ]
  },
  {
   "cell_type": "code",
   "execution_count": 56,
   "metadata": {},
   "outputs": [
    {
     "data": {
      "text/html": [
       "<div>\n",
       "<style>\n",
       "    .dataframe thead tr:only-child th {\n",
       "        text-align: right;\n",
       "    }\n",
       "\n",
       "    .dataframe thead th {\n",
       "        text-align: left;\n",
       "    }\n",
       "\n",
       "    .dataframe tbody tr th {\n",
       "        vertical-align: top;\n",
       "    }\n",
       "</style>\n",
       "<table border=\"1\" class=\"dataframe\">\n",
       "  <thead>\n",
       "    <tr style=\"text-align: right;\">\n",
       "      <th></th>\n",
       "      <th>msgno</th>\n",
       "      <th>gwip</th>\n",
       "      <th>ts</th>\n",
       "      <th>ftime</th>\n",
       "      <th>gpslat</th>\n",
       "      <th>netgpslon</th>\n",
       "      <th>gwlat</th>\n",
       "      <th>netgwlon</th>\n",
       "      <th>rssic</th>\n",
       "      <th>lsnr</th>\n",
       "      <th>geodist</th>\n",
       "      <th>guessdist</th>\n",
       "    </tr>\n",
       "  </thead>\n",
       "  <tbody>\n",
       "    <tr>\n",
       "      <th>(17L</th>\n",
       "      <td>4</td>\n",
       "      <td>'172.56.38.52:23411'</td>\n",
       "      <td>.230965</td>\n",
       "      <td>0.031906</td>\n",
       "      <td>37.40224075</td>\n",
       "      <td>121.97351074</td>\n",
       "      <td>37.40026</td>\n",
       "      <td>121.9774</td>\n",
       "      <td>-94.0</td>\n",
       "      <td>13.0</td>\n",
       "      <td>0.394114</td>\n",
       "      <td>0.228355</td>\n",
       "    </tr>\n",
       "    <tr>\n",
       "      <th>(20L</th>\n",
       "      <td>4</td>\n",
       "      <td>'172.56.39.153:42521'</td>\n",
       "      <td>.230964</td>\n",
       "      <td>0.031905</td>\n",
       "      <td>37.40224075</td>\n",
       "      <td>121.97351074</td>\n",
       "      <td>37.40281</td>\n",
       "      <td>121.97539</td>\n",
       "      <td>-82.0</td>\n",
       "      <td>15.0</td>\n",
       "      <td>0.176368</td>\n",
       "      <td>0.177774</td>\n",
       "    </tr>\n",
       "    <tr>\n",
       "      <th>(19L</th>\n",
       "      <td>4</td>\n",
       "      <td>'172.56.39.253:61960'</td>\n",
       "      <td>.230968</td>\n",
       "      <td>0.031905</td>\n",
       "      <td>37.40224075</td>\n",
       "      <td>121.97351074</td>\n",
       "      <td>37.40053</td>\n",
       "      <td>121.97447</td>\n",
       "      <td>-85.0</td>\n",
       "      <td>15.0</td>\n",
       "      <td>0.181592</td>\n",
       "      <td>0.198426</td>\n",
       "    </tr>\n",
       "    <tr>\n",
       "      <th>(18L</th>\n",
       "      <td>4</td>\n",
       "      <td>'172.56.39.79:39374'</td>\n",
       "      <td>.230970</td>\n",
       "      <td>0.031904</td>\n",
       "      <td>37.40224075</td>\n",
       "      <td>121.97351074</td>\n",
       "      <td>37.4023</td>\n",
       "      <td>121.97352</td>\n",
       "      <td>-58.0</td>\n",
       "      <td>15.0</td>\n",
       "      <td>0.005605</td>\n",
       "      <td>0.008773</td>\n",
       "    </tr>\n",
       "    <tr>\n",
       "      <th>(25L</th>\n",
       "      <td>6</td>\n",
       "      <td>'172.56.38.52:23411'</td>\n",
       "      <td>.656554</td>\n",
       "      <td>0.457499</td>\n",
       "      <td>37.40224456</td>\n",
       "      <td>121.97351074</td>\n",
       "      <td>37.40026</td>\n",
       "      <td>121.9774</td>\n",
       "      <td>-99.0</td>\n",
       "      <td>9.0</td>\n",
       "      <td>0.394282</td>\n",
       "      <td>0.220797</td>\n",
       "    </tr>\n",
       "    <tr>\n",
       "      <th>(26L</th>\n",
       "      <td>6</td>\n",
       "      <td>'172.56.39.153:42521'</td>\n",
       "      <td>.656558</td>\n",
       "      <td>0.457499</td>\n",
       "      <td>37.40224456</td>\n",
       "      <td>121.97351074</td>\n",
       "      <td>37.4028</td>\n",
       "      <td>121.97539</td>\n",
       "      <td>-84.0</td>\n",
       "      <td>14.0</td>\n",
       "      <td>0.175982</td>\n",
       "      <td>0.192013</td>\n",
       "    </tr>\n",
       "    <tr>\n",
       "      <th>(27L</th>\n",
       "      <td>6</td>\n",
       "      <td>'172.56.39.253:61960'</td>\n",
       "      <td>.656553</td>\n",
       "      <td>0.457498</td>\n",
       "      <td>37.40224456</td>\n",
       "      <td>121.97351074</td>\n",
       "      <td>37.40053</td>\n",
       "      <td>121.97448</td>\n",
       "      <td>-87.0</td>\n",
       "      <td>14.0</td>\n",
       "      <td>0.182330</td>\n",
       "      <td>0.209618</td>\n",
       "    </tr>\n",
       "    <tr>\n",
       "      <th>(24L</th>\n",
       "      <td>6</td>\n",
       "      <td>'172.56.39.79:39374'</td>\n",
       "      <td>.656555</td>\n",
       "      <td>0.457498</td>\n",
       "      <td>37.40224456</td>\n",
       "      <td>121.97351074</td>\n",
       "      <td>37.40229</td>\n",
       "      <td>121.97353</td>\n",
       "      <td>-58.0</td>\n",
       "      <td>15.0</td>\n",
       "      <td>0.004587</td>\n",
       "      <td>0.008773</td>\n",
       "    </tr>\n",
       "    <tr>\n",
       "      <th>(30L</th>\n",
       "      <td>7</td>\n",
       "      <td>'172.56.38.52:23411'</td>\n",
       "      <td>.869352</td>\n",
       "      <td>0.670298</td>\n",
       "      <td>37.40224456</td>\n",
       "      <td>121.97351074</td>\n",
       "      <td>37.40026</td>\n",
       "      <td>121.97741</td>\n",
       "      <td>-93.0</td>\n",
       "      <td>15.0</td>\n",
       "      <td>0.395071</td>\n",
       "      <td>0.227784</td>\n",
       "    </tr>\n",
       "    <tr>\n",
       "      <th>(31L</th>\n",
       "      <td>7</td>\n",
       "      <td>'172.56.39.153:42521'</td>\n",
       "      <td>.869355</td>\n",
       "      <td>0.670297</td>\n",
       "      <td>37.40224456</td>\n",
       "      <td>121.97351074</td>\n",
       "      <td>37.4028</td>\n",
       "      <td>121.97539</td>\n",
       "      <td>-93.0</td>\n",
       "      <td>5.0</td>\n",
       "      <td>0.175982</td>\n",
       "      <td>0.227784</td>\n",
       "    </tr>\n",
       "    <tr>\n",
       "      <th>(28L</th>\n",
       "      <td>7</td>\n",
       "      <td>'172.56.39.253:61960'</td>\n",
       "      <td>.869350</td>\n",
       "      <td>0.670297</td>\n",
       "      <td>37.40224456</td>\n",
       "      <td>121.97351074</td>\n",
       "      <td>37.40053</td>\n",
       "      <td>121.97448</td>\n",
       "      <td>-92.0</td>\n",
       "      <td>12.0</td>\n",
       "      <td>0.182330</td>\n",
       "      <td>0.226494</td>\n",
       "    </tr>\n",
       "    <tr>\n",
       "      <th>(29L</th>\n",
       "      <td>7</td>\n",
       "      <td>'172.56.39.79:39374'</td>\n",
       "      <td>.869348</td>\n",
       "      <td>0.670296</td>\n",
       "      <td>37.40224456</td>\n",
       "      <td>121.97351074</td>\n",
       "      <td>37.40229</td>\n",
       "      <td>121.97353</td>\n",
       "      <td>-61.0</td>\n",
       "      <td>15.0</td>\n",
       "      <td>0.004587</td>\n",
       "      <td>0.018088</td>\n",
       "    </tr>\n",
       "    <tr>\n",
       "      <th>(34L</th>\n",
       "      <td>8</td>\n",
       "      <td>'172.56.38.52:23411'</td>\n",
       "      <td>.082374</td>\n",
       "      <td>0.883314</td>\n",
       "      <td>37.40224838</td>\n",
       "      <td>121.97351074</td>\n",
       "      <td>37.40026</td>\n",
       "      <td>121.97741</td>\n",
       "      <td>-105.0</td>\n",
       "      <td>8.0</td>\n",
       "      <td>0.395240</td>\n",
       "      <td>0.193756</td>\n",
       "    </tr>\n",
       "    <tr>\n",
       "      <th>(33L</th>\n",
       "      <td>8</td>\n",
       "      <td>'172.56.39.153:42521'</td>\n",
       "      <td>.082376</td>\n",
       "      <td>0.883315</td>\n",
       "      <td>37.40224838</td>\n",
       "      <td>121.97351074</td>\n",
       "      <td>37.4028</td>\n",
       "      <td>121.97539</td>\n",
       "      <td>-94.0</td>\n",
       "      <td>14.0</td>\n",
       "      <td>0.175877</td>\n",
       "      <td>0.228355</td>\n",
       "    </tr>\n",
       "    <tr>\n",
       "      <th>(32L</th>\n",
       "      <td>8</td>\n",
       "      <td>'172.56.39.253:61960'</td>\n",
       "      <td>.082371</td>\n",
       "      <td>0.883314</td>\n",
       "      <td>37.40224838</td>\n",
       "      <td>121.97351074</td>\n",
       "      <td>37.40053</td>\n",
       "      <td>121.97448</td>\n",
       "      <td>-80.0</td>\n",
       "      <td>15.0</td>\n",
       "      <td>0.182644</td>\n",
       "      <td>0.161977</td>\n",
       "    </tr>\n",
       "    <tr>\n",
       "      <th>(35L</th>\n",
       "      <td>8</td>\n",
       "      <td>'172.56.39.79:39374'</td>\n",
       "      <td>.082373</td>\n",
       "      <td>0.883313</td>\n",
       "      <td>37.40224838</td>\n",
       "      <td>121.97351074</td>\n",
       "      <td>37.40229</td>\n",
       "      <td>121.97353</td>\n",
       "      <td>-64.0</td>\n",
       "      <td>15.0</td>\n",
       "      <td>0.004258</td>\n",
       "      <td>0.032698</td>\n",
       "    </tr>\n",
       "    <tr>\n",
       "      <th>(37L</th>\n",
       "      <td>9</td>\n",
       "      <td>'172.56.38.52:23411'</td>\n",
       "      <td>.295660</td>\n",
       "      <td>0.096597</td>\n",
       "      <td>37.40224838</td>\n",
       "      <td>121.97351837</td>\n",
       "      <td>37.40026</td>\n",
       "      <td>121.97741</td>\n",
       "      <td>-96.0</td>\n",
       "      <td>15.0</td>\n",
       "      <td>0.394638</td>\n",
       "      <td>0.227360</td>\n",
       "    </tr>\n",
       "    <tr>\n",
       "      <th>(39L</th>\n",
       "      <td>9</td>\n",
       "      <td>'172.56.39.153:42521'</td>\n",
       "      <td>.295661</td>\n",
       "      <td>0.096599</td>\n",
       "      <td>37.40224838</td>\n",
       "      <td>121.97351837</td>\n",
       "      <td>37.40279</td>\n",
       "      <td>121.97541</td>\n",
       "      <td>-94.0</td>\n",
       "      <td>10.0</td>\n",
       "      <td>0.176665</td>\n",
       "      <td>0.228355</td>\n",
       "    </tr>\n",
       "    <tr>\n",
       "      <th>(38L</th>\n",
       "      <td>9</td>\n",
       "      <td>'172.56.39.253:61960'</td>\n",
       "      <td>.295656</td>\n",
       "      <td>0.096596</td>\n",
       "      <td>37.40224838</td>\n",
       "      <td>121.97351837</td>\n",
       "      <td>37.40052</td>\n",
       "      <td>121.97448</td>\n",
       "      <td>-87.0</td>\n",
       "      <td>11.0</td>\n",
       "      <td>0.183147</td>\n",
       "      <td>0.209618</td>\n",
       "    </tr>\n",
       "    <tr>\n",
       "      <th>(36L</th>\n",
       "      <td>9</td>\n",
       "      <td>'172.56.39.79:39374'</td>\n",
       "      <td>.295654</td>\n",
       "      <td>0.096595</td>\n",
       "      <td>37.40224838</td>\n",
       "      <td>121.97351837</td>\n",
       "      <td>37.40229</td>\n",
       "      <td>121.97353</td>\n",
       "      <td>-64.0</td>\n",
       "      <td>15.0</td>\n",
       "      <td>0.004030</td>\n",
       "      <td>0.032698</td>\n",
       "    </tr>\n",
       "  </tbody>\n",
       "</table>\n",
       "</div>"
      ],
      "text/plain": [
       "     msgno                    gwip       ts     ftime       gpslat  \\\n",
       "(17L     4    '172.56.38.52:23411'  .230965  0.031906  37.40224075   \n",
       "(20L     4   '172.56.39.153:42521'  .230964  0.031905  37.40224075   \n",
       "(19L     4   '172.56.39.253:61960'  .230968  0.031905  37.40224075   \n",
       "(18L     4    '172.56.39.79:39374'  .230970  0.031904  37.40224075   \n",
       "(25L     6    '172.56.38.52:23411'  .656554  0.457499  37.40224456   \n",
       "(26L     6   '172.56.39.153:42521'  .656558  0.457499  37.40224456   \n",
       "(27L     6   '172.56.39.253:61960'  .656553  0.457498  37.40224456   \n",
       "(24L     6    '172.56.39.79:39374'  .656555  0.457498  37.40224456   \n",
       "(30L     7    '172.56.38.52:23411'  .869352  0.670298  37.40224456   \n",
       "(31L     7   '172.56.39.153:42521'  .869355  0.670297  37.40224456   \n",
       "(28L     7   '172.56.39.253:61960'  .869350  0.670297  37.40224456   \n",
       "(29L     7    '172.56.39.79:39374'  .869348  0.670296  37.40224456   \n",
       "(34L     8    '172.56.38.52:23411'  .082374  0.883314  37.40224838   \n",
       "(33L     8   '172.56.39.153:42521'  .082376  0.883315  37.40224838   \n",
       "(32L     8   '172.56.39.253:61960'  .082371  0.883314  37.40224838   \n",
       "(35L     8    '172.56.39.79:39374'  .082373  0.883313  37.40224838   \n",
       "(37L     9    '172.56.38.52:23411'  .295660  0.096597  37.40224838   \n",
       "(39L     9   '172.56.39.153:42521'  .295661  0.096599  37.40224838   \n",
       "(38L     9   '172.56.39.253:61960'  .295656  0.096596  37.40224838   \n",
       "(36L     9    '172.56.39.79:39374'  .295654  0.096595  37.40224838   \n",
       "\n",
       "         netgpslon     gwlat   netgwlon  rssic  lsnr   geodist  guessdist  \n",
       "(17L  121.97351074  37.40026   121.9774  -94.0  13.0  0.394114   0.228355  \n",
       "(20L  121.97351074  37.40281  121.97539  -82.0  15.0  0.176368   0.177774  \n",
       "(19L  121.97351074  37.40053  121.97447  -85.0  15.0  0.181592   0.198426  \n",
       "(18L  121.97351074   37.4023  121.97352  -58.0  15.0  0.005605   0.008773  \n",
       "(25L  121.97351074  37.40026   121.9774  -99.0   9.0  0.394282   0.220797  \n",
       "(26L  121.97351074   37.4028  121.97539  -84.0  14.0  0.175982   0.192013  \n",
       "(27L  121.97351074  37.40053  121.97448  -87.0  14.0  0.182330   0.209618  \n",
       "(24L  121.97351074  37.40229  121.97353  -58.0  15.0  0.004587   0.008773  \n",
       "(30L  121.97351074  37.40026  121.97741  -93.0  15.0  0.395071   0.227784  \n",
       "(31L  121.97351074   37.4028  121.97539  -93.0   5.0  0.175982   0.227784  \n",
       "(28L  121.97351074  37.40053  121.97448  -92.0  12.0  0.182330   0.226494  \n",
       "(29L  121.97351074  37.40229  121.97353  -61.0  15.0  0.004587   0.018088  \n",
       "(34L  121.97351074  37.40026  121.97741 -105.0   8.0  0.395240   0.193756  \n",
       "(33L  121.97351074   37.4028  121.97539  -94.0  14.0  0.175877   0.228355  \n",
       "(32L  121.97351074  37.40053  121.97448  -80.0  15.0  0.182644   0.161977  \n",
       "(35L  121.97351074  37.40229  121.97353  -64.0  15.0  0.004258   0.032698  \n",
       "(37L  121.97351837  37.40026  121.97741  -96.0  15.0  0.394638   0.227360  \n",
       "(39L  121.97351837  37.40279  121.97541  -94.0  10.0  0.176665   0.228355  \n",
       "(38L  121.97351837  37.40052  121.97448  -87.0  11.0  0.183147   0.209618  \n",
       "(36L  121.97351837  37.40229  121.97353  -64.0  15.0  0.004030   0.032698  "
      ]
     },
     "execution_count": 56,
     "metadata": {},
     "output_type": "execute_result"
    }
   ],
   "source": [
    "orderClTs.head(20)"
   ]
  },
  {
   "cell_type": "code",
   "execution_count": 58,
   "metadata": {
    "collapsed": true
   },
   "outputs": [],
   "source": [
    "x_coord_list = []\n",
    "y_coord_list = []\n",
    "\n",
    "x_gps = []\n",
    "y_gps = []\n",
    "\n",
    "# Adjust based on center of GPS points\n",
    "CENTLAT = 37.414753\n",
    "CENTLON = -122.000893\n",
    "\n",
    "\n",
    "terminate = 0\n",
    "prevRow = None\n",
    "prevPrevRow = None\n",
    "prev3Row = None\n",
    "avglat = 0\n",
    "avglon = 0\n",
    "validPoint = 0\n",
    "for index, row in orderClTs.iterrows():\n",
    "    terminate += 1\n",
    "    if terminate == 4:\n",
    "        ts1 = tw.TimeStamp(float(row[\"ftime\"]), float(row[\"gwlat\"]), float(row[\"netgwlon\"]))\n",
    "        ts2 = tw.TimeStamp(float(prevRow[\"ftime\"]), float(prevRow[\"gwlat\"]), float(prevPrevRow[\"netgwlon\"]))\n",
    "        ts3 = tw.TimeStamp(float(prevPrevRow[\"ftime\"]), float(prevPrevRow[\"gwlat\"]), float(prevPrevRow[\"netgwlon\"]))\n",
    "        ts4 = tw.TimeStamp(float(prev3Row[\"ftime\"]), float(prev3Row[\"gwlat\"]), float(prev3Row[\"netgwlon\"]))\n",
    "        x_coord, y_coord  = tdoa_lora_4_use_xy(1004, ts1, ts2, ts3, ts4)\n",
    "        # Widened up thresholds to get valid points\n",
    "        # need to filter away the obvious invalide points using constraints of the map\n",
    "        #if lat != \"nan\" and haversinedist(lat, lon, CENTLAT, CENTLON) < 100:\n",
    "            # print str(lat) + \",\"+ str(lon) + \" <green>\"\n",
    "            # reportLoc = str(lat) + \",\"+ str(lon)\n",
    "        x_coord_list.append(x_coord)\n",
    "        y_coord_list.append(y_coord)\n",
    "        \n",
    "        lat = float(row['gpslat'])\n",
    "        lon = float(row['netgpslon'])\n",
    "        xy_gps = lat_lon_2_xy(lat, lon)\n",
    "        x_gps.append( xy_gps[0] )\n",
    "        y_gps.append( xy_gps[1] )\n",
    "        \n",
    "        validPoint += 1\n",
    "        terminate = 0\n",
    "    prev3Row = prevPrevRow\n",
    "    prevPrevRow = prevRow\n",
    "    prevRow = row\n",
    "\n",
    "xlistfinal = np.array(x_coord_list)\n",
    "ylistfinal = np.array(y_coord_list)\n",
    "x_gps = np.array(x_gps)\n",
    "y_gps = np.array(y_gps)"
   ]
  },
  {
   "cell_type": "code",
   "execution_count": 59,
   "metadata": {},
   "outputs": [
    {
     "data": {
      "text/plain": [
       "[74, 74, 74, 74]"
      ]
     },
     "execution_count": 59,
     "metadata": {},
     "output_type": "execute_result"
    }
   ],
   "source": [
    "[len(xlistfinal), len(ylistfinal), len(x_gps), len(y_gps)]"
   ]
  },
  {
   "cell_type": "code",
   "execution_count": 60,
   "metadata": {},
   "outputs": [
    {
     "data": {
      "image/png": "[encoded data removed]",
      "text/plain": [
       "<matplotlib.figure.Figure at 0x11d72ce10>"
      ]
     },
     "metadata": {},
     "output_type": "display_data"
    }
   ],
   "source": [
    "plt.scatter(x_gps, y_gps)\n",
    "plt.show()"
   ]
  },
  {
   "cell_type": "code",
   "execution_count": 61,
   "metadata": {},
   "outputs": [
    {
     "data": {
      "image/png": "[encoded data removed]",
      "text/plain": [
       "<matplotlib.figure.Figure at 0x11d132fd0>"
      ]
     },
     "metadata": {},
     "output_type": "display_data"
    }
   ],
   "source": [
    "plt.scatter(xlistfinal, ylistfinal)\n",
    "plt.show()"
   ]
  },
  {
   "cell_type": "code",
   "execution_count": null,
   "metadata": {
    "collapsed": true
   },
   "outputs": [],
   "source": [
    "plt.plot(xlistfinal - x_gps)\n",
    "plt.show()"
   ]
  },
  {
   "cell_type": "code",
   "execution_count": null,
   "metadata": {
    "collapsed": true
   },
   "outputs": [],
   "source": [
    "plt.plot(ylistfinal- y_gps)\n",
    "plt.show()"
   ]
  },
  {
   "cell_type": "code",
   "execution_count": null,
   "metadata": {
    "collapsed": true
   },
   "outputs": [],
   "source": []
  },
  {
   "cell_type": "code",
   "execution_count": null,
   "metadata": {
    "collapsed": true
   },
   "outputs": [],
   "source": [
    "#remove the outlier\n",
    "x_clean = xlistfinal[xlistfinal < 8]\n",
    "y_clean = ylistfinal[xlistfinal < 8]\n",
    "x_gps_clean = x_gps[xlistfinal < 8]\n",
    "y_gps_clean = y_gps[xlistfinal <8]"
   ]
  },
  {
   "cell_type": "code",
   "execution_count": null,
   "metadata": {
    "collapsed": true
   },
   "outputs": [],
   "source": [
    "plt.plot(x_clean - x_gps_clean)\n",
    "plt.show()"
   ]
  },
  {
   "cell_type": "code",
   "execution_count": null,
   "metadata": {
    "collapsed": true
   },
   "outputs": [],
   "source": [
    "plt.plot(y_clean - y_gps_clean)\n",
    "plt.show()"
   ]
  },
  {
   "cell_type": "code",
   "execution_count": null,
   "metadata": {
    "collapsed": true
   },
   "outputs": [],
   "source": [
    "plt.plot(x_clean)\n",
    "plt.show()"
   ]
  },
  {
   "cell_type": "code",
   "execution_count": null,
   "metadata": {
    "collapsed": true
   },
   "outputs": [],
   "source": [
    "plt.plot(x_gps_clean)\n",
    "plt.show()"
   ]
  },
  {
   "cell_type": "code",
   "execution_count": null,
   "metadata": {
    "collapsed": true
   },
   "outputs": [],
   "source": [
    "plt.plot(y_clean)\n",
    "plt.show()"
   ]
  },
  {
   "cell_type": "code",
   "execution_count": null,
   "metadata": {
    "collapsed": true
   },
   "outputs": [],
   "source": [
    "from scipy.interpolate import UnivariateSpline\n",
    "from scipy.signal import wiener, filtfilt, butter, gaussian, freqz\n",
    "from scipy.ndimage import filters\n",
    "import scipy.optimize as op\n",
    "\n",
    "#gaussian kernel\n",
    "b = gaussian(39, 10)\n",
    "b1 = gaussian(39, 5)\n",
    "\n",
    "x_clean_smoothed = filters.convolve1d(x_clean, b/b.sum())\n",
    "y_clean_smoothed = filters.convolve1d(y_clean, b/b.sum())\n",
    "#y_clean_smooth = np.smooth(y_clean, 10, 'hanning')"
   ]
  },
  {
   "cell_type": "code",
   "execution_count": null,
   "metadata": {
    "collapsed": true
   },
   "outputs": [],
   "source": [
    "plt.plot(-1*x_clean_smoothed); plt.show()"
   ]
  },
  {
   "cell_type": "code",
   "execution_count": null,
   "metadata": {
    "collapsed": true
   },
   "outputs": [],
   "source": [
    "plt.plot(x_gps_clean); plt.show()"
   ]
  },
  {
   "cell_type": "code",
   "execution_count": null,
   "metadata": {
    "collapsed": true
   },
   "outputs": [],
   "source": [
    "plt.plot(y_clean_smoothed)\n",
    "plt.show()"
   ]
  },
  {
   "cell_type": "code",
   "execution_count": null,
   "metadata": {
    "collapsed": true
   },
   "outputs": [],
   "source": [
    "#plt.plot(y_clean_smoothed - y_gps_clean); plt.show()"
   ]
  },
  {
   "cell_type": "code",
   "execution_count": null,
   "metadata": {
    "collapsed": true
   },
   "outputs": [],
   "source": [
    "plt.plot(y_gps_clean)\n",
    "plt.show()"
   ]
  },
  {
   "cell_type": "code",
   "execution_count": null,
   "metadata": {
    "collapsed": true
   },
   "outputs": [],
   "source": [
    "plt.scatter(-1*x_clean_smoothed, y_clean_smoothed); plt.show()"
   ]
  },
  {
   "cell_type": "code",
   "execution_count": null,
   "metadata": {
    "collapsed": true
   },
   "outputs": [],
   "source": [
    "plt.scatter(x_gps_clean, y_gps_clean); plt.show()"
   ]
  },
  {
   "cell_type": "code",
   "execution_count": null,
   "metadata": {
    "collapsed": true
   },
   "outputs": [],
   "source": [
    "errors = []\n",
    "length = len(x_clean_smoothed)\n",
    "#[len(x_clean_smoothed), len(x_gps_clean)]\n",
    "for i in range(length):\n",
    "    x_truth = x_gps_clean[i]\n",
    "    y_truth = y_gps_clean[i]\n",
    "    x_pred = -1*x_clean_smoothed[i]\n",
    "    y_pred = y_clean_smoothed[i]\n",
    "    error = np.sqrt( np.square(x_truth-x_pred) + np.square(y_truth-y_pred) )\n",
    "    errors.append(error)\n"
   ]
  },
  {
   "cell_type": "code",
   "execution_count": null,
   "metadata": {
    "collapsed": true
   },
   "outputs": [],
   "source": [
    "plt.plot(errors); plt.show()"
   ]
  },
  {
   "cell_type": "code",
   "execution_count": null,
   "metadata": {
    "collapsed": true
   },
   "outputs": [],
   "source": [
    "sorted_data = np.sort(errors)\n",
    "yvals=np.arange(len(sorted_data))/float(len(sorted_data)-1)\n",
    "plt.plot(sorted_data,yvals)\n",
    "plt.show()"
   ]
  },
  {
   "cell_type": "code",
   "execution_count": null,
   "metadata": {
    "collapsed": true
   },
   "outputs": [],
   "source": [
    "plt.plot(b)\n",
    "plt.show()"
   ]
  },
  {
   "cell_type": "code",
   "execution_count": null,
   "metadata": {
    "collapsed": true
   },
   "outputs": [],
   "source": [
    "plt.plot(b1)\n",
    "plt.show()"
   ]
  },
  {
   "cell_type": "code",
   "execution_count": null,
   "metadata": {
    "collapsed": true
   },
   "outputs": [],
   "source": [
    "plt.plot(y_gps_clean)\n",
    "plt.show()"
   ]
  },
  {
   "cell_type": "code",
   "execution_count": null,
   "metadata": {
    "collapsed": true
   },
   "outputs": [],
   "source": [
    "[len(x_clean), len(y_clean)]"
   ]
  },
  {
   "cell_type": "code",
   "execution_count": null,
   "metadata": {
    "collapsed": true
   },
   "outputs": [],
   "source": [
    "[min(latlist1), max(latlist1), min(lonlist1), max(lonlist1)]"
   ]
  },
  {
   "cell_type": "code",
   "execution_count": null,
   "metadata": {
    "collapsed": true
   },
   "outputs": [],
   "source": [
    "plt.scatter(latlistfinal, lonlistfinal)\n",
    "#plt.axis([37.4002, 37.4029, 121.9735, 121.9774])\n",
    "#plt.axis([min(latlistfinal), max(latlistfinal), min(lonlistfinal), max(lonlistfinal)])\n",
    "plt.show()"
   ]
  },
  {
   "cell_type": "code",
   "execution_count": null,
   "metadata": {
    "collapsed": true
   },
   "outputs": [],
   "source": [
    "plt.scatter(latlist1, lonlist1)\n",
    "plt.show()"
   ]
  },
  {
   "cell_type": "code",
   "execution_count": null,
   "metadata": {
    "collapsed": true
   },
   "outputs": [],
   "source": [
    "plt.hist(latlist1)\n",
    "plt.show()"
   ]
  },
  {
   "cell_type": "code",
   "execution_count": null,
   "metadata": {
    "collapsed": true
   },
   "outputs": [],
   "source": [
    "plt.hist(lonlist1)\n",
    "plt.show()"
   ]
  },
  {
   "cell_type": "code",
   "execution_count": null,
   "metadata": {
    "collapsed": true
   },
   "outputs": [],
   "source": [
    "#visualize the ones with small errors\n",
    "\n",
    "latlist2 = latlist1[np.abs(latlist1) <1]\n",
    "lonlist2 = lonlist1[np.abs(latlist1) <1]\n",
    "latlist3 = latlist2[np.abs(lonlist2) <1]\n",
    "lonlist3 = lonlist2[np.abs(lonlist2) <1]"
   ]
  },
  {
   "cell_type": "code",
   "execution_count": null,
   "metadata": {
    "collapsed": true
   },
   "outputs": [],
   "source": [
    "plt.hist(latlist2)\n",
    "plt.show()"
   ]
  },
  {
   "cell_type": "code",
   "execution_count": null,
   "metadata": {
    "collapsed": true
   },
   "outputs": [],
   "source": [
    "plt.hist(lonlist3)\n",
    "plt.show()"
   ]
  },
  {
   "cell_type": "code",
   "execution_count": null,
   "metadata": {
    "collapsed": true
   },
   "outputs": [],
   "source": [
    "plt.scatter(latlist3, lonlist3)\n",
    "plt.show()"
   ]
  },
  {
   "cell_type": "code",
   "execution_count": null,
   "metadata": {
    "collapsed": true
   },
   "outputs": [],
   "source": [
    "latlist3.shape"
   ]
  },
  {
   "cell_type": "code",
   "execution_count": null,
   "metadata": {
    "collapsed": true
   },
   "outputs": [],
   "source": [
    "#error in terms of meters\n",
    "center = [ 37.40040, -121.97354]\n",
    "corner1 = [ 37.40029525, -121.97367858]\n",
    "predicted1 = [latlist1[0], lonlist1[0]]\n",
    "predicted2 = [latlist1[50], lonlist1[50]]\n",
    "\n",
    "broadmoor1 = [37.314376, -121.985203]\n",
    "broadmoor2 = [37.312464, -121.985718]\n",
    "[haversinedist1(corner1, center), haversinedist1(predicted1, center), \n",
    " haversinedist1(predicted2, center), haversinedist1(broadmoor1, broadmoor2)]"
   ]
  },
  {
   "cell_type": "code",
   "execution_count": null,
   "metadata": {
    "collapsed": true
   },
   "outputs": [],
   "source": [
    "length = len(latlist1)\n",
    "coords = []\n",
    "for i in range(length):\n",
    "    coords.append( [latlist1[i], lonlist1[i]] )\n"
   ]
  },
  {
   "cell_type": "code",
   "execution_count": null,
   "metadata": {
    "collapsed": true
   },
   "outputs": [],
   "source": [
    "error = []\n",
    "\n",
    "for predicted in coords:\n",
    "    error.append(haversinedist1(predicted , center))"
   ]
  },
  {
   "cell_type": "code",
   "execution_count": null,
   "metadata": {
    "collapsed": true
   },
   "outputs": [],
   "source": []
  },
  {
   "cell_type": "code",
   "execution_count": 1,
   "metadata": {},
   "outputs": [
    {
     "ename": "NameError",
     "evalue": "name 'plt' is not defined",
     "output_type": "error",
     "traceback": [
      "\u001b[0;31m---------------------------------------------------------------------------\u001b[0m",
      "\u001b[0;31mNameError\u001b[0m                                 Traceback (most recent call last)",
      "\u001b[0;32m<ipython-input-1-4980c7c05954>\u001b[0m in \u001b[0;36m<module>\u001b[0;34m()\u001b[0m\n\u001b[0;32m----> 1\u001b[0;31m \u001b[0mplt\u001b[0m\u001b[0;34m.\u001b[0m\u001b[0mplot\u001b[0m\u001b[0;34m(\u001b[0m\u001b[0merror\u001b[0m\u001b[0;34m)\u001b[0m\u001b[0;34m\u001b[0m\u001b[0m\n\u001b[0m\u001b[1;32m      2\u001b[0m \u001b[0mplt\u001b[0m\u001b[0;34m.\u001b[0m\u001b[0mshow\u001b[0m\u001b[0;34m(\u001b[0m\u001b[0;34m)\u001b[0m\u001b[0;34m\u001b[0m\u001b[0m\n",
      "\u001b[0;31mNameError\u001b[0m: name 'plt' is not defined"
     ]
    }
   ],
   "source": [
    "plt.plot(error)\n",
    "plt.show()"
   ]
  },
  {
   "cell_type": "code",
   "execution_count": null,
   "metadata": {
    "collapsed": true
   },
   "outputs": [],
   "source": [
    "cols = ['gpslat','netgpslon']\n",
    "for col in cols: \n",
    "    orderClTs[col] = pd.to_numeric(orderClTs[col], errors='coerce')"
   ]
  },
  {
   "cell_type": "code",
   "execution_count": null,
   "metadata": {
    "collapsed": true
   },
   "outputs": [],
   "source": [
    "orderClTs['gpslat'].shape"
   ]
  },
  {
   "cell_type": "code",
   "execution_count": null,
   "metadata": {
    "collapsed": true
   },
   "outputs": [],
   "source": [
    "plt.scatter(orderClTs['gpslat'], orderClTs['netgpslon'],color='g')\n",
    "\n",
    "plt.axis([37.4002, 37.4029, 121.9735, 121.9774])\n",
    "plt.show()"
   ]
  },
  {
   "cell_type": "code",
   "execution_count": null,
   "metadata": {
    "collapsed": true
   },
   "outputs": [],
   "source": [
    "length = len(orderClTs['gpslat'])\n",
    "gps_x = []\n",
    "gps_y = []\n",
    "for i in range(length):\n",
    "    lat = orderClTs['gpslat'][i]\n",
    "    lon = orderClTs['netgpslon'][i]\n",
    "    gps_xy = lat_lon_2_xy(lat, lon)\n",
    "    gps_x.append( gps_xy[0] )\n",
    "    gps_y.append( gps_xy[1] )\n",
    "\n",
    "    "
   ]
  },
  {
   "cell_type": "code",
   "execution_count": null,
   "metadata": {
    "collapsed": true
   },
   "outputs": [],
   "source": [
    "plt.scatter(gps_x, gps_y)\n",
    "plt.show()"
   ]
  },
  {
   "cell_type": "code",
   "execution_count": null,
   "metadata": {
    "collapsed": true
   },
   "outputs": [],
   "source": [
    "plt.scatter(latlist3, lonlist3)\n",
    "plt.show()"
   ]
  },
  {
   "cell_type": "code",
   "execution_count": null,
   "metadata": {
    "collapsed": true
   },
   "outputs": [],
   "source": [
    "a = np.array(latlist)\n",
    "b = np.array(lonlist)\n",
    "d = np.polyfit(a, b, 10)\n",
    "\n",
    "outputpoints = pd.DataFrame([])\n",
    "outputpoints['latlist'] = a\n",
    "outputpoints['lonlist'] = b\n",
    "\n",
    "guessLon = []\n",
    "# Switch up the variable so can rapidly test each column\n",
    "for r in np.array(outputpoints['latlist']):\n",
    "    guessLon.append(\n",
    "        d[0] * pow(r, 10) + d[1] * pow(r, 9) + d[2] * pow(r, 8) + d[3] * pow(r, 7) + d[4] * pow(r, 6) + d[5] * pow(r,\n",
    "                                                                                                                   5) +\n",
    "        d[6] * pow(r, 4) + d[7] * pow(r, 3) + d[8] * pow(r, 2) + d[9] * r + d[10])\n",
    "outputpoints['guesslon'] = np.absolute(np.array(guessLon))\n",
    "\n",
    "# Newlat range (set based on geometry of port)\n",
    "newlatlow = 37.5277789057\n",
    "newlathigh = 37.5342269681\n",
    "latincre = (newlathigh - newlatlow) / len(serverdata)\n",
    "newlats = list(np.arange(newlatlow, newlathigh, latincre))\n",
    "\n",
    "newlons = []\n",
    "for l in newlats:\n",
    "    newlons.append(float(\n",
    "        d[0] * pow(l, 10) + d[1] * pow(l, 9) + d[2] * pow(l, 8) + d[3] * pow(l, 7) + d[4] * pow(l, 6) + d[5] * pow(l,\n",
    "                                                                                                                   5) +\n",
    "        d[6] * pow(l, 4) + d[7] * pow(l, 3) + d[8] * pow(l, 2) + d[9] * l + d[10]))\n",
    "\n",
    "#\n",
    "finaldf = pd.DataFrame([])\n",
    "non_decimal = re.compile(r'[^\\d.]+')\n",
    "for index, row in serverdata.iterrows():\n",
    "    finaldf.loc[row['RID'], 'rid'] = row['RID']\n",
    "    finaldf.loc[row['RID'], 'tid'] = row['TID']\n",
    "    finaldf.loc[row['RID'], 'gwip'] = row['gwip']\n",
    "    finaldf.loc[row['RID'], 'msgno'] = non_decimal.sub('', str(row['MsgNo']))\n",
    "    finaldf.loc[row['RID'], 'ts'] = row['ts']\n",
    "    finaldf.loc[row['RID'], 'gpslat'] = non_decimal.sub('', str(row['gpslat']))\n",
    "    finaldf.loc[row['RID'], 'netgpslon'] = non_decimal.sub('', str(row['gpslon']))\n",
    "    finaldf.loc[row['RID'], 'gwlat'] = non_decimal.sub('', str(row['gwlat']))\n",
    "    finaldf.loc[row['RID'], 'netgwlon'] = non_decimal.sub('', str(row['gwlon']))\n",
    "    finaldf.loc[row['RID'], 'temp'] = row['temp']\n",
    "    finaldf.loc[row['RID'], 'pressure'] = row['pressure']\n",
    "    finaldf.loc[row['RID'], 'elevation'] = row['elevation']\n",
    "    finaldf.loc[row['RID'], 'rssic'] = row['rssic']\n",
    "    finaldf.loc[row['RID'], 'lsnr'] = float(row['lsnr'])\n",
    "\n",
    "finaldf['reportlat'] = newlats\n",
    "finaldf['reportlon'] = newlons\n"
   ]
  },
  {
   "cell_type": "code",
   "execution_count": null,
   "metadata": {
    "collapsed": true
   },
   "outputs": [],
   "source": [
    "d"
   ]
  },
  {
   "cell_type": "code",
   "execution_count": null,
   "metadata": {
    "collapsed": true
   },
   "outputs": [],
   "source": [
    "plt.scatter(a,b)\n",
    "plt.show()"
   ]
  },
  {
   "cell_type": "code",
   "execution_count": null,
   "metadata": {
    "collapsed": true
   },
   "outputs": [],
   "source": [
    "finaldf.shape"
   ]
  },
  {
   "cell_type": "code",
   "execution_count": null,
   "metadata": {
    "collapsed": true,
    "scrolled": false
   },
   "outputs": [],
   "source": [
    "finaldf.head(20)"
   ]
  },
  {
   "cell_type": "code",
   "execution_count": null,
   "metadata": {
    "collapsed": true
   },
   "outputs": [],
   "source": [
    "finaldf.dtypes"
   ]
  },
  {
   "cell_type": "code",
   "execution_count": null,
   "metadata": {
    "collapsed": true
   },
   "outputs": [],
   "source": [
    "cols = ['gpslat','netgpslon']\n",
    "for col in cols: \n",
    "    finaldf[col] = pd.to_numeric(finaldf[col], errors='coerce')"
   ]
  },
  {
   "cell_type": "code",
   "execution_count": null,
   "metadata": {
    "collapsed": true
   },
   "outputs": [],
   "source": [
    "finaldf.reportlon = finaldf.reportlon*(-1)"
   ]
  },
  {
   "cell_type": "code",
   "execution_count": null,
   "metadata": {
    "collapsed": true
   },
   "outputs": [],
   "source": [
    "finaldf1 = finaldf[finaldf[col] >0]\n",
    "finaldf1.head()"
   ]
  },
  {
   "cell_type": "code",
   "execution_count": null,
   "metadata": {
    "collapsed": true
   },
   "outputs": [],
   "source": [
    "plt.scatter(finaldf1['gpslat'], finaldf1['reportlat'])\n",
    "plt.locator_params(nbins=10)\n",
    "plt.axis([min(finaldf1['gpslat']), max(finaldf1['gpslat']), min(finaldf1['reportlat']), max(finaldf1['reportlat'])])\n",
    "plt.show()"
   ]
  },
  {
   "cell_type": "code",
   "execution_count": null,
   "metadata": {
    "collapsed": true
   },
   "outputs": [],
   "source": [
    "[min(finaldf1['gpslat']), max(finaldf1['gpslat'])]"
   ]
  },
  {
   "cell_type": "code",
   "execution_count": null,
   "metadata": {
    "collapsed": true
   },
   "outputs": [],
   "source": [
    "plt.scatter(finaldf1['netgpslon'], finaldf1['reportlon'])\n",
    "plt.axis([min(finaldf1['netgpslon']), max(finaldf1['netgpslon']), min(finaldf1['reportlon']), max(finaldf1['reportlon'])])\n",
    "plt.show()"
   ]
  },
  {
   "cell_type": "code",
   "execution_count": null,
   "metadata": {
    "collapsed": true
   },
   "outputs": [],
   "source": [
    "[min(finaldf1['netgpslon']), max(finaldf1['netgpslon'])]"
   ]
  },
  {
   "cell_type": "code",
   "execution_count": null,
   "metadata": {
    "collapsed": true
   },
   "outputs": [],
   "source": [
    "plt.scatter(finaldf1['gpslat'], finaldf1['netgpslon'],color='g')\n",
    "\n",
    "\n",
    "plt.axis([37.4002, 37.4029, 121.9735, 121.9774])\n",
    "plt.show()"
   ]
  },
  {
   "cell_type": "code",
   "execution_count": null,
   "metadata": {
    "collapsed": true
   },
   "outputs": [],
   "source": [
    "plt.scatter(finaldf1['reportlat'], finaldf1['reportlon'],color='r')\n",
    "plt.axis([37.528,37.534,121.46,121.6])\n",
    "plt.show()"
   ]
  },
  {
   "cell_type": "code",
   "execution_count": null,
   "metadata": {
    "collapsed": true
   },
   "outputs": [],
   "source": [
    "finaldf.to_csv('fportwb.csv')\n",
    "\n",
    "for index, row in finaldf.iterrows():\n",
    "    tidr = long(row[\"tid\"])\n",
    "    tsr = str(row[\"ts\"])\n",
    "    latr = float(row[\"reportlat\"])\n",
    "    lonr = float(row[\"reportlon\"])\n",
    "    tempr = row[\"temp\"]\n",
    "    pressurer = row[\"pressure\"]\n",
    "    elevationr = row[\"elevation\"]\n",
    "    cur.execute(\n",
    "        \"INSERT INTO fport (TID, ts, LAT, LON, TEMP, PRESSURE, ELEVATION) VALUES ('tidr', 'tsr', 'latr', 'lonr', 'tempr', 'pressurer', 'elevationr')\")\n",
    "# #Some row indexing to get all the values back in\n",
    "#\tcur.execute(\"INSERT INTO fport VALUES (7, 1004, '2017-08-10T22:45:26.716094Z', -37.1, -122.2, 29.1, 89.1, 12000.0)\")\n",
    "# (/*RID, TID, ts, LAT, LON, TEMP, PRESSURE, ELEVATION */)\")\n",
    "# Can insert back in, but not writing back for some reason\n",
    "\n",
    "\n",
    "db.close()"
   ]
  },
  {
   "cell_type": "code",
   "execution_count": null,
   "metadata": {
    "collapsed": true
   },
   "outputs": [],
   "source": []
  }
 ],
 "metadata": {
  "kernelspec": {
   "display_name": "Python 2",
   "language": "python",
   "name": "python2"
  },
  "language_info": {
   "codemirror_mode": {
    "name": "ipython",
    "version": 2
   },
   "file_extension": ".py",
   "mimetype": "text/x-python",
   "name": "python",
   "nbconvert_exporter": "python",
   "pygments_lexer": "ipython2",
   "version": "2.7.14"
  }
 },
 "nbformat": 4,
 "nbformat_minor": 2
}
