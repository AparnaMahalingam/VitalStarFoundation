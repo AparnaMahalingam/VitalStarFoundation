{
 "cells": [
  {
   "cell_type": "code",
   "execution_count": 1,
   "metadata": {
    "collapsed": true
   },
   "outputs": [],
   "source": [
    "import matplotlib.pyplot as plt\n",
    "\n",
    "import MySQLdb\n",
    "from datetime import datetime\n",
    "import numpy as np\n",
    "import pandas as pd\n",
    "import re\n",
    "import math as math\n",
    "import trilatWrapper as tw\n",
    "import trilatDistWrapper as tdw\n"
   ]
  },
  {
   "cell_type": "code",
   "execution_count": 3,
   "metadata": {},
   "outputs": [
    {
     "data": {
      "text/html": [
       "<div>\n",
       "<style>\n",
       "    .dataframe thead tr:only-child th {\n",
       "        text-align: right;\n",
       "    }\n",
       "\n",
       "    .dataframe thead th {\n",
       "        text-align: left;\n",
       "    }\n",
       "\n",
       "    .dataframe tbody tr th {\n",
       "        vertical-align: top;\n",
       "    }\n",
       "</style>\n",
       "<table border=\"1\" class=\"dataframe\">\n",
       "  <thead>\n",
       "    <tr style=\"text-align: right;\">\n",
       "      <th></th>\n",
       "      <th>RID</th>\n",
       "      <th>MsgNo</th>\n",
       "      <th>TID</th>\n",
       "      <th>tmst</th>\n",
       "      <th>ts</th>\n",
       "      <th>gwip</th>\n",
       "      <th>gpslat</th>\n",
       "      <th>gpslon</th>\n",
       "      <th>temp</th>\n",
       "      <th>pressure</th>\n",
       "      <th>...</th>\n",
       "      <th>gwlon</th>\n",
       "      <th>rssic1</th>\n",
       "      <th>lsnr</th>\n",
       "      <th>etime</th>\n",
       "      <th>ftime</th>\n",
       "      <th>extraCol2</th>\n",
       "      <th>extraCol3</th>\n",
       "      <th>extraCol4</th>\n",
       "      <th>rssic</th>\n",
       "      <th>extraCol6</th>\n",
       "    </tr>\n",
       "  </thead>\n",
       "  <tbody>\n",
       "  </tbody>\n",
       "</table>\n",
       "<p>0 rows × 22 columns</p>\n",
       "</div>"
      ],
      "text/plain": [
       "Empty DataFrame\n",
       "Columns: [RID, MsgNo, TID, tmst, ts, gwip, gpslat, gpslon, temp, pressure, elevation, gwlat, gwlon, rssic1, lsnr, etime, ftime, extraCol2, extraCol3, extraCol4, rssic, extraCol6]\n",
       "Index: []\n",
       "\n",
       "[0 rows x 22 columns]"
      ]
     },
     "execution_count": 3,
     "metadata": {},
     "output_type": "execute_result"
    }
   ],
   "source": [
    "#filename = 'ServerData' + str(datetime.now()).replace(\" \", \"\").replace(\":\", \"-\") + '.csv'\n",
    "filename = 'ServerData2017-12-1014-13-16.648760.csv'\n",
    "f = open(filename, 'r')\n",
    "serverdata = pd.read_csv(filename,\n",
    "                         names=[\"RID\", \"MsgNo\", \"TID\", \"tmst\", \"ts\", \"gwip\", \"gpslat\", \"gpslon\", \"temp\", \"pressure\",\n",
    "                                \"elevation\", \"gwlat\", \"gwlon\", \"rssic1\", \"lsnr\", \"etime\", \"ftime\",\"extraCol2\",\"extraCol3\",\n",
    "                               \"extraCol4\",\"rssic\",\"extraCol6\"])\n",
    "f.close()\n",
    "serverdata.head()"
   ]
  }
 ],
 "metadata": {
  "kernelspec": {
   "display_name": "Python 2",
   "language": "python",
   "name": "python2"
  },
  "language_info": {
   "codemirror_mode": {
    "name": "ipython",
    "version": 2
   },
   "file_extension": ".py",
   "mimetype": "text/x-python",
   "name": "python",
   "nbconvert_exporter": "python",
   "pygments_lexer": "ipython2",
   "version": "2.7.14"
  }
 },
 "nbformat": 4,
 "nbformat_minor": 2
}
