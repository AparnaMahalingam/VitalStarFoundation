{
 "cells": [
  {
   "cell_type": "code",
   "execution_count": 7,
   "metadata": {},
   "outputs": [
    {
     "data": {
      "text/plain": [
       "500.5"
      ]
     },
     "execution_count": 7,
     "metadata": {},
     "output_type": "execute_result"
    }
   ],
   "source": [
    "sc.parallelize(1 to 1000).mean()"
   ]
  },
  {
   "cell_type": "code",
   "execution_count": 8,
   "metadata": {},
   "outputs": [
    {
     "data": {
      "text/plain": [
       "firstDF = [value: int]\n"
      ]
     },
     "metadata": {},
     "output_type": "display_data"
    },
    {
     "data": {
      "text/plain": [
       "[value: int]"
      ]
     },
     "execution_count": 8,
     "metadata": {},
     "output_type": "execute_result"
    }
   ],
   "source": [
    "val firstDF = sc.parallelize(1 to 1000).toDF()"
   ]
  },
  {
   "cell_type": "code",
   "execution_count": 12,
   "metadata": {},
   "outputs": [
    {
     "name": "stdout",
     "output_type": "stream",
     "text": [
      "+-----+\n",
      "|value|\n",
      "+-----+\n",
      "|    1|\n",
      "|    2|\n",
      "|    3|\n",
      "|    4|\n",
      "|    5|\n",
      "|    6|\n",
      "|    7|\n",
      "|    8|\n",
      "|    9|\n",
      "|   10|\n",
      "+-----+\n",
      "only showing top 10 rows\n",
      "\n"
     ]
    }
   ],
   "source": [
    "firstDF.show(10)"
   ]
  },
  {
   "cell_type": "code",
   "execution_count": 4,
   "metadata": {},
   "outputs": [
    {
     "name": "stdout",
     "output_type": "stream",
     "text": [
      "hello jupyter\n"
     ]
    },
    {
     "data": {
      "text/plain": [
       "b = 1.0\n",
       "name = jupyter\n"
      ]
     },
     "metadata": {},
     "output_type": "display_data"
    },
    {
     "data": {
      "text/plain": [
       "jupyter"
      ]
     },
     "execution_count": 4,
     "metadata": {},
     "output_type": "execute_result"
    }
   ],
   "source": [
    "val b:Double = 1.0\n",
    "var name = \"jupyter\"\n",
    "println(f\"hello $name\")"
   ]
  },
  {
   "cell_type": "code",
   "execution_count": 16,
   "metadata": {},
   "outputs": [
    {
     "data": {
      "text/plain": [
       "shingle: (str: String, size: Int)Array[String]\n"
      ]
     },
     "metadata": {},
     "output_type": "display_data"
    }
   ],
   "source": [
    "def shingle(str: String, size: Int): Array[String] = {\n",
    "    str.sliding(size).toArray\n",
    "  }"
   ]
  },
  {
   "cell_type": "code",
   "execution_count": 15,
   "metadata": {},
   "outputs": [
    {
     "data": {
      "text/plain": [
       "str = jupyter\n",
       "hashBytes = Array(-72, -50, -61, 111, 34, 28, -127, -125)\n"
      ]
     },
     "metadata": {},
     "output_type": "display_data"
    },
    {
     "data": {
      "text/plain": [
       "[-72, -50, -61, 111, 34, 28, -127, -125]"
      ]
     },
     "execution_count": 15,
     "metadata": {},
     "output_type": "execute_result"
    }
   ],
   "source": [
    "import java.security.MessageDigest\n",
    "\n",
    "val str: String = \"jupyter\"\n",
    "val hashBytes = MessageDigest.getInstance(\"SHA-1\").digest(str.getBytes).takeRight(8)"
   ]
  },
  {
   "cell_type": "code",
   "execution_count": 17,
   "metadata": {},
   "outputs": [
    {
     "data": {
      "text/plain": [
       "defined class RawCompany\n"
      ]
     },
     "metadata": {},
     "output_type": "display_data"
    }
   ],
   "source": [
    "case class RawCompany(\n",
    "                      name: String,\n",
    "                      relaxed_name: String,\n",
    "                      domain: String,\n",
    "                      website: String,\n",
    "                      bldg_number: String,\n",
    "                      road_name: String,\n",
    "                      road_type: String,\n",
    "                      unit: String,\n",
    "                      city: String,\n",
    "                      state: String,\n",
    "                      postcode: String,\n",
    "                      country: String,\n",
    "                      source_name: String,\n",
    "                      id_in_source: String)\n"
   ]
  },
  {
   "cell_type": "code",
   "execution_count": 21,
   "metadata": {},
   "outputs": [
    {
     "data": {
      "text/plain": [
       "Name: Compile Error\n",
       "Message: <console>:31: error: not found: value classpath\n",
       "       classpath.addPath(localDir)\n",
       "       ^\n",
       "\n",
       "StackTrace: "
      ]
     },
     "execution_count": 21,
     "metadata": {},
     "output_type": "execute_result"
    }
   ],
   "source": [
    "val localDir = \"/Users/jonathan/Code/VitalScientist\"\n",
    "\n",
    "#classpath.addPath(localDir)"
   ]
  },
  {
   "cell_type": "code",
   "execution_count": 1,
   "metadata": {},
   "outputs": [
    {
     "name": "stdout",
     "output_type": "stream",
     "text": [
      "Starting download from file:///Users/jonathan/Code/VitalScientist/stanford-corenlp.jar\n",
      "Finished download of stanford-corenlp.jar\n",
      "Starting download from file:///Users/jonathan/Code/VitalScientist/xom.jar\n",
      "Finished download of xom.jar\n",
      "Starting download from file:///Users/jonathan/Code/VitalScientist/stanford-corenlp-3.8.0-models.jar\n",
      "Finished download of stanford-corenlp-3.8.0-models.jar\n",
      "Starting download from file:///Users/jonathan/Code/VitalScientist/joda-time.jar\n",
      "Finished download of joda-time.jar\n",
      "Starting download from file:///Users/jonathan/Code/VitalScientist/javax.json-api-1.0-sources.jar\n",
      "Finished download of javax.json-api-1.0-sources.jar\n",
      "Starting download from file:///Users/jonathan/Code/VitalScientist/ejml-0.23.jar\n",
      "Finished download of ejml-0.23.jar\n",
      "Starting download from file:///Users/jonathan/Code/VitalScientist/slf4j-api.jar\n",
      "Finished download of slf4j-api.jar\n",
      "Using cached version of stanford-corenlp-3.8.0-models.jar\n",
      "Starting download from file:///Users/jonathan/Code/VitalScientist/protobuf.jar\n",
      "Finished download of protobuf.jar\n",
      "Using cached version of stanford-corenlp.jar\n",
      "Using cached version of joda-time.jar\n",
      "Starting download from file:///Users/jonathan/Code/VitalScientist/joda-time-2.9-sources.jar\n",
      "Finished download of joda-time-2.9-sources.jar\n",
      "Starting download from file:///Users/jonathan/Code/VitalScientist/xom-1.2.10-src.jar\n",
      "Finished download of xom-1.2.10-src.jar\n",
      "Using cached version of xom.jar\n",
      "Starting download from file:///Users/jonathan/Code/VitalScientist/javax.json.jar\n",
      "Finished download of javax.json.jar\n",
      "Starting download from file:///Users/jonathan/Code/VitalScientist/stanford-corenlp-3.8.0-javadoc.jar\n",
      "Finished download of stanford-corenlp-3.8.0-javadoc.jar\n",
      "Starting download from file:///Users/jonathan/Code/VitalScientist/jollyday.jar\n",
      "Finished download of jollyday.jar\n",
      "Starting download from file:///Users/jonathan/Code/VitalScientist/stanford-corenlp-3.8.0-sources.jar\n",
      "Finished download of stanford-corenlp-3.8.0-sources.jar\n",
      "Starting download from file:///Users/jonathan/Code/VitalScientist/slf4j-simple.jar\n",
      "Finished download of slf4j-simple.jar\n",
      "Starting download from file:///Users/jonathan/Code/VitalScientist/stanford-corenlp-3.8.0.jar\n",
      "Finished download of stanford-corenlp-3.8.0.jar\n",
      "Starting download from file:///Users/jonathan/Code/VitalScientist/jollyday-0.4.9-sources.jar\n",
      "Finished download of jollyday-0.4.9-sources.jar\n"
     ]
    }
   ],
   "source": [
    "%AddJar file:///Users/jonathan/Code/VitalScientist/stanford-corenlp.jar\n",
    "%addjar file:///Users/jonathan/Code/VitalScientist/xom.jar\n",
    "%addjar file:///Users/jonathan/Code/VitalScientist/stanford-corenlp-3.8.0-models.jar\n",
    "%addjar file:///Users/jonathan/Code/VitalScientist/joda-time.jar\n",
    "%addjar file:///Users/jonathan/Code/VitalScientist/javax.json-api-1.0-sources.jar\n",
    "%addjar file:///Users/jonathan/Code/VitalScientist/ejml-0.23.jar\n",
    "%addjar file:///Users/jonathan/Code/VitalScientist/slf4j-api.jar\n",
    "%addjar file:///Users/jonathan/Code/VitalScientist/stanford-corenlp-3.8.0-models.jar\n",
    "%addjar file:///Users/jonathan/Code/VitalScientist/protobuf.jar\n",
    "%addjar file:///Users/jonathan/Code/VitalScientist/stanford-corenlp.jar\n",
    "%addjar file:///Users/jonathan/Code/VitalScientist/joda-time.jar\n",
    "%addjar file:///Users/jonathan/Code/VitalScientist/joda-time-2.9-sources.jar\n",
    "%addjar file:///Users/jonathan/Code/VitalScientist/xom-1.2.10-src.jar\n",
    "%addjar file:///Users/jonathan/Code/VitalScientist/xom.jar\n",
    "%addjar file:///Users/jonathan/Code/VitalScientist/javax.json.jar\n",
    "%addjar file:///Users/jonathan/Code/VitalScientist/stanford-corenlp-3.8.0-javadoc.jar\n",
    "%addjar file:///Users/jonathan/Code/VitalScientist/jollyday.jar\n",
    "%addjar file:///Users/jonathan/Code/VitalScientist/stanford-corenlp-3.8.0-sources.jar\n",
    "%addjar file:///Users/jonathan/Code/VitalScientist/slf4j-simple.jar\n",
    "%addjar file:///Users/jonathan/Code/VitalScientist/stanford-corenlp-3.8.0.jar\n",
    "%addjar file:///Users/jonathan/Code/VitalScientist/jollyday-0.4.9-sources.jar\n"
   ]
  },
  {
   "cell_type": "code",
   "execution_count": 2,
   "metadata": {},
   "outputs": [
    {
     "data": {
      "text/plain": [
       "annotators = Array(tokenize, ssplit)\n",
       "props = {annotators=tokenize,ssplit}\n"
      ]
     },
     "metadata": {},
     "output_type": "display_data"
    },
    {
     "data": {
      "text/plain": [
       "res3: Object = null\n"
      ]
     },
     "metadata": {},
     "output_type": "display_data"
    },
    {
     "data": {
      "text/plain": [
       "{annotators=tokenize,ssplit}"
      ]
     },
     "execution_count": 2,
     "metadata": {},
     "output_type": "execute_result"
    }
   ],
   "source": [
    "import edu.stanford.nlp.pipeline.StanfordCoreNLP\n",
    "import edu.stanford.nlp.pipeline.Annotation\n",
    "import java.util.Properties\n",
    "\n",
    "val annotators: Array[String] = Array(\"tokenize\", \"ssplit\")\n",
    "val props = new Properties()\n",
    "props.setProperty(\"annotators\", annotators.mkString(\",\"))"
   ]
  },
  {
   "cell_type": "code",
   "execution_count": 3,
   "metadata": {},
   "outputs": [
    {
     "data": {
      "text/plain": [
       "{annotators=tokenize,ssplit}"
      ]
     },
     "execution_count": 3,
     "metadata": {},
     "output_type": "execute_result"
    }
   ],
   "source": [
    "props"
   ]
  },
  {
   "cell_type": "code",
   "execution_count": null,
   "metadata": {},
   "outputs": [
    {
     "name": "stdout",
     "output_type": "stream",
     "text": [
      "Adding annotator tokenize\n",
      "Adding annotator ssplit\n"
     ]
    },
    {
     "data": {
      "text/plain": [
       "nlp = edu.stanford.nlp.pipeline.StanfordCoreNLP@177b536e\n"
      ]
     },
     "metadata": {},
     "output_type": "display_data"
    }
   ],
   "source": [
    "val nlp = new StanfordCoreNLP(props)"
   ]
  },
  {
   "cell_type": "code",
   "execution_count": 2,
   "metadata": {},
   "outputs": [
    {
     "data": {
      "text/plain": [
       "Name: Compile Error\n",
       "Message: <console>:256: error: object tartarus is not a member of package org\n",
       "       import org.tartarus.snowball.ext.EnglishStemmer\n",
       "                  ^\n",
       "\n",
       "StackTrace: "
      ]
     },
     "execution_count": 2,
     "metadata": {},
     "output_type": "execute_result"
    }
   ],
   "source": [
    "import org.tartarus.snowball.ext.EnglishStemmer"
   ]
  },
  {
   "cell_type": "code",
   "execution_count": null,
   "metadata": {
    "collapsed": true
   },
   "outputs": [],
   "source": [
    "%lsmagic"
   ]
  },
  {
   "cell_type": "code",
   "execution_count": 11,
   "metadata": {},
   "outputs": [
    {
     "name": "stdout",
     "output_type": "stream",
     "text": [
      "ShowTypes is currently off \n"
     ]
    }
   ],
   "source": [
    "%showtypes"
   ]
  },
  {
   "cell_type": "code",
   "execution_count": 16,
   "metadata": {},
   "outputs": [
    {
     "data": {
      "text/plain": [
       "Magic pyspark failed to execute with error: \n",
       "Traceback (most recent call last):\n",
       "  File \"/var/folders/7_/l_jnhqj928ggqmr7tfb1b5000000gn/T/kernel-PySpark-51e6ab05-b7bf-4c3c-9aa1-48ad34586eae/pyspark_runner.py\", line 188, in <module>\n",
       "    ast_parsed = ast.parse(final_code)\n",
       "  File \"/Users/jonathan/anaconda2/lib/python2.7/ast.py\", line 37, in parse\n",
       "    return compile(source, filename, mode, PyCF_ONLY_AST)\n",
       "  File \"<unknown>\", line 2\n",
       "    pd.merge?\n",
       "            ^\n",
       "SyntaxError: invalid syntax\n"
      ]
     },
     "execution_count": 16,
     "metadata": {},
     "output_type": "execute_result"
    }
   ],
   "source": [
    "%%pyspark\n",
    "import panda as pd\n",
    "pd.merge?"
   ]
  },
  {
   "cell_type": "code",
   "execution_count": null,
   "metadata": {
    "collapsed": true
   },
   "outputs": [],
   "source": []
  }
 ],
 "metadata": {
  "kernelspec": {
   "display_name": "Apache Toree - Scala",
   "language": "scala",
   "name": "apache_toree_scala"
  },
  "language_info": {
   "codemirror_mode": "text/x-scala",
   "file_extension": ".scala",
   "mimetype": "text/x-scala",
   "name": "scala",
   "pygments_lexer": "scala",
   "version": "2.11.8"
  }
 },
 "nbformat": 4,
 "nbformat_minor": 2
}
